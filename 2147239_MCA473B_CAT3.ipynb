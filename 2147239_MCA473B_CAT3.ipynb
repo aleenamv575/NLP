{
  "nbformat": 4,
  "nbformat_minor": 0,
  "metadata": {
    "colab": {
      "provenance": [],
      "collapsed_sections": []
    },
    "kernelspec": {
      "name": "python3",
      "display_name": "Python 3"
    },
    "language_info": {
      "name": "python"
    }
  },
  "cells": [
    {
      "cell_type": "code",
      "source": [
        "#import necesaary libraries \n",
        "import nltk\n",
        "nltk.download('punkt')\n",
        "nltk.download('stopwords')\n",
        "from nltk.corpus import stopwords\n",
        "from nltk.tokenize import word_tokenize\n",
        "from nltk.probability import FreqDist\n",
        "from nltk.tokenize import (sent_tokenize,word_tokenize,WordPunctTokenizer)\n"
      ],
      "metadata": {
        "id": "XFvMtmwCQnuk",
        "colab": {
          "base_uri": "https://localhost:8080/"
        },
        "outputId": "2647df66-3e66-4450-a33d-590f420ee568"
      },
      "execution_count": null,
      "outputs": [
        {
          "output_type": "stream",
          "name": "stderr",
          "text": [
            "[nltk_data] Downloading package punkt to /root/nltk_data...\n",
            "[nltk_data]   Package punkt is already up-to-date!\n",
            "[nltk_data] Downloading package stopwords to /root/nltk_data...\n",
            "[nltk_data]   Package stopwords is already up-to-date!\n"
          ]
        }
      ]
    },
    {
      "cell_type": "markdown",
      "source": [
        "sentence= “Early in 1969, Fiat took a 50% stake in Ferrari. An immediate result was an\n",
        "increase in available investment funds, and work started at once on a factory\n",
        "extension intended to transfer production from Fiat&#39;s Turin plant of the Ferrari\n",
        "engined Fiat Dino. New model investment further up in the Ferrari range also\n",
        "received a boost”  \n",
        "For the above passage,\n",
        "a. Generate Sentence &amp; Word tokens. (3 MARKS)\n",
        "b. Remove the Stop words. (3 MARKS)\n",
        "c. Implement Lemmatization and Stemming of any 5 cleaned tokens."
      ],
      "metadata": {
        "id": "qCfXDHlCfqtT"
      }
    },
    {
      "cell_type": "code",
      "source": [],
      "metadata": {
        "id": "K_wv0VzQ3K-s"
      },
      "execution_count": null,
      "outputs": []
    },
    {
      "cell_type": "markdown",
      "source": [
        "##TOKENIZING## \n",
        "a) Generate sentence and word tokens"
      ],
      "metadata": {
        "id": "8casDnMcUeSQ"
      }
    },
    {
      "cell_type": "code",
      "source": [
        "text= \"Early in 1969, Fiat took a 50% stake in Ferrari. An immediate result was an increase in available investment funds, and work started at once on a factoryextension intended to transfer production from Fiat&#39;s Turin plant of the Ferrariengined Fiat Dino. New model investment further up in the Ferrari range alsoreceived a boost \""
      ],
      "metadata": {
        "id": "Nb7WIWqTQoKK"
      },
      "execution_count": null,
      "outputs": []
    },
    {
      "cell_type": "code",
      "source": [
        "Tokenizer= WordPunctTokenizer()  #tokenizing based on punctuation marks \n",
        "print(Tokenizer.tokenize(text))"
      ],
      "metadata": {
        "id": "dYldWdEhQmaN",
        "colab": {
          "base_uri": "https://localhost:8080/"
        },
        "outputId": "d7982bef-3e5b-458b-d185-2b3adfd78edd"
      },
      "execution_count": null,
      "outputs": [
        {
          "output_type": "stream",
          "name": "stdout",
          "text": [
            "['Early', 'in', '1969', ',', 'Fiat', 'took', 'a', '50', '%', 'stake', 'in', 'Ferrari', '.', 'An', 'immediate', 'result', 'was', 'an', 'increase', 'in', 'available', 'investment', 'funds', ',', 'and', 'work', 'started', 'at', 'once', 'on', 'a', 'factoryextension', 'intended', 'to', 'transfer', 'production', 'from', 'Fiat', '&#', '39', ';', 's', 'Turin', 'plant', 'of', 'the', 'Ferrariengined', 'Fiat', 'Dino', '.', 'New', 'model', 'investment', 'further', 'up', 'in', 'the', 'Ferrari', 'range', 'alsoreceived', 'a', 'boost']\n"
          ]
        }
      ]
    },
    {
      "cell_type": "code",
      "source": [
        "w = word_tokenize(text) #tokenizing words\n",
        "print(w)\n",
        "\n",
        "print (\"Total words are \", len(w))\n"
      ],
      "metadata": {
        "id": "QwzksMe4Qmpl",
        "colab": {
          "base_uri": "https://localhost:8080/"
        },
        "outputId": "1d1ae1ac-9f53-456f-b236-12164fdff24b"
      },
      "execution_count": null,
      "outputs": [
        {
          "output_type": "stream",
          "name": "stdout",
          "text": [
            "['Early', 'in', '1969', ',', 'Fiat', 'took', 'a', '50', '%', 'stake', 'in', 'Ferrari', '.', 'An', 'immediate', 'result', 'was', 'an', 'increase', 'in', 'available', 'investment', 'funds', ',', 'and', 'work', 'started', 'at', 'once', 'on', 'a', 'factoryextension', 'intended', 'to', 'transfer', 'production', 'from', 'Fiat', '&', '#', '39', ';', 's', 'Turin', 'plant', 'of', 'the', 'Ferrariengined', 'Fiat', 'Dino', '.', 'New', 'model', 'investment', 'further', 'up', 'in', 'the', 'Ferrari', 'range', 'alsoreceived', 'a', 'boost']\n",
            "Total words are  63\n"
          ]
        }
      ]
    },
    {
      "cell_type": "code",
      "source": [
        "s= sent_tokenize(text) #tokenizing sentences\n",
        "print (s)"
      ],
      "metadata": {
        "colab": {
          "base_uri": "https://localhost:8080/"
        },
        "id": "l44Fhi0CNqv3",
        "outputId": "fd5de0c1-7bf0-4ad4-b38d-4be8b0c46c30"
      },
      "execution_count": null,
      "outputs": [
        {
          "output_type": "stream",
          "name": "stdout",
          "text": [
            "['Early in 1969, Fiat took a 50% stake in Ferrari.', 'An immediate result was an increase in available investment funds, and work started at once on a factoryextension intended to transfer production from Fiat&#39;s Turin plant of the Ferrariengined Fiat Dino.', 'New model investment further up in the Ferrari range alsoreceived a boost']\n"
          ]
        }
      ]
    },
    {
      "cell_type": "code",
      "source": [
        "from nltk.tokenize import RegexpTokenizer  #removing punctuation marks\n",
        "\n",
        "tokenizer = RegexpTokenizer(r'\\w+')\n",
        "rem_punc= tokenizer.tokenize(text)"
      ],
      "metadata": {
        "id": "TlL8G-TYJ_W6"
      },
      "execution_count": null,
      "outputs": []
    },
    {
      "cell_type": "code",
      "source": [
        "print (rem_punc)"
      ],
      "metadata": {
        "colab": {
          "base_uri": "https://localhost:8080/"
        },
        "id": "F_g2Fu_CKhIO",
        "outputId": "06f05fbc-718a-4c22-e8f1-32c49f40dd42"
      },
      "execution_count": null,
      "outputs": [
        {
          "output_type": "stream",
          "name": "stdout",
          "text": [
            "['Early', 'in', '1969', 'Fiat', 'took', 'a', '50', 'stake', 'in', 'Ferrari', 'An', 'immediate', 'result', 'was', 'an', 'increase', 'in', 'available', 'investment', 'funds', 'and', 'work', 'started', 'at', 'once', 'on', 'a', 'factoryextension', 'intended', 'to', 'transfer', 'production', 'from', 'Fiat', '39', 's', 'Turin', 'plant', 'of', 'the', 'Ferrariengined', 'Fiat', 'Dino', 'New', 'model', 'investment', 'further', 'up', 'in', 'the', 'Ferrari', 'range', 'alsoreceived', 'a', 'boost']\n"
          ]
        }
      ]
    },
    {
      "cell_type": "markdown",
      "source": [
        "##B)REMOVE STOPWORDS##"
      ],
      "metadata": {
        "id": "X3Fp9E5kWS_w"
      }
    },
    {
      "cell_type": "code",
      "source": [
        "nltk.download('wordnet')\n",
        "nltk.download('omw-1.4')\n",
        "from nltk.corpus import wordnet\n",
        "from nltk.corpus import wordnet as wn"
      ],
      "metadata": {
        "colab": {
          "base_uri": "https://localhost:8080/"
        },
        "id": "xB-8vPWeQhdD",
        "outputId": "e223bc7f-a180-49a6-87db-44651078d293"
      },
      "execution_count": null,
      "outputs": [
        {
          "output_type": "stream",
          "name": "stderr",
          "text": [
            "[nltk_data] Downloading package wordnet to /root/nltk_data...\n",
            "[nltk_data] Downloading package omw-1.4 to /root/nltk_data...\n"
          ]
        }
      ]
    },
    {
      "cell_type": "code",
      "source": [
        "stop_words = set(stopwords.words('english'))\n",
        "\n",
        "word_tokens = word_tokenize(text)"
      ],
      "metadata": {
        "id": "4bL0gQNZNNWL"
      },
      "execution_count": null,
      "outputs": []
    },
    {
      "cell_type": "code",
      "source": [
        "stop_words"
      ],
      "metadata": {
        "colab": {
          "base_uri": "https://localhost:8080/"
        },
        "id": "3n2eVMbANO89",
        "outputId": "74ad11c3-2d2f-4113-e9f6-3da90d0f042e"
      },
      "execution_count": null,
      "outputs": [
        {
          "output_type": "execute_result",
          "data": {
            "text/plain": [
              "{'a',\n",
              " 'about',\n",
              " 'above',\n",
              " 'after',\n",
              " 'again',\n",
              " 'against',\n",
              " 'ain',\n",
              " 'all',\n",
              " 'am',\n",
              " 'an',\n",
              " 'and',\n",
              " 'any',\n",
              " 'are',\n",
              " 'aren',\n",
              " \"aren't\",\n",
              " 'as',\n",
              " 'at',\n",
              " 'be',\n",
              " 'because',\n",
              " 'been',\n",
              " 'before',\n",
              " 'being',\n",
              " 'below',\n",
              " 'between',\n",
              " 'both',\n",
              " 'but',\n",
              " 'by',\n",
              " 'can',\n",
              " 'couldn',\n",
              " \"couldn't\",\n",
              " 'd',\n",
              " 'did',\n",
              " 'didn',\n",
              " \"didn't\",\n",
              " 'do',\n",
              " 'does',\n",
              " 'doesn',\n",
              " \"doesn't\",\n",
              " 'doing',\n",
              " 'don',\n",
              " \"don't\",\n",
              " 'down',\n",
              " 'during',\n",
              " 'each',\n",
              " 'few',\n",
              " 'for',\n",
              " 'from',\n",
              " 'further',\n",
              " 'had',\n",
              " 'hadn',\n",
              " \"hadn't\",\n",
              " 'has',\n",
              " 'hasn',\n",
              " \"hasn't\",\n",
              " 'have',\n",
              " 'haven',\n",
              " \"haven't\",\n",
              " 'having',\n",
              " 'he',\n",
              " 'her',\n",
              " 'here',\n",
              " 'hers',\n",
              " 'herself',\n",
              " 'him',\n",
              " 'himself',\n",
              " 'his',\n",
              " 'how',\n",
              " 'i',\n",
              " 'if',\n",
              " 'in',\n",
              " 'into',\n",
              " 'is',\n",
              " 'isn',\n",
              " \"isn't\",\n",
              " 'it',\n",
              " \"it's\",\n",
              " 'its',\n",
              " 'itself',\n",
              " 'just',\n",
              " 'll',\n",
              " 'm',\n",
              " 'ma',\n",
              " 'me',\n",
              " 'mightn',\n",
              " \"mightn't\",\n",
              " 'more',\n",
              " 'most',\n",
              " 'mustn',\n",
              " \"mustn't\",\n",
              " 'my',\n",
              " 'myself',\n",
              " 'needn',\n",
              " \"needn't\",\n",
              " 'no',\n",
              " 'nor',\n",
              " 'not',\n",
              " 'now',\n",
              " 'o',\n",
              " 'of',\n",
              " 'off',\n",
              " 'on',\n",
              " 'once',\n",
              " 'only',\n",
              " 'or',\n",
              " 'other',\n",
              " 'our',\n",
              " 'ours',\n",
              " 'ourselves',\n",
              " 'out',\n",
              " 'over',\n",
              " 'own',\n",
              " 're',\n",
              " 's',\n",
              " 'same',\n",
              " 'shan',\n",
              " \"shan't\",\n",
              " 'she',\n",
              " \"she's\",\n",
              " 'should',\n",
              " \"should've\",\n",
              " 'shouldn',\n",
              " \"shouldn't\",\n",
              " 'so',\n",
              " 'some',\n",
              " 'such',\n",
              " 't',\n",
              " 'than',\n",
              " 'that',\n",
              " \"that'll\",\n",
              " 'the',\n",
              " 'their',\n",
              " 'theirs',\n",
              " 'them',\n",
              " 'themselves',\n",
              " 'then',\n",
              " 'there',\n",
              " 'these',\n",
              " 'they',\n",
              " 'this',\n",
              " 'those',\n",
              " 'through',\n",
              " 'to',\n",
              " 'too',\n",
              " 'under',\n",
              " 'until',\n",
              " 'up',\n",
              " 've',\n",
              " 'very',\n",
              " 'was',\n",
              " 'wasn',\n",
              " \"wasn't\",\n",
              " 'we',\n",
              " 'were',\n",
              " 'weren',\n",
              " \"weren't\",\n",
              " 'what',\n",
              " 'when',\n",
              " 'where',\n",
              " 'which',\n",
              " 'while',\n",
              " 'who',\n",
              " 'whom',\n",
              " 'why',\n",
              " 'will',\n",
              " 'with',\n",
              " 'won',\n",
              " \"won't\",\n",
              " 'wouldn',\n",
              " \"wouldn't\",\n",
              " 'y',\n",
              " 'you',\n",
              " \"you'd\",\n",
              " \"you'll\",\n",
              " \"you're\",\n",
              " \"you've\",\n",
              " 'your',\n",
              " 'yours',\n",
              " 'yourself',\n",
              " 'yourselves'}"
            ]
          },
          "metadata": {},
          "execution_count": 16
        }
      ]
    },
    {
      "cell_type": "code",
      "source": [
        "len(word_tokens)\n",
        "word_tokens"
      ],
      "metadata": {
        "colab": {
          "base_uri": "https://localhost:8080/"
        },
        "id": "LtBw27rxNT-2",
        "outputId": "583db6f5-c08c-4af2-9717-42f26b768d38"
      },
      "execution_count": null,
      "outputs": [
        {
          "output_type": "execute_result",
          "data": {
            "text/plain": [
              "['Early',\n",
              " 'in',\n",
              " '1969',\n",
              " ',',\n",
              " 'Fiat',\n",
              " 'took',\n",
              " 'a',\n",
              " '50',\n",
              " '%',\n",
              " 'stake',\n",
              " 'in',\n",
              " 'Ferrari',\n",
              " '.',\n",
              " 'An',\n",
              " 'immediate',\n",
              " 'result',\n",
              " 'was',\n",
              " 'an',\n",
              " 'increase',\n",
              " 'in',\n",
              " 'available',\n",
              " 'investment',\n",
              " 'funds',\n",
              " ',',\n",
              " 'and',\n",
              " 'work',\n",
              " 'started',\n",
              " 'at',\n",
              " 'once',\n",
              " 'on',\n",
              " 'a',\n",
              " 'factoryextension',\n",
              " 'intended',\n",
              " 'to',\n",
              " 'transfer',\n",
              " 'production',\n",
              " 'from',\n",
              " 'Fiat',\n",
              " '&',\n",
              " '#',\n",
              " '39',\n",
              " ';',\n",
              " 's',\n",
              " 'Turin',\n",
              " 'plant',\n",
              " 'of',\n",
              " 'the',\n",
              " 'Ferrariengined',\n",
              " 'Fiat',\n",
              " 'Dino',\n",
              " '.',\n",
              " 'New',\n",
              " 'model',\n",
              " 'investment',\n",
              " 'further',\n",
              " 'up',\n",
              " 'in',\n",
              " 'the',\n",
              " 'Ferrari',\n",
              " 'range',\n",
              " 'alsoreceived',\n",
              " 'a',\n",
              " 'boost']"
            ]
          },
          "metadata": {},
          "execution_count": 17
        }
      ]
    },
    {
      "cell_type": "code",
      "source": [
        "filtered_sentence = [w for w in word_tokens if not w in stop_words]\n",
        "# filtered_sentence2=[w for w in word_tokens if w not in stop_words]"
      ],
      "metadata": {
        "id": "jLKz1xUxNZAJ"
      },
      "execution_count": null,
      "outputs": []
    },
    {
      "cell_type": "code",
      "source": [
        "print(filtered_sentence)"
      ],
      "metadata": {
        "colab": {
          "base_uri": "https://localhost:8080/"
        },
        "id": "DWw72XD2NfsF",
        "outputId": "f09dfe4d-501c-4ec1-8fb3-a16cc11d9992"
      },
      "execution_count": null,
      "outputs": [
        {
          "output_type": "stream",
          "name": "stdout",
          "text": [
            "['Early', '1969', ',', 'Fiat', 'took', '50', '%', 'stake', 'Ferrari', '.', 'An', 'immediate', 'result', 'increase', 'available', 'investment', 'funds', ',', 'work', 'started', 'factoryextension', 'intended', 'transfer', 'production', 'Fiat', '&', '#', '39', ';', 'Turin', 'plant', 'Ferrariengined', 'Fiat', 'Dino', '.', 'New', 'model', 'investment', 'Ferrari', 'range', 'alsoreceived', 'boost']\n"
          ]
        }
      ]
    },
    {
      "cell_type": "code",
      "source": [
        "filtered_sentence = []\n",
        "\n",
        "for w in word_tokens:\n",
        "    if w not in stop_words:\n",
        "        filtered_sentence.append(w)\n",
        "\n",
        "print(filtered_sentence)\n",
        "\n",
        "wordfreq = []\n",
        "for w in filtered_sentence:\n",
        "    wordfreq.append(filtered_sentence.count(w))\n",
        "\n",
        "print(filtered_sentence,wordfreq)"
      ],
      "metadata": {
        "colab": {
          "base_uri": "https://localhost:8080/"
        },
        "id": "2vZaTwtxNjzY",
        "outputId": "ff8f1bd6-948f-45d3-ceef-278a1253b00c"
      },
      "execution_count": null,
      "outputs": [
        {
          "output_type": "stream",
          "name": "stdout",
          "text": [
            "['Early', '1969', ',', 'Fiat', 'took', '50', '%', 'stake', 'Ferrari', '.', 'An', 'immediate', 'result', 'increase', 'available', 'investment', 'funds', ',', 'work', 'started', 'factoryextension', 'intended', 'transfer', 'production', 'Fiat', '&', '#', '39', ';', 'Turin', 'plant', 'Ferrariengined', 'Fiat', 'Dino', '.', 'New', 'model', 'investment', 'Ferrari', 'range', 'alsoreceived', 'boost']\n",
            "['Early', '1969', ',', 'Fiat', 'took', '50', '%', 'stake', 'Ferrari', '.', 'An', 'immediate', 'result', 'increase', 'available', 'investment', 'funds', ',', 'work', 'started', 'factoryextension', 'intended', 'transfer', 'production', 'Fiat', '&', '#', '39', ';', 'Turin', 'plant', 'Ferrariengined', 'Fiat', 'Dino', '.', 'New', 'model', 'investment', 'Ferrari', 'range', 'alsoreceived', 'boost'] [1, 1, 2, 3, 1, 1, 1, 1, 2, 2, 1, 1, 1, 1, 1, 2, 1, 2, 1, 1, 1, 1, 1, 1, 3, 1, 1, 1, 1, 1, 1, 1, 3, 1, 2, 1, 1, 2, 2, 1, 1, 1]\n"
          ]
        }
      ]
    },
    {
      "cell_type": "code",
      "source": [
        "for i in range(len(filtered_sentence)):\n",
        "    print(str(filtered_sentence[i])+\"==\"+str(wordfreq[i]))"
      ],
      "metadata": {
        "colab": {
          "base_uri": "https://localhost:8080/"
        },
        "id": "R2uC-jRgNpFc",
        "outputId": "9c2f8421-a542-4416-dc0e-2ed98737a377"
      },
      "execution_count": null,
      "outputs": [
        {
          "output_type": "stream",
          "name": "stdout",
          "text": [
            "Early==1\n",
            "1969==1\n",
            ",==2\n",
            "Fiat==3\n",
            "took==1\n",
            "50==1\n",
            "%==1\n",
            "stake==1\n",
            "Ferrari==2\n",
            ".==2\n",
            "An==1\n",
            "immediate==1\n",
            "result==1\n",
            "increase==1\n",
            "available==1\n",
            "investment==2\n",
            "funds==1\n",
            ",==2\n",
            "work==1\n",
            "started==1\n",
            "factoryextension==1\n",
            "intended==1\n",
            "transfer==1\n",
            "production==1\n",
            "Fiat==3\n",
            "&==1\n",
            "#==1\n",
            "39==1\n",
            ";==1\n",
            "Turin==1\n",
            "plant==1\n",
            "Ferrariengined==1\n",
            "Fiat==3\n",
            "Dino==1\n",
            ".==2\n",
            "New==1\n",
            "model==1\n",
            "investment==2\n",
            "Ferrari==2\n",
            "range==1\n",
            "alsoreceived==1\n",
            "boost==1\n"
          ]
        }
      ]
    },
    {
      "cell_type": "code",
      "source": [
        "import matplotlib.pyplot as plt\n",
        "plt.bar(filtered_sentence[:10],wordfreq[:10])\n",
        "plt.show()"
      ],
      "metadata": {
        "colab": {
          "base_uri": "https://localhost:8080/",
          "height": 265
        },
        "id": "4Y-rjlUfNtPp",
        "outputId": "c7310962-d19f-42ca-b064-86c389ae208a"
      },
      "execution_count": null,
      "outputs": [
        {
          "output_type": "display_data",
          "data": {
            "text/plain": [
              "<Figure size 432x288 with 1 Axes>"
            ],
            "image/png": "[encoded data removed]"
          },
          "metadata": {
            "needs_background": "light"
          }
        }
      ]
    },
    {
      "cell_type": "markdown",
      "source": [
        "C) LEMMATIZATION and STEMMING\n",
        "** Lemmatization always considers the context and converts the word to its meaningful root/dictionary(WordNet) form called Lemma.**"
      ],
      "metadata": {
        "id": "ij9dVRmcA6Om"
      }
    },
    {
      "cell_type": "code",
      "source": [
        "import nltk\n",
        "nltk.download('punkt')\n",
        "nltk.download('omw-1.4')\n",
        "nltk.download('wordnet')#WordNet is a lexical database (a collection of words) that has been used by major search engines and IR research projects for many years.\n",
        "#It offers lemmatization capabilities as well and is one of the earliest and most commonly used lemmatizers.\n",
        "import nltk\n",
        "from nltk.stem import PorterStemmer"
      ],
      "metadata": {
        "id": "ICRZpqCKZR61",
        "colab": {
          "base_uri": "https://localhost:8080/"
        },
        "outputId": "3d113db1-b114-4e01-f694-5b394b77dc33"
      },
      "execution_count": null,
      "outputs": [
        {
          "output_type": "stream",
          "name": "stderr",
          "text": [
            "[nltk_data] Downloading package punkt to /root/nltk_data...\n",
            "[nltk_data]   Package punkt is already up-to-date!\n",
            "[nltk_data] Downloading package omw-1.4 to /root/nltk_data...\n",
            "[nltk_data]   Package omw-1.4 is already up-to-date!\n",
            "[nltk_data] Downloading package wordnet to /root/nltk_data...\n",
            "[nltk_data]   Package wordnet is already up-to-date!\n"
          ]
        }
      ]
    },
    {
      "cell_type": "code",
      "source": [
        "from nltk.stem import WordNetLemmatizer"
      ],
      "metadata": {
        "id": "pttibyyyBMrS"
      },
      "execution_count": null,
      "outputs": []
    },
    {
      "cell_type": "code",
      "source": [
        "lemmatizer=WordNetLemmatizer()"
      ],
      "metadata": {
        "id": "PdrauHnrBX39"
      },
      "execution_count": null,
      "outputs": []
    },
    {
      "cell_type": "code",
      "source": [
        "print(lemmatizer.lemmatize(\"started\"))"
      ],
      "metadata": {
        "colab": {
          "base_uri": "https://localhost:8080/"
        },
        "id": "dKZ7aLtqBaup",
        "outputId": "1068a879-810f-41c2-e0d5-bf1d9869b34f"
      },
      "execution_count": null,
      "outputs": [
        {
          "output_type": "stream",
          "name": "stdout",
          "text": [
            "started\n"
          ]
        }
      ]
    },
    {
      "cell_type": "code",
      "source": [
        "#print([lemmatizer.lemmatize(get_wordnet_pos(w)) for w in nltk.word_tokenize(filtered_sentence)])\n",
        "for i in filtered_sentence:\n",
        "  print(lemmatizer.lemmatize(i))"
      ],
      "metadata": {
        "colab": {
          "base_uri": "https://localhost:8080/"
        },
        "id": "MS6r6Yy3BpNw",
        "outputId": "53d7a378-7fbf-415c-ca71-0efe7da84d35"
      },
      "execution_count": null,
      "outputs": [
        {
          "output_type": "stream",
          "name": "stdout",
          "text": [
            "Early\n",
            "1969\n",
            ",\n",
            "Fiat\n",
            "took\n",
            "50\n",
            "%\n",
            "stake\n",
            "Ferrari\n",
            ".\n",
            "An\n",
            "immediate\n",
            "result\n",
            "increase\n",
            "available\n",
            "investment\n",
            "fund\n",
            ",\n",
            "work\n",
            "started\n",
            "factoryextension\n",
            "intended\n",
            "transfer\n",
            "production\n",
            "Fiat\n",
            "&\n",
            "#\n",
            "39\n",
            ";\n",
            "Turin\n",
            "plant\n",
            "Ferrariengined\n",
            "Fiat\n",
            "Dino\n",
            ".\n",
            "New\n",
            "model\n",
            "investment\n",
            "Ferrari\n",
            "range\n",
            "alsoreceived\n",
            "boost\n"
          ]
        }
      ]
    },
    {
      "cell_type": "code",
      "source": [
        "li=[lemmatizer.lemmatize(i) for i in filtered_sentence]"
      ],
      "metadata": {
        "id": "rW9uqIXCByEd"
      },
      "execution_count": null,
      "outputs": []
    },
    {
      "cell_type": "code",
      "source": [
        "print(li)"
      ],
      "metadata": {
        "colab": {
          "base_uri": "https://localhost:8080/"
        },
        "id": "1SMjqkZDCOD4",
        "outputId": "c960f91c-32a9-41c6-f05d-a835b04266a2"
      },
      "execution_count": null,
      "outputs": [
        {
          "output_type": "stream",
          "name": "stdout",
          "text": [
            "['Early', '1969', ',', 'Fiat', 'took', '50', '%', 'stake', 'Ferrari', '.', 'An', 'immediate', 'result', 'increase', 'available', 'investment', 'fund', ',', 'work', 'started', 'factoryextension', 'intended', 'transfer', 'production', 'Fiat', '&', '#', '39', ';', 'Turin', 'plant', 'Ferrariengined', 'Fiat', 'Dino', '.', 'New', 'model', 'investment', 'Ferrari', 'range', 'alsoreceived', 'boost']\n"
          ]
        }
      ]
    },
    {
      "cell_type": "code",
      "source": [
        "#Lemmatize Single Word\n",
        "print(lemmatizer.lemmatize(\"took\"))\n",
        "#> bat\n",
        "\n",
        "print(lemmatizer.lemmatize(\"early\"))\n",
        "#> are\n",
        "\n",
        "print(lemmatizer.lemmatize(\"Ferari\"))\n",
        "#> foot"
      ],
      "metadata": {
        "colab": {
          "base_uri": "https://localhost:8080/"
        },
        "id": "p0hpo8VtCQsN",
        "outputId": "bca571be-7abf-4ab1-a857-f33b1c983aee"
      },
      "execution_count": null,
      "outputs": [
        {
          "output_type": "stream",
          "name": "stdout",
          "text": [
            "took\n",
            "early\n",
            "Ferari\n"
          ]
        }
      ]
    },
    {
      "cell_type": "code",
      "source": [
        "import nltk\n",
        "nltk.download('wordnet')\n",
        "nltk.download('omw-1.4')\n",
        "nltk.download('punkt') #punkt is used for tokenising sentences \n",
        "nltk.download('averaged_perceptron_tagger') #averaged_perceptron_tagger is used for tagging words with their parts of speech (POS). "
      ],
      "metadata": {
        "colab": {
          "base_uri": "https://localhost:8080/"
        },
        "id": "2nwlEzS2Cat8",
        "outputId": "59eb2226-2898-4d73-fffb-e560b3716247"
      },
      "execution_count": null,
      "outputs": [
        {
          "output_type": "stream",
          "name": "stderr",
          "text": [
            "[nltk_data] Downloading package wordnet to /root/nltk_data...\n",
            "[nltk_data]   Package wordnet is already up-to-date!\n",
            "[nltk_data] Downloading package omw-1.4 to /root/nltk_data...\n",
            "[nltk_data]   Package omw-1.4 is already up-to-date!\n",
            "[nltk_data] Downloading package punkt to /root/nltk_data...\n",
            "[nltk_data]   Package punkt is already up-to-date!\n",
            "[nltk_data] Downloading package averaged_perceptron_tagger to\n",
            "[nltk_data]     /root/nltk_data...\n",
            "[nltk_data]   Unzipping taggers/averaged_perceptron_tagger.zip.\n"
          ]
        },
        {
          "output_type": "execute_result",
          "data": {
            "text/plain": [
              "True"
            ]
          },
          "metadata": {},
          "execution_count": 39
        }
      ]
    },
    {
      "cell_type": "code",
      "source": [
        "from nltk.corpus import wordnet as wn\n",
        "from nltk.stem.wordnet import WordNetLemmatizer\n",
        "from nltk import word_tokenize, pos_tag\n",
        "from collections import defaultdict #pos tagging"
      ],
      "metadata": {
        "id": "ep5TWePRCfai"
      },
      "execution_count": null,
      "outputs": []
    },
    {
      "cell_type": "code",
      "source": [
        "tag_map = defaultdict(lambda : wn.NOUN)\n",
        "tag_map['J'] = wn.ADJ\n",
        "tag_map['V'] = wn.VERB\n",
        "tag_map['R'] = wn.ADV\n",
        "\n",
        "lemma_function = WordNetLemmatizer()\n",
        "for token, tag in pos_tag(filtered_sentence):\n",
        "\t\tlemma = lemma_function.lemmatize(token, tag_map[tag[0]])\n",
        "\t\tprint(token, \"=>\", lemma)"
      ],
      "metadata": {
        "colab": {
          "base_uri": "https://localhost:8080/"
        },
        "id": "xt86NcbCCjZX",
        "outputId": "2e2819d1-500e-4f69-bbc6-b532aad25e3e"
      },
      "execution_count": null,
      "outputs": [
        {
          "output_type": "stream",
          "name": "stdout",
          "text": [
            "Early => Early\n",
            "1969 => 1969\n",
            ", => ,\n",
            "Fiat => Fiat\n",
            "took => take\n",
            "50 => 50\n",
            "% => %\n",
            "stake => stake\n",
            "Ferrari => Ferrari\n",
            ". => .\n",
            "An => An\n",
            "immediate => immediate\n",
            "result => result\n",
            "increase => increase\n",
            "available => available\n",
            "investment => investment\n",
            "funds => fund\n",
            ", => ,\n",
            "work => work\n",
            "started => start\n",
            "factoryextension => factoryextension\n",
            "intended => intend\n",
            "transfer => transfer\n",
            "production => production\n",
            "Fiat => Fiat\n",
            "& => &\n",
            "# => #\n",
            "39 => 39\n",
            "; => ;\n",
            "Turin => Turin\n",
            "plant => plant\n",
            "Ferrariengined => Ferrariengined\n",
            "Fiat => Fiat\n",
            "Dino => Dino\n",
            ". => .\n",
            "New => New\n",
            "model => model\n",
            "investment => investment\n",
            "Ferrari => Ferrari\n",
            "range => range\n",
            "alsoreceived => alsoreceived\n",
            "boost => boost\n"
          ]
        }
      ]
    },
    {
      "cell_type": "code",
      "source": [
        "#Stemming usually operates on single word without knowledge of the context\n",
        "#Lemmatization usually considers words and the context of the word in the sentence"
      ],
      "metadata": {
        "id": "98c-HNkgDCYK"
      },
      "execution_count": null,
      "outputs": []
    },
    {
      "cell_type": "markdown",
      "source": [
        "Stemming is faster compared to lemmatization as it cuts the prefixesand suffixes without considering the context of the words. Due to its aggressiveness, there is a possibility that the outcome from the stemming algorithm may not be a valid word.\n",
        "\n"
      ],
      "metadata": {
        "id": "nWx-DdL6Dcd8"
      }
    },
    {
      "cell_type": "markdown",
      "source": [
        "WHY?? Stemming follows an algorithm with steps to perform on the words which makes it faster. Whereas, in lemmatization, you used a corpus also to supply lemma which makes it slower than stemming. you furthermore might had to define a parts-of-speech to get the proper lemma.\n",
        "\n",
        "Stemming is nothing but reducing the words to their root/base by removing suffixes. helping,helped-\"help\" STEMMING- TEXT NORMALIZATION\n",
        "\n",
        "Stemming algorithms: Porter Stemmer,Lancaster stemmer, Snowball Stemmer\n",
        "\n",
        "Porters Stemmer- is mainly known for Data Mining and Information Retrieval. Applications are limited to the English language only. The suffixes in the English language are made up of a combination of smaller and simpler suffixes. Known for its simplicity and speed. The advantage- it produces the best output from other stemmers and has less error rate."
      ],
      "metadata": {
        "id": "Q1lWYZAoDg5j"
      }
    },
    {
      "cell_type": "code",
      "source": [
        "import nltk\n",
        "from nltk.stem.porter import PorterStemmer\n",
        "porter_stemmer = PorterStemmer()\n",
        "from nltk.stem import WordNetLemmatizer\n",
        "wordnet_lemmatizer = WordNetLemmatizer()\n",
        "\n",
        "#Next find the roots of the word\n",
        "for w in filtered_sentence:\n",
        "       print( \"Actual: %s  Stem: %s\"  % (w,porter_stemmer.stem(w)))\n",
        "       print (\"Actual: %s  Lemma: %s\"  % (w,wordnet_lemmatizer.lemmatize(w)))"
      ],
      "metadata": {
        "colab": {
          "base_uri": "https://localhost:8080/"
        },
        "id": "gpEwMowgDY-T",
        "outputId": "ffc6bdde-fa88-4afc-df6e-9168dc816ddc"
      },
      "execution_count": null,
      "outputs": [
        {
          "output_type": "stream",
          "name": "stdout",
          "text": [
            "Actual: Early  Stem: earli\n",
            "Actual: Early  Lemma: Early\n",
            "Actual: 1969  Stem: 1969\n",
            "Actual: 1969  Lemma: 1969\n",
            "Actual: ,  Stem: ,\n",
            "Actual: ,  Lemma: ,\n",
            "Actual: Fiat  Stem: fiat\n",
            "Actual: Fiat  Lemma: Fiat\n",
            "Actual: took  Stem: took\n",
            "Actual: took  Lemma: took\n",
            "Actual: 50  Stem: 50\n",
            "Actual: 50  Lemma: 50\n",
            "Actual: %  Stem: %\n",
            "Actual: %  Lemma: %\n",
            "Actual: stake  Stem: stake\n",
            "Actual: stake  Lemma: stake\n",
            "Actual: Ferrari  Stem: ferrari\n",
            "Actual: Ferrari  Lemma: Ferrari\n",
            "Actual: .  Stem: .\n",
            "Actual: .  Lemma: .\n",
            "Actual: An  Stem: an\n",
            "Actual: An  Lemma: An\n",
            "Actual: immediate  Stem: immedi\n",
            "Actual: immediate  Lemma: immediate\n",
            "Actual: result  Stem: result\n",
            "Actual: result  Lemma: result\n",
            "Actual: increase  Stem: increas\n",
            "Actual: increase  Lemma: increase\n",
            "Actual: available  Stem: avail\n",
            "Actual: available  Lemma: available\n",
            "Actual: investment  Stem: invest\n",
            "Actual: investment  Lemma: investment\n",
            "Actual: funds  Stem: fund\n",
            "Actual: funds  Lemma: fund\n",
            "Actual: ,  Stem: ,\n",
            "Actual: ,  Lemma: ,\n",
            "Actual: work  Stem: work\n",
            "Actual: work  Lemma: work\n",
            "Actual: started  Stem: start\n",
            "Actual: started  Lemma: started\n",
            "Actual: factoryextension  Stem: factoryextens\n",
            "Actual: factoryextension  Lemma: factoryextension\n",
            "Actual: intended  Stem: intend\n",
            "Actual: intended  Lemma: intended\n",
            "Actual: transfer  Stem: transfer\n",
            "Actual: transfer  Lemma: transfer\n",
            "Actual: production  Stem: product\n",
            "Actual: production  Lemma: production\n",
            "Actual: Fiat  Stem: fiat\n",
            "Actual: Fiat  Lemma: Fiat\n",
            "Actual: &  Stem: &\n",
            "Actual: &  Lemma: &\n",
            "Actual: #  Stem: #\n",
            "Actual: #  Lemma: #\n",
            "Actual: 39  Stem: 39\n",
            "Actual: 39  Lemma: 39\n",
            "Actual: ;  Stem: ;\n",
            "Actual: ;  Lemma: ;\n",
            "Actual: Turin  Stem: turin\n",
            "Actual: Turin  Lemma: Turin\n",
            "Actual: plant  Stem: plant\n",
            "Actual: plant  Lemma: plant\n",
            "Actual: Ferrariengined  Stem: ferrariengin\n",
            "Actual: Ferrariengined  Lemma: Ferrariengined\n",
            "Actual: Fiat  Stem: fiat\n",
            "Actual: Fiat  Lemma: Fiat\n",
            "Actual: Dino  Stem: dino\n",
            "Actual: Dino  Lemma: Dino\n",
            "Actual: .  Stem: .\n",
            "Actual: .  Lemma: .\n",
            "Actual: New  Stem: new\n",
            "Actual: New  Lemma: New\n",
            "Actual: model  Stem: model\n",
            "Actual: model  Lemma: model\n",
            "Actual: investment  Stem: invest\n",
            "Actual: investment  Lemma: investment\n",
            "Actual: Ferrari  Stem: ferrari\n",
            "Actual: Ferrari  Lemma: Ferrari\n",
            "Actual: range  Stem: rang\n",
            "Actual: range  Lemma: range\n",
            "Actual: alsoreceived  Stem: alsoreceiv\n",
            "Actual: alsoreceived  Lemma: alsoreceived\n",
            "Actual: boost  Stem: boost\n",
            "Actual: boost  Lemma: boost\n"
          ]
        }
      ]
    },
    {
      "cell_type": "code",
      "source": [
        "#STEMMING DOES NOT USE POS TAGS\n",
        "#LEMMATIZATION USES POS TAGS\n"
      ],
      "metadata": {
        "id": "71GHsc-aDlqj"
      },
      "execution_count": null,
      "outputs": []
    },
    {
      "cell_type": "markdown",
      "source": [
        "One thing to note about lemmatization is that it is harder to create a lemmatizer in a new language than it is a stemming algorithm because we require a lot more knowledge about structure of a language in lemmatizers.\n",
        "\n",
        "Conclusion : If speed is concentrated then stemming should be used since lemmatizers scan a corpus which consumes time and processing. It depends on the problem you’re working on that decides if stemmers should be used or lemmatizers."
      ],
      "metadata": {
        "id": "8rLW812tD4Np"
      }
    },
    {
      "cell_type": "markdown",
      "source": [
        "Applications: information retrieval, parsing, Text to Speech (TTS) applications, information extraction, linguistic research for corpora."
      ],
      "metadata": {
        "id": "7DSoyhCrEXMN"
      }
    },
    {
      "cell_type": "markdown",
      "source": [
        " Different Techniques of POS Tagging\n",
        "\n",
        "1. Rule-based POS tagging: The rule-based POS tagging models apply a set of handwritten rules and use contextual information to assign POS tags to words.\n",
        "2.Transformation Based Tagging: The transformation-based approaches use a pre-defined set of handcrafted rules as well as automatically induced rules that are generated during training.\n",
        "3.deep learning models:\n",
        "4.Stochastic  tagging: This approach includes frequency, probability or statistics."
      ],
      "metadata": {
        "id": "LhW7aABBEdrz"
      }
    },
    {
      "cell_type": "markdown",
      "source": [
        "Chunking(shallow parsing)- process to take small pieces of information and group them into large units. The primary use of Chunking is making groups of “noun phrases.” It is used to add structure to the sentence by following POS tagging combined with regular expressions. The resulted group of words are called “chunks\". Chunking is used for entity detection."
      ],
      "metadata": {
        "id": "pGHtGqSvEj6h"
      }
    },
    {
      "cell_type": "code",
      "source": [
        "import nltk\n",
        "nltk.download('averaged_perceptron_tagger')"
      ],
      "metadata": {
        "colab": {
          "base_uri": "https://localhost:8080/"
        },
        "id": "XjXXOYwuEjDL",
        "outputId": "6155c31d-92cf-4ee3-db31-787dcbbe8517"
      },
      "execution_count": null,
      "outputs": [
        {
          "output_type": "stream",
          "name": "stderr",
          "text": [
            "[nltk_data] Downloading package averaged_perceptron_tagger to\n",
            "[nltk_data]     /root/nltk_data...\n",
            "[nltk_data]   Package averaged_perceptron_tagger is already up-to-\n",
            "[nltk_data]       date!\n"
          ]
        },
        {
          "output_type": "execute_result",
          "data": {
            "text/plain": [
              "True"
            ]
          },
          "metadata": {},
          "execution_count": 22
        }
      ]
    },
    {
      "cell_type": "code",
      "source": [
        "from nltk import pos_tag\n",
        "from nltk import RegexpParser\n",
        "\n",
        "tokens_tag = pos_tag(filtered_sentence)\n",
        "print(\"After Token:\",tokens_tag)\n",
        "patterns= \"\"\"mychunk:{<NN.?>*<VBD.?>*<JJ.?>*<CC>?}\"\"\"\n",
        "chunker = RegexpParser(patterns)\n",
        "print(\"After Regex:\",chunker)\n",
        "output = chunker.parse(tokens_tag)\n",
        "print(\"After Chunking\",output)"
      ],
      "metadata": {
        "colab": {
          "base_uri": "https://localhost:8080/"
        },
        "id": "6chsQCBXEV5S",
        "outputId": "d0f90c0c-6d6a-4545-a4db-2b9ec1b4e4a8"
      },
      "execution_count": null,
      "outputs": [
        {
          "output_type": "stream",
          "name": "stdout",
          "text": [
            "After Token: [('Early', 'JJ'), ('1969', 'CD'), (',', ','), ('Fiat', 'NNP'), ('took', 'VBD'), ('50', 'CD'), ('%', 'NN'), ('stake', 'NN'), ('Ferrari', 'NNP'), ('.', '.'), ('An', 'DT'), ('immediate', 'JJ'), ('result', 'NN'), ('increase', 'NN'), ('available', 'JJ'), ('investment', 'NN'), ('funds', 'NNS'), (',', ','), ('work', 'NN'), ('started', 'VBD'), ('factoryextension', 'NN'), ('intended', 'VBN'), ('transfer', 'NN'), ('production', 'NN'), ('Fiat', 'NNP'), ('&', 'CC'), ('#', '#'), ('39', 'CD'), (';', ':'), ('Turin', 'NNP'), ('plant', 'NN'), ('Ferrariengined', 'VBD'), ('Fiat', 'NNP'), ('Dino', 'NNP'), ('.', '.'), ('New', 'NNP'), ('model', 'NN'), ('investment', 'NN'), ('Ferrari', 'NNP'), ('range', 'NN'), ('alsoreceived', 'VBD'), ('boost', 'NN')]\n",
            "After Regex: chunk.RegexpParser with 1 stages:\n",
            "RegexpChunkParser with 1 rules:\n",
            "       <ChunkRule: '<NN.?>*<VBD.?>*<JJ.?>*<CC>?'>\n",
            "After Chunking (S\n",
            "  (mychunk Early/JJ)\n",
            "  1969/CD\n",
            "  ,/,\n",
            "  (mychunk Fiat/NNP took/VBD)\n",
            "  50/CD\n",
            "  (mychunk %/NN stake/NN Ferrari/NNP)\n",
            "  ./.\n",
            "  An/DT\n",
            "  (mychunk immediate/JJ)\n",
            "  (mychunk result/NN increase/NN available/JJ)\n",
            "  (mychunk investment/NN funds/NNS)\n",
            "  ,/,\n",
            "  (mychunk work/NN started/VBD)\n",
            "  (mychunk factoryextension/NN)\n",
            "  intended/VBN\n",
            "  (mychunk transfer/NN production/NN Fiat/NNP &/CC)\n",
            "  #/#\n",
            "  39/CD\n",
            "  ;/:\n",
            "  (mychunk Turin/NNP plant/NN Ferrariengined/VBD)\n",
            "  (mychunk Fiat/NNP Dino/NNP)\n",
            "  ./.\n",
            "  (mychunk\n",
            "    New/NNP\n",
            "    model/NN\n",
            "    investment/NN\n",
            "    Ferrari/NNP\n",
            "    range/NN\n",
            "    alsoreceived/VBD)\n",
            "  (mychunk boost/NN))\n"
          ]
        }
      ]
    },
    {
      "cell_type": "code",
      "source": [
        "#Counting tags- crucial for text classification \n",
        "from collections import Counter\n",
        "import nltk\n",
        "nltk.download('punkt')\n",
        "\n",
        "tags = nltk.pos_tag(filtered_sentence)\n",
        "counts = Counter( tag for word,  tag in tags)\n",
        "print(counts)"
      ],
      "metadata": {
        "colab": {
          "base_uri": "https://localhost:8080/"
        },
        "id": "5uXgpjmzErmD",
        "outputId": "ac05ce02-b289-4724-d5df-44e4dc961713"
      },
      "execution_count": null,
      "outputs": [
        {
          "output_type": "stream",
          "name": "stdout",
          "text": [
            "Counter({'NN': 14, 'NNP': 8, 'VBD': 4, 'JJ': 3, 'CD': 3, ',': 2, '.': 2, 'DT': 1, 'NNS': 1, 'VBN': 1, 'CC': 1, '#': 1, ':': 1})\n"
          ]
        },
        {
          "output_type": "stream",
          "name": "stderr",
          "text": [
            "[nltk_data] Downloading package punkt to /root/nltk_data...\n",
            "[nltk_data]   Package punkt is already up-to-date!\n"
          ]
        }
      ]
    },
    {
      "cell_type": "markdown",
      "source": [
        "Collocations are the pairs of words occurring together many times in a document. It is calculated by the number of those pair occurring together to the overall word count of the document. Types : Bigrams Trigrams They are useful in text-based sentimental analysis."
      ],
      "metadata": {
        "id": "XKLnJXMUE1Wj"
      }
    },
    {
      "cell_type": "code",
      "source": [
        "#bigrams\n",
        "Tokens = nltk.word_tokenize(text)\n",
        "output = list(nltk.bigrams(Tokens))\n",
        "print(output)"
      ],
      "metadata": {
        "colab": {
          "base_uri": "https://localhost:8080/"
        },
        "id": "1LiAtrQNERoV",
        "outputId": "23dbf728-0d1b-4137-a32d-718359dbb997"
      },
      "execution_count": null,
      "outputs": [
        {
          "output_type": "stream",
          "name": "stdout",
          "text": [
            "[('Early', 'in'), ('in', '1969'), ('1969', ','), (',', 'Fiat'), ('Fiat', 'took'), ('took', 'a'), ('a', '50'), ('50', '%'), ('%', 'stake'), ('stake', 'in'), ('in', 'Ferrari'), ('Ferrari', '.'), ('.', 'An'), ('An', 'immediate'), ('immediate', 'result'), ('result', 'was'), ('was', 'an'), ('an', 'increase'), ('increase', 'in'), ('in', 'available'), ('available', 'investment'), ('investment', 'funds'), ('funds', ','), (',', 'and'), ('and', 'work'), ('work', 'started'), ('started', 'at'), ('at', 'once'), ('once', 'on'), ('on', 'a'), ('a', 'factoryextension'), ('factoryextension', 'intended'), ('intended', 'to'), ('to', 'transfer'), ('transfer', 'production'), ('production', 'from'), ('from', 'Fiat'), ('Fiat', '&'), ('&', '#'), ('#', '39'), ('39', ';'), (';', 's'), ('s', 'Turin'), ('Turin', 'plant'), ('plant', 'of'), ('of', 'the'), ('the', 'Ferrariengined'), ('Ferrariengined', 'Fiat'), ('Fiat', 'Dino'), ('Dino', '.'), ('.', 'New'), ('New', 'model'), ('model', 'investment'), ('investment', 'further'), ('further', 'up'), ('up', 'in'), ('in', 'the'), ('the', 'Ferrari'), ('Ferrari', 'range'), ('range', 'alsoreceived'), ('alsoreceived', 'a'), ('a', 'boost')]\n"
          ]
        }
      ]
    },
    {
      "cell_type": "code",
      "source": [
        "#trigrams\n",
        "Tokens = nltk.word_tokenize(text)\n",
        "output = list(nltk.trigrams(Tokens))\n",
        "print(output)"
      ],
      "metadata": {
        "colab": {
          "base_uri": "https://localhost:8080/"
        },
        "id": "alTR4n7ME422",
        "outputId": "130dd6e1-fcd7-4f37-a9c7-c6fc3d7740ec"
      },
      "execution_count": null,
      "outputs": [
        {
          "output_type": "stream",
          "name": "stdout",
          "text": [
            "[('Early', 'in', '1969'), ('in', '1969', ','), ('1969', ',', 'Fiat'), (',', 'Fiat', 'took'), ('Fiat', 'took', 'a'), ('took', 'a', '50'), ('a', '50', '%'), ('50', '%', 'stake'), ('%', 'stake', 'in'), ('stake', 'in', 'Ferrari'), ('in', 'Ferrari', '.'), ('Ferrari', '.', 'An'), ('.', 'An', 'immediate'), ('An', 'immediate', 'result'), ('immediate', 'result', 'was'), ('result', 'was', 'an'), ('was', 'an', 'increase'), ('an', 'increase', 'in'), ('increase', 'in', 'available'), ('in', 'available', 'investment'), ('available', 'investment', 'funds'), ('investment', 'funds', ','), ('funds', ',', 'and'), (',', 'and', 'work'), ('and', 'work', 'started'), ('work', 'started', 'at'), ('started', 'at', 'once'), ('at', 'once', 'on'), ('once', 'on', 'a'), ('on', 'a', 'factoryextension'), ('a', 'factoryextension', 'intended'), ('factoryextension', 'intended', 'to'), ('intended', 'to', 'transfer'), ('to', 'transfer', 'production'), ('transfer', 'production', 'from'), ('production', 'from', 'Fiat'), ('from', 'Fiat', '&'), ('Fiat', '&', '#'), ('&', '#', '39'), ('#', '39', ';'), ('39', ';', 's'), (';', 's', 'Turin'), ('s', 'Turin', 'plant'), ('Turin', 'plant', 'of'), ('plant', 'of', 'the'), ('of', 'the', 'Ferrariengined'), ('the', 'Ferrariengined', 'Fiat'), ('Ferrariengined', 'Fiat', 'Dino'), ('Fiat', 'Dino', '.'), ('Dino', '.', 'New'), ('.', 'New', 'model'), ('New', 'model', 'investment'), ('model', 'investment', 'further'), ('investment', 'further', 'up'), ('further', 'up', 'in'), ('up', 'in', 'the'), ('in', 'the', 'Ferrari'), ('the', 'Ferrari', 'range'), ('Ferrari', 'range', 'alsoreceived'), ('range', 'alsoreceived', 'a'), ('alsoreceived', 'a', 'boost')]\n"
          ]
        }
      ]
    },
    {
      "cell_type": "markdown",
      "source": [],
      "metadata": {
        "id": "kcYFLGh1FBN5"
      }
    },
    {
      "cell_type": "code",
      "source": [
        "ps = PorterStemmer() #for a better understanding about stemming and the different types of stemmers used\n"
      ],
      "metadata": {
        "id": "j_LkLMZvFLGv"
      },
      "execution_count": null,
      "outputs": []
    },
    {
      "cell_type": "code",
      "source": [
        "print(ps.stem('leak'))\n",
        "print(ps.stem('leaking'))\n",
        "print(ps.stem('leaked'))\n"
      ],
      "metadata": {
        "colab": {
          "base_uri": "https://localhost:8080/"
        },
        "id": "INxVYarnFYMC",
        "outputId": "b60d65bc-191b-4658-d99d-61dbb9492c94"
      },
      "execution_count": null,
      "outputs": [
        {
          "output_type": "stream",
          "name": "stdout",
          "text": [
            "leak\n",
            "leak\n",
            "leak\n"
          ]
        }
      ]
    },
    {
      "cell_type": "code",
      "source": [
        "print(ps.stem('make'))\n",
        "print(ps.stem('maked')) \n",
        "print(ps.stem('making'))\n",
        "\n"
      ],
      "metadata": {
        "colab": {
          "base_uri": "https://localhost:8080/"
        },
        "id": "3VwCJKeoFzts",
        "outputId": "d943aedb-6de5-4b8c-d41c-9b6cd2a44e85"
      },
      "execution_count": null,
      "outputs": [
        {
          "output_type": "stream",
          "name": "stdout",
          "text": [
            "make\n",
            "make\n",
            "make\n"
          ]
        }
      ]
    },
    {
      "cell_type": "code",
      "source": [
        "print(ps.stem('agreed'))"
      ],
      "metadata": {
        "colab": {
          "base_uri": "https://localhost:8080/"
        },
        "id": "53enmlLQaYaX",
        "outputId": "dcbc8538-032c-4539-851e-0128ed14aed5"
      },
      "execution_count": null,
      "outputs": [
        {
          "output_type": "stream",
          "name": "stdout",
          "text": [
            "agre\n"
          ]
        }
      ]
    },
    {
      "cell_type": "code",
      "source": [
        "sentence=\" Revision was Certified fairly \""
      ],
      "metadata": {
        "id": "4Q5LKHj2K5b7"
      },
      "execution_count": null,
      "outputs": []
    },
    {
      "cell_type": "code",
      "source": [
        "wordList =nltk.word_tokenize(sentence)"
      ],
      "metadata": {
        "id": "ek28-3noLZ2v"
      },
      "execution_count": null,
      "outputs": []
    },
    {
      "cell_type": "code",
      "source": [
        "stemWords = [ps.stem(word)for word in wordList]"
      ],
      "metadata": {
        "id": "22NRbZxyLppc"
      },
      "execution_count": null,
      "outputs": []
    },
    {
      "cell_type": "code",
      "source": [
        "print(' '.join(stemWords)) #wa"
      ],
      "metadata": {
        "colab": {
          "base_uri": "https://localhost:8080/"
        },
        "id": "M5nuI6_0MLOQ",
        "outputId": "43d3ad60-b008-4010-c127-8a5ea2659ab1"
      },
      "execution_count": null,
      "outputs": [
        {
          "output_type": "stream",
          "name": "stdout",
          "text": [
            "revis wa certifi fairli\n"
          ]
        }
      ]
    },
    {
      "cell_type": "code",
      "source": [
        "#snowball Stemmer - English Stemmer or Porter2 Stemmer\n",
        "from nltk.stem.snowball import SnowballStemmer"
      ],
      "metadata": {
        "id": "Z7clp2msM6j0"
      },
      "execution_count": null,
      "outputs": []
    },
    {
      "cell_type": "code",
      "source": [
        "ss = SnowballStemmer(\"english\")"
      ],
      "metadata": {
        "id": "jqt7JxGwNgTr"
      },
      "execution_count": null,
      "outputs": []
    },
    {
      "cell_type": "code",
      "source": [
        "sentence2=\"Revision was certified fairly  \""
      ],
      "metadata": {
        "id": "Fb3wRWMrbAPT"
      },
      "execution_count": null,
      "outputs": []
    },
    {
      "cell_type": "code",
      "source": [
        "wordList2 =nltk.word_tokenize(sentence2)"
      ],
      "metadata": {
        "id": "IIGGdp1NbfdA"
      },
      "execution_count": null,
      "outputs": []
    },
    {
      "cell_type": "code",
      "source": [
        "stemWords2 = [ss.stem(word)for word in wordList2]"
      ],
      "metadata": {
        "id": "1oA01mqzNk7M"
      },
      "execution_count": null,
      "outputs": []
    },
    {
      "cell_type": "code",
      "source": [
        "print(' '.join(stemWords2))"
      ],
      "metadata": {
        "colab": {
          "base_uri": "https://localhost:8080/"
        },
        "id": "J3VLOsksN-aj",
        "outputId": "0006934f-bc85-40eb-8cde-302e1d609bb0"
      },
      "execution_count": null,
      "outputs": [
        {
          "output_type": "stream",
          "name": "stdout",
          "text": [
            "revis was certifi fair\n"
          ]
        }
      ]
    },
    {
      "cell_type": "code",
      "source": [
        "#lancasterStemmer"
      ],
      "metadata": {
        "id": "FnsI9CUuH49u"
      },
      "execution_count": null,
      "outputs": []
    },
    {
      "cell_type": "markdown",
      "source": [
        "**Lancaster Stemmer is the most aggressive stemming algorithm. It has an edge over other stemming techniques because it offers us the functionality to add our own custom rules in this algorithm when we implement this using the NLTK package. This sometimes results in abrupt results.\n",
        "hugely trims the word**"
      ],
      "metadata": {
        "id": "oC37FiBsIpvp"
      }
    },
    {
      "cell_type": "code",
      "source": [
        "from nltk import LancasterStemmer"
      ],
      "metadata": {
        "id": "5bfSLyj8I4uq"
      },
      "execution_count": null,
      "outputs": []
    },
    {
      "cell_type": "code",
      "source": [
        "words = ['merely','electricity','vaguely','singing','caring']\n",
        "Lanc = LancasterStemmer()"
      ],
      "metadata": {
        "id": "CKcPCPN2JLmX"
      },
      "execution_count": null,
      "outputs": []
    },
    {
      "cell_type": "code",
      "source": [
        "for w in words:\n",
        "    print(w, \" : \", Lanc.stem(w))"
      ],
      "metadata": {
        "colab": {
          "base_uri": "https://localhost:8080/"
        },
        "id": "jZTYMePmJcEa",
        "outputId": "379518b7-bdee-4ff0-c097-86434ec03a09"
      },
      "execution_count": null,
      "outputs": [
        {
          "output_type": "stream",
          "name": "stdout",
          "text": [
            "merely  :  mer\n",
            "electricity  :  elect\n",
            "vaguely  :  vagu\n",
            "singing  :  sing\n",
            "caring  :  car\n"
          ]
        }
      ]
    },
    {
      "cell_type": "code",
      "source": [
        "stemWords = [Lanc.stem(word)for word in wordList]\n",
        "print(' '.join(stemWords))"
      ],
      "metadata": {
        "colab": {
          "base_uri": "https://localhost:8080/"
        },
        "id": "HjksPH8dOTib",
        "outputId": "bbfb2c21-caf2-4eec-8774-636c52c28ed7"
      },
      "execution_count": null,
      "outputs": [
        {
          "output_type": "stream",
          "name": "stdout",
          "text": [
            "revid was cert fair\n"
          ]
        }
      ]
    },
    {
      "cell_type": "markdown",
      "source": [
        "Conclusion: Snowball Stemmer cames out to be one of the best suited algorithm for my need."
      ],
      "metadata": {
        "id": "zMoPNwJ-O9Lu"
      }
    },
    {
      "cell_type": "markdown",
      "source": [
        "3. 1)## WORD EMBEDDINGS"
      ],
      "metadata": {
        "id": "1AZdQIq8c70K"
      }
    },
    {
      "cell_type": "code",
      "source": [
        "#The primary use of word embedding is to determining similarity, either in meaning or in usage. \n",
        "#Usually, the computation of Similarity is done with the help of a metric such as the Cosine Similarity ( a normalized dot product) between two vectors."
      ],
      "metadata": {
        "id": "FpBn87dMqo4n"
      },
      "execution_count": null,
      "outputs": []
    },
    {
      "cell_type": "markdown",
      "source": [
        "Word embedding in NLP is an important term that is used for representing words for text analysis in the form of real-valued vectors.\n",
        "\n",
        "TEXT VECTORIZATION TECHNIQUES\n",
        "\n",
        "Bag of words: Extracts features from the text\n",
        "TF-IDF: Information retrieval, keyword extraction\n",
        "Word2Vec: Semantic analysis task(cosine similarities)\n",
        "GloVe: Word analogy, named entity recognition tasks\n",
        "BERT: language translation, question answering system\n",
        "\n"
      ],
      "metadata": {
        "id": "VtZzAeaEqpdf"
      }
    },
    {
      "cell_type": "code",
      "source": [
        "pip install gensim"
      ],
      "metadata": {
        "colab": {
          "base_uri": "https://localhost:8080/"
        },
        "id": "TBYonrKkyn7Z",
        "outputId": "fdfa4d73-2e24-46c6-d07b-e8e26a69b9ff"
      },
      "execution_count": null,
      "outputs": [
        {
          "output_type": "stream",
          "name": "stdout",
          "text": [
            "Looking in indexes: https://pypi.org/simple, https://us-python.pkg.dev/colab-wheels/public/simple/\n",
            "Requirement already satisfied: gensim in /usr/local/lib/python3.7/dist-packages (3.6.0)\n",
            "Requirement already satisfied: smart-open>=1.2.1 in /usr/local/lib/python3.7/dist-packages (from gensim) (5.2.1)\n",
            "Requirement already satisfied: numpy>=1.11.3 in /usr/local/lib/python3.7/dist-packages (from gensim) (1.21.6)\n",
            "Requirement already satisfied: six>=1.5.0 in /usr/local/lib/python3.7/dist-packages (from gensim) (1.15.0)\n",
            "Requirement already satisfied: scipy>=0.18.1 in /usr/local/lib/python3.7/dist-packages (from gensim) (1.7.3)\n"
          ]
        }
      ]
    },
    {
      "cell_type": "code",
      "source": [
        "#Word2Vec has two neural network-based variants: Continuous Bag of Words (CBOW) and Skip-gram. #cosine similiarity\n",
        "import numpy as np\n",
        "import gensim\n",
        "from gensim.models import word2vec,KeyedVectors\n",
        "from sklearn.metrics.pairwise import cosine_similarity\n",
        "#The end goal of Word2Vec (both variants) is to learn the weights of the hidden layer. The hidden consequences will be used as our word embeddings!!"
      ],
      "metadata": {
        "id": "obU_uklJtn4P"
      },
      "execution_count": null,
      "outputs": []
    },
    {
      "cell_type": "code",
      "source": [
        "from gensim.models import Word2Vec\n",
        "# define training data\n",
        "sentences = [['this', 'is', 'the', 'demo', 'sentence', 'Iam', 'working'],\n",
        "\t\t\t['for', 'this', 'program', 'I', 'hope'],\n",
        "\t\t\t['it', 'does', 'justice'],\n",
        "\t\t\t['to', 'the', 'sentence'],\n",
        "\t\t\t['before', 'the', 'final', 'sentence']]\n",
        "# train model\n",
        "model = Word2Vec(sentences, min_count=1)\n",
        "# summarize the loaded model\n",
        "print(model)\n",
        "# summarize vocabulary\n",
        "words = list(model.wv.vocab)\n",
        "print(words)\n",
        "# access vector for one word\n",
        "print(model['sentence'])\n",
        "# save model\n",
        "model.save('model.bin')\n",
        "# load model\n",
        "new_model = Word2Vec.load('model.bin')\n",
        "print(new_model)"
      ],
      "metadata": {
        "colab": {
          "base_uri": "https://localhost:8080/"
        },
        "id": "kQshnxaKz4T6",
        "outputId": "dfe1a0e8-8e80-4fbd-a0a1-63813922deee"
      },
      "execution_count": null,
      "outputs": [
        {
          "output_type": "stream",
          "name": "stderr",
          "text": [
            "WARNING:gensim.models.base_any2vec:under 10 jobs per worker: consider setting a smaller `batch_words' for smoother alpha decay\n"
          ]
        },
        {
          "output_type": "stream",
          "name": "stdout",
          "text": [
            "Word2Vec(vocab=17, size=100, alpha=0.025)\n",
            "['this', 'is', 'the', 'demo', 'sentence', 'Iam', 'working', 'for', 'program', 'I', 'hope', 'it', 'does', 'justice', 'to', 'before', 'final']\n",
            "[ 0.00440667  0.00076511  0.00173656  0.00052445 -0.00323171 -0.00180249\n",
            " -0.00375372  0.00087089  0.00314543 -0.00385348 -0.00129589  0.00240621\n",
            " -0.00134411 -0.00143064  0.00258622  0.00200137 -0.00013758  0.00093993\n",
            " -0.0045442  -0.00265941  0.0029642   0.0048169  -0.00250357  0.00093322\n",
            "  0.0044593   0.00023697  0.00174877  0.00472788 -0.00404219 -0.00480858\n",
            " -0.00216751 -0.0036758  -0.00357033  0.00342655 -0.00215053  0.00229121\n",
            " -0.00226199  0.00464146 -0.00463014 -0.00304346 -0.00215587  0.00347654\n",
            "  0.00389916 -0.00038701 -0.00074248  0.00299408  0.00080285 -0.00222651\n",
            " -0.00325718 -0.00122217  0.00349593 -0.00266283 -0.00407734 -0.00186858\n",
            " -0.00282516 -0.00159129  0.00456003 -0.00048565  0.00157963  0.00182067\n",
            " -0.00373013  0.00125378 -0.00256076 -0.00407706 -0.00239664  0.00378857\n",
            " -0.00322734 -0.00057742  0.00352343 -0.00487312 -0.00473441  0.00108509\n",
            "  0.00354227  0.00299098  0.00099396  0.00334797  0.00259935 -0.00445631\n",
            "  0.00352455  0.00325804  0.00124692 -0.00424526 -0.00385924 -0.00346424\n",
            "  0.00085918 -0.00234405  0.00305683  0.00180825 -0.00320405  0.00475732\n",
            " -0.0042622   0.00297538  0.00223249 -0.00497785  0.00482226  0.00211746\n",
            " -0.00344192 -0.0025985  -0.00059468 -0.00450468]\n",
            "Word2Vec(vocab=17, size=100, alpha=0.025)\n"
          ]
        },
        {
          "output_type": "stream",
          "name": "stderr",
          "text": [
            "/usr/local/lib/python3.7/dist-packages/ipykernel_launcher.py:16: DeprecationWarning: Call to deprecated `__getitem__` (Method will be removed in 4.0.0, use self.wv.__getitem__() instead).\n",
            "  app.launch_new_instance()\n"
          ]
        }
      ]
    },
    {
      "cell_type": "code",
      "source": [
        "from gensim.models import Word2Vec\n",
        "from sklearn.decomposition import PCA\n",
        "from matplotlib import pyplot\n",
        "# define training data\n",
        "sentences = [['this', 'is', 'the', 'demo', 'sentence', 'Iam', 'working'],\n",
        "\t\t\t['for', 'this', 'program', 'I', 'hope'],\n",
        "\t\t\t['it', 'does', 'justice'],\n",
        "\t\t\t['to', 'the', 'sentence'],\n",
        "\t\t\t['before', 'the', 'final', 'sentence']]\n",
        "# train model\n",
        "model = Word2Vec(sentences, min_count=1)\n",
        "# fit a 2d PCA model to the vectors\n",
        "X = model[model.wv.vocab]\n",
        "pca = PCA(n_components=2)\n",
        "result = pca.fit_transform(X)\n",
        "# create a scatter plot of the projection\n",
        "pyplot.scatter(result[:, 0], result[:, 1])\n",
        "words = list(model.wv.vocab)\n",
        "for i, word in enumerate(words):\n",
        "\tpyplot.annotate(word, xy=(result[i, 0], result[i, 1]))\n",
        "pyplot.show()"
      ],
      "metadata": {
        "colab": {
          "base_uri": "https://localhost:8080/",
          "height": 340
        },
        "id": "r-alMWKa0Te7",
        "outputId": "0476d309-15f3-443c-9428-d48828a96443"
      },
      "execution_count": null,
      "outputs": [
        {
          "output_type": "stream",
          "name": "stderr",
          "text": [
            "WARNING:gensim.models.base_any2vec:under 10 jobs per worker: consider setting a smaller `batch_words' for smoother alpha decay\n",
            "/usr/local/lib/python3.7/dist-packages/ipykernel_launcher.py:13: DeprecationWarning: Call to deprecated `__getitem__` (Method will be removed in 4.0.0, use self.wv.__getitem__() instead).\n",
            "  del sys.path[0]\n"
          ]
        },
        {
          "output_type": "display_data",
          "data": {
            "text/plain": [
              "<Figure size 432x288 with 1 Axes>"
            ],
            "image/png": "[encoded data removed]"
          },
          "metadata": {
            "needs_background": "light"
          }
        }
      ]
    },
    {
      "cell_type": "code",
      "source": [
        "from gensim.models import Word2Vec\n",
        "\n",
        "import numpy as np\n"
      ],
      "metadata": {
        "id": "1QdJOu-E1ZNa"
      },
      "execution_count": null,
      "outputs": []
    },
    {
      "cell_type": "code",
      "source": [
        "sentences = [['drink','not','good'],\n",
        "\t\t\t['felt','superb'],\n",
        "\t\t\t['just','good','ambience'],\n",
        "\t\t\t['bad','taste'],\n",
        "\t\t\t['parking','problem'],\n",
        "            ['fantastic','food']]\n",
        "y = np.array([0,1,1,0,0,1])"
      ],
      "metadata": {
        "id": "31aQMCj51qtw"
      },
      "execution_count": null,
      "outputs": []
    },
    {
      "cell_type": "code",
      "source": [
        "model = Word2Vec(sentences, min_count=1,size=100)"
      ],
      "metadata": {
        "colab": {
          "base_uri": "https://localhost:8080/"
        },
        "id": "piqZnilH1tSk",
        "outputId": "0ff4bb21-d259-4317-e500-d908c118d519"
      },
      "execution_count": null,
      "outputs": [
        {
          "output_type": "stream",
          "name": "stderr",
          "text": [
            "WARNING:gensim.models.base_any2vec:under 10 jobs per worker: consider setting a smaller `batch_words' for smoother alpha decay\n"
          ]
        }
      ]
    },
    {
      "cell_type": "code",
      "source": [
        "print(model)"
      ],
      "metadata": {
        "colab": {
          "base_uri": "https://localhost:8080/"
        },
        "id": "5l6PE3or1xRo",
        "outputId": "91178418-e6f4-41c4-a381-7a866fd06075"
      },
      "execution_count": null,
      "outputs": [
        {
          "output_type": "stream",
          "name": "stdout",
          "text": [
            "Word2Vec(vocab=13, size=100, alpha=0.025)\n"
          ]
        }
      ]
    },
    {
      "cell_type": "code",
      "source": [
        "words = list(model.wv.vocab)\n",
        "print(words)"
      ],
      "metadata": {
        "colab": {
          "base_uri": "https://localhost:8080/"
        },
        "id": "UKabaxIY10kd",
        "outputId": "e59fcf73-47ba-43b2-bf4d-2b657d079b43"
      },
      "execution_count": null,
      "outputs": [
        {
          "output_type": "stream",
          "name": "stdout",
          "text": [
            "['drink', 'not', 'good', 'felt', 'superb', 'just', 'ambience', 'bad', 'taste', 'parking', 'problem', 'fantastic', 'food']\n"
          ]
        }
      ]
    },
    {
      "cell_type": "code",
      "source": [
        "print(model['drink'])\n",
        "print(model['fantastic'])"
      ],
      "metadata": {
        "colab": {
          "base_uri": "https://localhost:8080/"
        },
        "id": "gz4gUBDL13hb",
        "outputId": "f31d69bf-9ac4-4dce-a980-1e8f1f024ddd"
      },
      "execution_count": null,
      "outputs": [
        {
          "output_type": "stream",
          "name": "stdout",
          "text": [
            "[ 3.09101306e-03  1.97508349e-03  1.08697882e-03 -4.43247706e-03\n",
            " -3.98104358e-03 -2.51701218e-03 -3.74380988e-03 -3.79294297e-03\n",
            " -3.53160431e-03  7.89472251e-05 -4.11681831e-03 -4.03359160e-03\n",
            "  4.57338151e-03  1.62473196e-04  1.26516435e-03  4.15880093e-03\n",
            "  5.91803051e-04 -4.48482670e-03  4.60332166e-03  3.44913197e-03\n",
            " -1.86711783e-03  1.51812471e-03  3.14558833e-03  3.72399297e-03\n",
            " -4.88918740e-03 -3.72231589e-03 -4.85247839e-03  2.60046776e-03\n",
            "  3.29392822e-03 -4.91039827e-03  4.73932922e-03  3.20764026e-04\n",
            "  2.11549248e-03 -3.69130820e-03  3.58007592e-03 -2.08813790e-03\n",
            "  2.54728785e-03  4.38813167e-03  3.52264917e-03  2.41177040e-03\n",
            " -4.67837648e-03 -2.65262928e-03  4.26879758e-03 -1.21584081e-03\n",
            " -1.44282205e-03  1.98934134e-03  4.64845356e-03 -3.21698515e-03\n",
            " -4.19170223e-03  3.89374257e-03  3.52938450e-03 -3.75052402e-03\n",
            "  1.00080855e-03 -2.87263305e-03  3.24378349e-03  1.70871950e-04\n",
            " -3.04738828e-03  3.46435490e-03  1.20244408e-03 -1.75868557e-03\n",
            "  3.20805795e-03 -3.69138340e-03  2.91269901e-03  2.25739926e-03\n",
            "  4.62185359e-03 -1.65489141e-03  3.33448825e-03 -3.37376771e-03\n",
            "  2.60900985e-03 -2.39517773e-03 -1.35910918e-03  9.56885749e-04\n",
            "  4.48169746e-03  8.97810736e-04 -2.65377178e-03 -5.87334915e-04\n",
            " -1.68390409e-03  1.88395823e-03 -1.21958437e-03 -1.30714837e-03\n",
            " -1.13243106e-04  3.21439444e-03 -1.83179195e-03  3.15031176e-03\n",
            " -2.49395869e-03 -2.93900562e-03  9.48465968e-05  2.11675302e-03\n",
            " -3.54879914e-04  4.95517068e-03  2.76441569e-03  3.24496604e-03\n",
            " -4.44338797e-03 -3.46050179e-03 -9.67088854e-04 -2.42037792e-03\n",
            "  3.22787580e-03 -2.30908953e-03 -8.66238435e-04 -4.06684680e-03]\n",
            "[ 3.2939253e-04  3.1702821e-03  4.9580927e-03  4.4490052e-03\n",
            " -3.1361121e-03  2.3934997e-03 -4.3868809e-03  8.3395292e-04\n",
            " -3.1843598e-03 -1.2117849e-03 -4.0437304e-03  3.8411375e-03\n",
            "  2.7034676e-04  2.0615987e-03  1.3576695e-03 -3.2757877e-03\n",
            "  3.3646682e-04  1.0263209e-03 -4.4367868e-03 -3.4770868e-03\n",
            "  1.5240955e-03  1.1717157e-04  2.8203577e-03  7.6340867e-04\n",
            "  3.2777054e-04 -2.2961341e-03  1.3912737e-03 -2.6032468e-04\n",
            "  2.5688580e-03 -1.6058839e-03  3.0676657e-03  2.6619583e-03\n",
            " -1.0206368e-03 -9.6107615e-05 -2.8915817e-03 -2.8816105e-03\n",
            " -4.9893614e-03 -3.7954219e-03  3.7827739e-03 -8.7022978e-05\n",
            " -3.4658532e-03 -1.5192498e-03 -2.0650022e-03 -2.0071722e-03\n",
            "  4.1196679e-04 -3.2436431e-03 -1.8510948e-03 -2.4556173e-03\n",
            "  3.8829031e-03 -1.2143418e-03 -2.9250467e-03 -3.8050953e-03\n",
            "  2.6007609e-03 -3.0871246e-03  2.1427730e-03  9.4817369e-04\n",
            "  2.8375739e-03 -3.8498892e-03 -1.2363301e-03 -1.6231115e-03\n",
            "  3.7138753e-03  3.1092041e-03  4.8900214e-03 -2.3717075e-03\n",
            "  1.5781811e-03 -4.5580757e-03 -7.1503082e-04  2.2625765e-03\n",
            " -4.8741382e-03  3.8749115e-03 -1.3780157e-03  6.5091404e-04\n",
            "  1.8461763e-03 -2.2364599e-03  4.1236253e-03  2.2777726e-03\n",
            " -9.3353144e-04 -1.2260890e-05 -4.3669222e-03 -2.2515119e-03\n",
            " -1.4851147e-03  2.0641494e-03 -1.7862370e-03 -2.7638359e-03\n",
            " -1.7298143e-03 -3.5984046e-03  1.8280003e-03  2.8208413e-03\n",
            "  3.3198220e-03 -4.6485402e-03 -2.6251499e-03 -1.0225667e-03\n",
            "  4.8549725e-03  1.7329558e-03 -2.1834623e-03  1.1797893e-03\n",
            "  3.4496465e-03  2.5841983e-03  2.8541493e-03 -9.9282910e-04]\n"
          ]
        },
        {
          "output_type": "stream",
          "name": "stderr",
          "text": [
            "/usr/local/lib/python3.7/dist-packages/ipykernel_launcher.py:1: DeprecationWarning: Call to deprecated `__getitem__` (Method will be removed in 4.0.0, use self.wv.__getitem__() instead).\n",
            "  \"\"\"Entry point for launching an IPython kernel.\n",
            "/usr/local/lib/python3.7/dist-packages/ipykernel_launcher.py:2: DeprecationWarning: Call to deprecated `__getitem__` (Method will be removed in 4.0.0, use self.wv.__getitem__() instead).\n",
            "  \n"
          ]
        }
      ]
    },
    {
      "cell_type": "code",
      "source": [
        "means_0 = np.mean(model[sentences[0]],axis=0)\n",
        "means = []\n",
        "for i in sentences :\n",
        "    row_means = np.mean(model[i],axis=0)\n",
        "    means.append(row_means)\n",
        "means = np.array(means) \n",
        "X = means"
      ],
      "metadata": {
        "colab": {
          "base_uri": "https://localhost:8080/"
        },
        "id": "xk4IlQZh17FN",
        "outputId": "aceefcbb-81f8-46aa-d3b6-22ec60e3c3b3"
      },
      "execution_count": null,
      "outputs": [
        {
          "output_type": "stream",
          "name": "stderr",
          "text": [
            "/usr/local/lib/python3.7/dist-packages/ipykernel_launcher.py:1: DeprecationWarning: Call to deprecated `__getitem__` (Method will be removed in 4.0.0, use self.wv.__getitem__() instead).\n",
            "  \"\"\"Entry point for launching an IPython kernel.\n",
            "/usr/local/lib/python3.7/dist-packages/ipykernel_launcher.py:4: DeprecationWarning: Call to deprecated `__getitem__` (Method will be removed in 4.0.0, use self.wv.__getitem__() instead).\n",
            "  after removing the cwd from sys.path.\n"
          ]
        }
      ]
    },
    {
      "cell_type": "code",
      "source": [
        "from sklearn.ensemble import RandomForestClassifier\n",
        "model_rf = RandomForestClassifier(random_state=1211,\n",
        "                                  n_estimators=100,oob_score=True)\n",
        "model_rf.fit( X , y )\n",
        "test_sentences = [['bad','food'],['just','fantastic']]\n",
        "test_means = []\n",
        "for i in test_sentences :\n",
        "    row_means = np.mean(model[i],axis=0)\n",
        "    test_means.append(row_means)\n",
        "num_test_means = np.array(test_means) \n",
        "X_test = num_test_means\n",
        "y_pred = model_rf.predict(X_test)"
      ],
      "metadata": {
        "colab": {
          "base_uri": "https://localhost:8080/"
        },
        "id": "U6ZurKxj1_Jy",
        "outputId": "6b781abb-ec5b-4780-ee32-3ec1519c9bef"
      },
      "execution_count": null,
      "outputs": [
        {
          "output_type": "stream",
          "name": "stderr",
          "text": [
            "/usr/local/lib/python3.7/dist-packages/ipykernel_launcher.py:8: DeprecationWarning: Call to deprecated `__getitem__` (Method will be removed in 4.0.0, use self.wv.__getitem__() instead).\n",
            "  \n"
          ]
        }
      ]
    },
    {
      "cell_type": "code",
      "source": [
        "model.save('model.bin')\n"
      ],
      "metadata": {
        "id": "vu_bPjAd2Czf"
      },
      "execution_count": null,
      "outputs": []
    },
    {
      "cell_type": "code",
      "source": [
        "new_model = Word2Vec.load('model.bin')\n",
        "print(new_model)"
      ],
      "metadata": {
        "colab": {
          "base_uri": "https://localhost:8080/"
        },
        "id": "d2Pv0Aao2F2W",
        "outputId": "f2c7cf3a-93ac-4f4e-83c8-8fed06f05c56"
      },
      "execution_count": null,
      "outputs": [
        {
          "output_type": "stream",
          "name": "stdout",
          "text": [
            "Word2Vec(vocab=13, size=100, alpha=0.025)\n"
          ]
        }
      ]
    },
    {
      "cell_type": "code",
      "source": [
        "from sklearn.decomposition import PCA\n",
        "from matplotlib import pyplot\n",
        "X = model[model.wv.vocab]\n",
        "pca = PCA(n_components=2)\n",
        "result = pca.fit_transform(X)\n",
        "pyplot.scatter(result[:, 0], result[:, 1])\n",
        "vwords = list(model.wv.vocab)\n",
        "for j, word in enumerate(vwords):\n",
        "      pyplot.annotate(word, xy=(result[j, 0], result[j, 1]))\n",
        "pyplot.show()"
      ],
      "metadata": {
        "colab": {
          "base_uri": "https://localhost:8080/",
          "height": 325
        },
        "id": "7NXPtybk2I0P",
        "outputId": "2ee2e77c-5cc2-44a6-bb27-0e23bd607dd9"
      },
      "execution_count": null,
      "outputs": [
        {
          "output_type": "stream",
          "name": "stderr",
          "text": [
            "/usr/local/lib/python3.7/dist-packages/ipykernel_launcher.py:3: DeprecationWarning: Call to deprecated `__getitem__` (Method will be removed in 4.0.0, use self.wv.__getitem__() instead).\n",
            "  This is separate from the ipykernel package so we can avoid doing imports until\n"
          ]
        },
        {
          "output_type": "display_data",
          "data": {
            "text/plain": [
              "<Figure size 432x288 with 1 Axes>"
            ],
            "image/png": "[encoded data removed]"
          },
          "metadata": {
            "needs_background": "light"
          }
        }
      ]
    },
    {
      "cell_type": "code",
      "source": [
        "import spacy\n",
        "NER = spacy.load(\"en_core_web_sm\", disable=[\"tok2vec\", \"tagger\", \"parser\", \"attribute_ruler\", \"lemmatizer\"])"
      ],
      "metadata": {
        "id": "pIkFrRQ8r-ro"
      },
      "execution_count": null,
      "outputs": []
    },
    {
      "cell_type": "code",
      "source": [
        "text= NER(sentence)"
      ],
      "metadata": {
        "id": "veu7oUC3sfDx"
      },
      "execution_count": null,
      "outputs": []
    },
    {
      "cell_type": "code",
      "source": [
        "for w in text.ents:\n",
        "    print(w.text,w.label_)\n",
        "spacy.displacy.render(text, style=\"ent\",jupyter=True)"
      ],
      "metadata": {
        "id": "3b70zdIDsy76",
        "outputId": "20d7605e-7edf-4d3c-87f0-9f959a7f69a6",
        "colab": {
          "base_uri": "https://localhost:8080/",
          "height": 109
        }
      },
      "execution_count": null,
      "outputs": [
        {
          "output_type": "stream",
          "name": "stderr",
          "text": [
            "/usr/local/lib/python3.7/dist-packages/spacy/displacy/__init__.py:205: UserWarning: [W006] No entities to visualize found in Doc object. If this is surprising to you, make sure the Doc was processed using a model that supports named entity recognition, and check the `doc.ents` property manually if necessary.\n",
            "  warnings.warn(Warnings.W006)\n"
          ]
        },
        {
          "output_type": "display_data",
          "data": {
            "text/plain": [
              "<IPython.core.display.HTML object>"
            ],
            "text/html": [
              "<span class=\"tex2jax_ignore\"><div class=\"entities\" style=\"line-height: 2.5; direction: ltr\"> Revision was Certified fairly </div></span>"
            ]
          },
          "metadata": {}
        }
      ]
    },
    {
      "cell_type": "markdown",
      "source": [
        "Write a program to display the texts in Project Gutenberg e-archive using\n",
        "appropriate file identifiers and a) Display the statistics of each text. [characters, words, sentences, vocabulary etc]\n",
        "(4 MARKS)\n",
        "b) Select one of the text (eg: Macbeth.txt) and\n",
        "i) Find out how many words it has (3 MARKS)\n",
        "ii)Apply concordance and sents() function (4 MARKS)"
      ],
      "metadata": {
        "id": "Bh71Yig9h9Yz"
      }
    },
    {
      "cell_type": "code",
      "source": [
        "import nltk\n",
        "nltk.download('gutenberg')"
      ],
      "metadata": {
        "colab": {
          "base_uri": "https://localhost:8080/"
        },
        "id": "yfdCiJcUlWYh",
        "outputId": "53d4bfbc-d1a1-40b8-f5ac-4eae8600a5ec"
      },
      "execution_count": null,
      "outputs": [
        {
          "output_type": "stream",
          "name": "stderr",
          "text": [
            "[nltk_data] Downloading package gutenberg to /root/nltk_data...\n",
            "[nltk_data]   Package gutenberg is already up-to-date!\n"
          ]
        },
        {
          "output_type": "execute_result",
          "data": {
            "text/plain": [
              "True"
            ]
          },
          "metadata": {},
          "execution_count": 122
        }
      ]
    },
    {
      "cell_type": "code",
      "source": [
        "from nltk.corpus import gutenberg\n",
        "from nltk.text import Text\n",
        "corpus = gutenberg.words('melville-moby_dick.txt')\n",
        "gutenberg.sents() #sents function\n",
        "text = Text(corpus)"
      ],
      "metadata": {
        "id": "1VTIPLdyh7FU"
      },
      "execution_count": null,
      "outputs": []
    },
    {
      "cell_type": "code",
      "source": [],
      "metadata": {
        "colab": {
          "base_uri": "https://localhost:8080/",
          "height": 325
        },
        "id": "UiRtkiVeqNr1",
        "outputId": "083ff956-2158-4592-874f-c6651296a71a"
      },
      "execution_count": null,
      "outputs": [
        {
          "output_type": "error",
          "ename": "TypeError",
          "evalue": "ignored",
          "traceback": [
            "\u001b[0;31m---------------------------------------------------------------------------\u001b[0m",
            "\u001b[0;31mTypeError\u001b[0m                                 Traceback (most recent call last)",
            "\u001b[0;32m<ipython-input-144-1f769f1caacd>\u001b[0m in \u001b[0;36m<module>\u001b[0;34m\u001b[0m\n\u001b[0;32m----> 1\u001b[0;31m \u001b[0mword_tokens\u001b[0m \u001b[0;34m=\u001b[0m \u001b[0mword_tokenize\u001b[0m\u001b[0;34m(\u001b[0m\u001b[0mcorpus\u001b[0m\u001b[0;34m)\u001b[0m\u001b[0;34m\u001b[0m\u001b[0;34m\u001b[0m\u001b[0m\n\u001b[0m",
            "\u001b[0;32m/usr/local/lib/python3.7/dist-packages/nltk/tokenize/__init__.py\u001b[0m in \u001b[0;36mword_tokenize\u001b[0;34m(text, language, preserve_line)\u001b[0m\n\u001b[1;32m    127\u001b[0m     \u001b[0;34m:\u001b[0m\u001b[0mtype\u001b[0m \u001b[0mpreserve_line\u001b[0m\u001b[0;34m:\u001b[0m \u001b[0mbool\u001b[0m\u001b[0;34m\u001b[0m\u001b[0;34m\u001b[0m\u001b[0m\n\u001b[1;32m    128\u001b[0m     \"\"\"\n\u001b[0;32m--> 129\u001b[0;31m     \u001b[0msentences\u001b[0m \u001b[0;34m=\u001b[0m \u001b[0;34m[\u001b[0m\u001b[0mtext\u001b[0m\u001b[0;34m]\u001b[0m \u001b[0;32mif\u001b[0m \u001b[0mpreserve_line\u001b[0m \u001b[0;32melse\u001b[0m \u001b[0msent_tokenize\u001b[0m\u001b[0;34m(\u001b[0m\u001b[0mtext\u001b[0m\u001b[0;34m,\u001b[0m \u001b[0mlanguage\u001b[0m\u001b[0;34m)\u001b[0m\u001b[0;34m\u001b[0m\u001b[0;34m\u001b[0m\u001b[0m\n\u001b[0m\u001b[1;32m    130\u001b[0m     return [\n\u001b[1;32m    131\u001b[0m         \u001b[0mtoken\u001b[0m \u001b[0;32mfor\u001b[0m \u001b[0msent\u001b[0m \u001b[0;32min\u001b[0m \u001b[0msentences\u001b[0m \u001b[0;32mfor\u001b[0m \u001b[0mtoken\u001b[0m \u001b[0;32min\u001b[0m \u001b[0m_treebank_word_tokenizer\u001b[0m\u001b[0;34m.\u001b[0m\u001b[0mtokenize\u001b[0m\u001b[0;34m(\u001b[0m\u001b[0msent\u001b[0m\u001b[0;34m)\u001b[0m\u001b[0;34m\u001b[0m\u001b[0;34m\u001b[0m\u001b[0m\n",
            "\u001b[0;32m/usr/local/lib/python3.7/dist-packages/nltk/tokenize/__init__.py\u001b[0m in \u001b[0;36msent_tokenize\u001b[0;34m(text, language)\u001b[0m\n\u001b[1;32m    105\u001b[0m     \"\"\"\n\u001b[1;32m    106\u001b[0m     \u001b[0mtokenizer\u001b[0m \u001b[0;34m=\u001b[0m \u001b[0mload\u001b[0m\u001b[0;34m(\u001b[0m\u001b[0;34mf\"tokenizers/punkt/{language}.pickle\"\u001b[0m\u001b[0;34m)\u001b[0m\u001b[0;34m\u001b[0m\u001b[0;34m\u001b[0m\u001b[0m\n\u001b[0;32m--> 107\u001b[0;31m     \u001b[0;32mreturn\u001b[0m \u001b[0mtokenizer\u001b[0m\u001b[0;34m.\u001b[0m\u001b[0mtokenize\u001b[0m\u001b[0;34m(\u001b[0m\u001b[0mtext\u001b[0m\u001b[0;34m)\u001b[0m\u001b[0;34m\u001b[0m\u001b[0;34m\u001b[0m\u001b[0m\n\u001b[0m\u001b[1;32m    108\u001b[0m \u001b[0;34m\u001b[0m\u001b[0m\n\u001b[1;32m    109\u001b[0m \u001b[0;34m\u001b[0m\u001b[0m\n",
            "\u001b[0;32m/usr/local/lib/python3.7/dist-packages/nltk/tokenize/punkt.py\u001b[0m in \u001b[0;36mtokenize\u001b[0;34m(self, text, realign_boundaries)\u001b[0m\n\u001b[1;32m   1274\u001b[0m         \u001b[0mGiven\u001b[0m \u001b[0ma\u001b[0m \u001b[0mtext\u001b[0m\u001b[0;34m,\u001b[0m \u001b[0mreturns\u001b[0m \u001b[0ma\u001b[0m \u001b[0mlist\u001b[0m \u001b[0mof\u001b[0m \u001b[0mthe\u001b[0m \u001b[0msentences\u001b[0m \u001b[0;32min\u001b[0m \u001b[0mthat\u001b[0m \u001b[0mtext\u001b[0m\u001b[0;34m.\u001b[0m\u001b[0;34m\u001b[0m\u001b[0;34m\u001b[0m\u001b[0m\n\u001b[1;32m   1275\u001b[0m         \"\"\"\n\u001b[0;32m-> 1276\u001b[0;31m         \u001b[0;32mreturn\u001b[0m \u001b[0mlist\u001b[0m\u001b[0;34m(\u001b[0m\u001b[0mself\u001b[0m\u001b[0;34m.\u001b[0m\u001b[0msentences_from_text\u001b[0m\u001b[0;34m(\u001b[0m\u001b[0mtext\u001b[0m\u001b[0;34m,\u001b[0m \u001b[0mrealign_boundaries\u001b[0m\u001b[0;34m)\u001b[0m\u001b[0;34m)\u001b[0m\u001b[0;34m\u001b[0m\u001b[0;34m\u001b[0m\u001b[0m\n\u001b[0m\u001b[1;32m   1277\u001b[0m \u001b[0;34m\u001b[0m\u001b[0m\n\u001b[1;32m   1278\u001b[0m     \u001b[0;32mdef\u001b[0m \u001b[0mdebug_decisions\u001b[0m\u001b[0;34m(\u001b[0m\u001b[0mself\u001b[0m\u001b[0;34m,\u001b[0m \u001b[0mtext\u001b[0m\u001b[0;34m)\u001b[0m\u001b[0;34m:\u001b[0m\u001b[0;34m\u001b[0m\u001b[0;34m\u001b[0m\u001b[0m\n",
            "\u001b[0;32m/usr/local/lib/python3.7/dist-packages/nltk/tokenize/punkt.py\u001b[0m in \u001b[0;36msentences_from_text\u001b[0;34m(self, text, realign_boundaries)\u001b[0m\n\u001b[1;32m   1330\u001b[0m         \u001b[0mfollows\u001b[0m \u001b[0mthe\u001b[0m \u001b[0mperiod\u001b[0m\u001b[0;34m.\u001b[0m\u001b[0;34m\u001b[0m\u001b[0;34m\u001b[0m\u001b[0m\n\u001b[1;32m   1331\u001b[0m         \"\"\"\n\u001b[0;32m-> 1332\u001b[0;31m         \u001b[0;32mreturn\u001b[0m \u001b[0;34m[\u001b[0m\u001b[0mtext\u001b[0m\u001b[0;34m[\u001b[0m\u001b[0ms\u001b[0m\u001b[0;34m:\u001b[0m\u001b[0me\u001b[0m\u001b[0;34m]\u001b[0m \u001b[0;32mfor\u001b[0m \u001b[0ms\u001b[0m\u001b[0;34m,\u001b[0m \u001b[0me\u001b[0m \u001b[0;32min\u001b[0m \u001b[0mself\u001b[0m\u001b[0;34m.\u001b[0m\u001b[0mspan_tokenize\u001b[0m\u001b[0;34m(\u001b[0m\u001b[0mtext\u001b[0m\u001b[0;34m,\u001b[0m \u001b[0mrealign_boundaries\u001b[0m\u001b[0;34m)\u001b[0m\u001b[0;34m]\u001b[0m\u001b[0;34m\u001b[0m\u001b[0;34m\u001b[0m\u001b[0m\n\u001b[0m\u001b[1;32m   1333\u001b[0m \u001b[0;34m\u001b[0m\u001b[0m\n\u001b[1;32m   1334\u001b[0m     \u001b[0;32mdef\u001b[0m \u001b[0m_match_potential_end_contexts\u001b[0m\u001b[0;34m(\u001b[0m\u001b[0mself\u001b[0m\u001b[0;34m,\u001b[0m \u001b[0mtext\u001b[0m\u001b[0;34m)\u001b[0m\u001b[0;34m:\u001b[0m\u001b[0;34m\u001b[0m\u001b[0;34m\u001b[0m\u001b[0m\n",
            "\u001b[0;32m/usr/local/lib/python3.7/dist-packages/nltk/tokenize/punkt.py\u001b[0m in \u001b[0;36m<listcomp>\u001b[0;34m(.0)\u001b[0m\n\u001b[1;32m   1330\u001b[0m         \u001b[0mfollows\u001b[0m \u001b[0mthe\u001b[0m \u001b[0mperiod\u001b[0m\u001b[0;34m.\u001b[0m\u001b[0;34m\u001b[0m\u001b[0;34m\u001b[0m\u001b[0m\n\u001b[1;32m   1331\u001b[0m         \"\"\"\n\u001b[0;32m-> 1332\u001b[0;31m         \u001b[0;32mreturn\u001b[0m \u001b[0;34m[\u001b[0m\u001b[0mtext\u001b[0m\u001b[0;34m[\u001b[0m\u001b[0ms\u001b[0m\u001b[0;34m:\u001b[0m\u001b[0me\u001b[0m\u001b[0;34m]\u001b[0m \u001b[0;32mfor\u001b[0m \u001b[0ms\u001b[0m\u001b[0;34m,\u001b[0m \u001b[0me\u001b[0m \u001b[0;32min\u001b[0m \u001b[0mself\u001b[0m\u001b[0;34m.\u001b[0m\u001b[0mspan_tokenize\u001b[0m\u001b[0;34m(\u001b[0m\u001b[0mtext\u001b[0m\u001b[0;34m,\u001b[0m \u001b[0mrealign_boundaries\u001b[0m\u001b[0;34m)\u001b[0m\u001b[0;34m]\u001b[0m\u001b[0;34m\u001b[0m\u001b[0;34m\u001b[0m\u001b[0m\n\u001b[0m\u001b[1;32m   1333\u001b[0m \u001b[0;34m\u001b[0m\u001b[0m\n\u001b[1;32m   1334\u001b[0m     \u001b[0;32mdef\u001b[0m \u001b[0m_match_potential_end_contexts\u001b[0m\u001b[0;34m(\u001b[0m\u001b[0mself\u001b[0m\u001b[0;34m,\u001b[0m \u001b[0mtext\u001b[0m\u001b[0;34m)\u001b[0m\u001b[0;34m:\u001b[0m\u001b[0;34m\u001b[0m\u001b[0;34m\u001b[0m\u001b[0m\n",
            "\u001b[0;32m/usr/local/lib/python3.7/dist-packages/nltk/tokenize/punkt.py\u001b[0m in \u001b[0;36mspan_tokenize\u001b[0;34m(self, text, realign_boundaries)\u001b[0m\n\u001b[1;32m   1320\u001b[0m         \u001b[0;32mif\u001b[0m \u001b[0mrealign_boundaries\u001b[0m\u001b[0;34m:\u001b[0m\u001b[0;34m\u001b[0m\u001b[0;34m\u001b[0m\u001b[0m\n\u001b[1;32m   1321\u001b[0m             \u001b[0mslices\u001b[0m \u001b[0;34m=\u001b[0m \u001b[0mself\u001b[0m\u001b[0;34m.\u001b[0m\u001b[0m_realign_boundaries\u001b[0m\u001b[0;34m(\u001b[0m\u001b[0mtext\u001b[0m\u001b[0;34m,\u001b[0m \u001b[0mslices\u001b[0m\u001b[0;34m)\u001b[0m\u001b[0;34m\u001b[0m\u001b[0;34m\u001b[0m\u001b[0m\n\u001b[0;32m-> 1322\u001b[0;31m         \u001b[0;32mfor\u001b[0m \u001b[0msentence\u001b[0m \u001b[0;32min\u001b[0m \u001b[0mslices\u001b[0m\u001b[0;34m:\u001b[0m\u001b[0;34m\u001b[0m\u001b[0;34m\u001b[0m\u001b[0m\n\u001b[0m\u001b[1;32m   1323\u001b[0m             \u001b[0;32myield\u001b[0m \u001b[0;34m(\u001b[0m\u001b[0msentence\u001b[0m\u001b[0;34m.\u001b[0m\u001b[0mstart\u001b[0m\u001b[0;34m,\u001b[0m \u001b[0msentence\u001b[0m\u001b[0;34m.\u001b[0m\u001b[0mstop\u001b[0m\u001b[0;34m)\u001b[0m\u001b[0;34m\u001b[0m\u001b[0;34m\u001b[0m\u001b[0m\n\u001b[1;32m   1324\u001b[0m \u001b[0;34m\u001b[0m\u001b[0m\n",
            "\u001b[0;32m/usr/local/lib/python3.7/dist-packages/nltk/tokenize/punkt.py\u001b[0m in \u001b[0;36m_realign_boundaries\u001b[0;34m(self, text, slices)\u001b[0m\n\u001b[1;32m   1419\u001b[0m         \"\"\"\n\u001b[1;32m   1420\u001b[0m         \u001b[0mrealign\u001b[0m \u001b[0;34m=\u001b[0m \u001b[0;36m0\u001b[0m\u001b[0;34m\u001b[0m\u001b[0;34m\u001b[0m\u001b[0m\n\u001b[0;32m-> 1421\u001b[0;31m         \u001b[0;32mfor\u001b[0m \u001b[0msentence1\u001b[0m\u001b[0;34m,\u001b[0m \u001b[0msentence2\u001b[0m \u001b[0;32min\u001b[0m \u001b[0m_pair_iter\u001b[0m\u001b[0;34m(\u001b[0m\u001b[0mslices\u001b[0m\u001b[0;34m)\u001b[0m\u001b[0;34m:\u001b[0m\u001b[0;34m\u001b[0m\u001b[0;34m\u001b[0m\u001b[0m\n\u001b[0m\u001b[1;32m   1422\u001b[0m             \u001b[0msentence1\u001b[0m \u001b[0;34m=\u001b[0m \u001b[0mslice\u001b[0m\u001b[0;34m(\u001b[0m\u001b[0msentence1\u001b[0m\u001b[0;34m.\u001b[0m\u001b[0mstart\u001b[0m \u001b[0;34m+\u001b[0m \u001b[0mrealign\u001b[0m\u001b[0;34m,\u001b[0m \u001b[0msentence1\u001b[0m\u001b[0;34m.\u001b[0m\u001b[0mstop\u001b[0m\u001b[0;34m)\u001b[0m\u001b[0;34m\u001b[0m\u001b[0;34m\u001b[0m\u001b[0m\n\u001b[1;32m   1423\u001b[0m             \u001b[0;32mif\u001b[0m \u001b[0;32mnot\u001b[0m \u001b[0msentence2\u001b[0m\u001b[0;34m:\u001b[0m\u001b[0;34m\u001b[0m\u001b[0;34m\u001b[0m\u001b[0m\n",
            "\u001b[0;32m/usr/local/lib/python3.7/dist-packages/nltk/tokenize/punkt.py\u001b[0m in \u001b[0;36m_pair_iter\u001b[0;34m(iterator)\u001b[0m\n\u001b[1;32m    316\u001b[0m     \u001b[0miterator\u001b[0m \u001b[0;34m=\u001b[0m \u001b[0miter\u001b[0m\u001b[0;34m(\u001b[0m\u001b[0miterator\u001b[0m\u001b[0;34m)\u001b[0m\u001b[0;34m\u001b[0m\u001b[0;34m\u001b[0m\u001b[0m\n\u001b[1;32m    317\u001b[0m     \u001b[0;32mtry\u001b[0m\u001b[0;34m:\u001b[0m\u001b[0;34m\u001b[0m\u001b[0;34m\u001b[0m\u001b[0m\n\u001b[0;32m--> 318\u001b[0;31m         \u001b[0mprev\u001b[0m \u001b[0;34m=\u001b[0m \u001b[0mnext\u001b[0m\u001b[0;34m(\u001b[0m\u001b[0miterator\u001b[0m\u001b[0;34m)\u001b[0m\u001b[0;34m\u001b[0m\u001b[0;34m\u001b[0m\u001b[0m\n\u001b[0m\u001b[1;32m    319\u001b[0m     \u001b[0;32mexcept\u001b[0m \u001b[0mStopIteration\u001b[0m\u001b[0;34m:\u001b[0m\u001b[0;34m\u001b[0m\u001b[0;34m\u001b[0m\u001b[0m\n\u001b[1;32m    320\u001b[0m         \u001b[0;32mreturn\u001b[0m\u001b[0;34m\u001b[0m\u001b[0;34m\u001b[0m\u001b[0m\n",
            "\u001b[0;32m/usr/local/lib/python3.7/dist-packages/nltk/tokenize/punkt.py\u001b[0m in \u001b[0;36m_slices_from_text\u001b[0;34m(self, text)\u001b[0m\n\u001b[1;32m   1393\u001b[0m     \u001b[0;32mdef\u001b[0m \u001b[0m_slices_from_text\u001b[0m\u001b[0;34m(\u001b[0m\u001b[0mself\u001b[0m\u001b[0;34m,\u001b[0m \u001b[0mtext\u001b[0m\u001b[0;34m)\u001b[0m\u001b[0;34m:\u001b[0m\u001b[0;34m\u001b[0m\u001b[0;34m\u001b[0m\u001b[0m\n\u001b[1;32m   1394\u001b[0m         \u001b[0mlast_break\u001b[0m \u001b[0;34m=\u001b[0m \u001b[0;36m0\u001b[0m\u001b[0;34m\u001b[0m\u001b[0;34m\u001b[0m\u001b[0m\n\u001b[0;32m-> 1395\u001b[0;31m         \u001b[0;32mfor\u001b[0m \u001b[0mmatch\u001b[0m\u001b[0;34m,\u001b[0m \u001b[0mcontext\u001b[0m \u001b[0;32min\u001b[0m \u001b[0mself\u001b[0m\u001b[0;34m.\u001b[0m\u001b[0m_match_potential_end_contexts\u001b[0m\u001b[0;34m(\u001b[0m\u001b[0mtext\u001b[0m\u001b[0;34m)\u001b[0m\u001b[0;34m:\u001b[0m\u001b[0;34m\u001b[0m\u001b[0;34m\u001b[0m\u001b[0m\n\u001b[0m\u001b[1;32m   1396\u001b[0m             \u001b[0;32mif\u001b[0m \u001b[0mself\u001b[0m\u001b[0;34m.\u001b[0m\u001b[0mtext_contains_sentbreak\u001b[0m\u001b[0;34m(\u001b[0m\u001b[0mcontext\u001b[0m\u001b[0;34m)\u001b[0m\u001b[0;34m:\u001b[0m\u001b[0;34m\u001b[0m\u001b[0;34m\u001b[0m\u001b[0m\n\u001b[1;32m   1397\u001b[0m                 \u001b[0;32myield\u001b[0m \u001b[0mslice\u001b[0m\u001b[0;34m(\u001b[0m\u001b[0mlast_break\u001b[0m\u001b[0;34m,\u001b[0m \u001b[0mmatch\u001b[0m\u001b[0;34m.\u001b[0m\u001b[0mend\u001b[0m\u001b[0;34m(\u001b[0m\u001b[0;34m)\u001b[0m\u001b[0;34m)\u001b[0m\u001b[0;34m\u001b[0m\u001b[0;34m\u001b[0m\u001b[0m\n",
            "\u001b[0;32m/usr/local/lib/python3.7/dist-packages/nltk/tokenize/punkt.py\u001b[0m in \u001b[0;36m_match_potential_end_contexts\u001b[0;34m(self, text)\u001b[0m\n\u001b[1;32m   1373\u001b[0m         \u001b[0mbefore_words\u001b[0m \u001b[0;34m=\u001b[0m \u001b[0;34m{\u001b[0m\u001b[0;34m}\u001b[0m\u001b[0;34m\u001b[0m\u001b[0;34m\u001b[0m\u001b[0m\n\u001b[1;32m   1374\u001b[0m         \u001b[0mmatches\u001b[0m \u001b[0;34m=\u001b[0m \u001b[0;34m[\u001b[0m\u001b[0;34m]\u001b[0m\u001b[0;34m\u001b[0m\u001b[0;34m\u001b[0m\u001b[0m\n\u001b[0;32m-> 1375\u001b[0;31m         \u001b[0;32mfor\u001b[0m \u001b[0mmatch\u001b[0m \u001b[0;32min\u001b[0m \u001b[0mreversed\u001b[0m\u001b[0;34m(\u001b[0m\u001b[0mlist\u001b[0m\u001b[0;34m(\u001b[0m\u001b[0mself\u001b[0m\u001b[0;34m.\u001b[0m\u001b[0m_lang_vars\u001b[0m\u001b[0;34m.\u001b[0m\u001b[0mperiod_context_re\u001b[0m\u001b[0;34m(\u001b[0m\u001b[0;34m)\u001b[0m\u001b[0;34m.\u001b[0m\u001b[0mfinditer\u001b[0m\u001b[0;34m(\u001b[0m\u001b[0mtext\u001b[0m\u001b[0;34m)\u001b[0m\u001b[0;34m)\u001b[0m\u001b[0;34m)\u001b[0m\u001b[0;34m:\u001b[0m\u001b[0;34m\u001b[0m\u001b[0;34m\u001b[0m\u001b[0m\n\u001b[0m\u001b[1;32m   1376\u001b[0m             \u001b[0;31m# Ignore matches that have already been captured by matches to the right of this match\u001b[0m\u001b[0;34m\u001b[0m\u001b[0;34m\u001b[0m\u001b[0;34m\u001b[0m\u001b[0m\n\u001b[1;32m   1377\u001b[0m             \u001b[0;32mif\u001b[0m \u001b[0mmatches\u001b[0m \u001b[0;32mand\u001b[0m \u001b[0mmatch\u001b[0m\u001b[0;34m.\u001b[0m\u001b[0mend\u001b[0m\u001b[0;34m(\u001b[0m\u001b[0;34m)\u001b[0m \u001b[0;34m>\u001b[0m \u001b[0mbefore_start\u001b[0m\u001b[0;34m:\u001b[0m\u001b[0;34m\u001b[0m\u001b[0;34m\u001b[0m\u001b[0m\n",
            "\u001b[0;31mTypeError\u001b[0m: expected string or bytes-like object"
          ]
        }
      ]
    },
    {
      "cell_type": "code",
      "source": [
        "text.concordance(\"monstrous\")\n"
      ],
      "metadata": {
        "colab": {
          "base_uri": "https://localhost:8080/"
        },
        "id": "I0m7JmAQievC",
        "outputId": "08a700bd-8008-4a97-eeb9-991b50c05a7d"
      },
      "execution_count": null,
      "outputs": [
        {
          "output_type": "stream",
          "name": "stdout",
          "text": [
            "Displaying 11 of 11 matches:\n",
            "ong the former , one was of a most monstrous size . ... This came towards us , \n",
            "ON OF THE PSALMS . \" Touching that monstrous bulk of the whale or ork we have r\n",
            "ll over with a heathenish array of monstrous clubs and spears . Some were thick\n",
            "d as you gazed , and wondered what monstrous cannibal and savage could ever hav\n",
            "that has survived the flood ; most monstrous and most mountainous ! That Himmal\n",
            "they might scout at Moby Dick as a monstrous fable , or still worse and more de\n",
            "th of Radney .'\" CHAPTER 55 Of the Monstrous Pictures of Whales . I shall ere l\n",
            "ing Scenes . In connexion with the monstrous pictures of whales , I am strongly\n",
            "ere to enter upon those still more monstrous stories of them which are to be fo\n",
            "ght have been rummaged out of this monstrous cabinet there is no telling . But \n",
            "of Whale - Bones ; for Whales of a monstrous size are oftentimes cast up dead u\n"
          ]
        }
      ]
    },
    {
      "cell_type": "code",
      "source": [
        "text.concordance([\"monstrous\", \"size\"])"
      ],
      "metadata": {
        "colab": {
          "base_uri": "https://localhost:8080/"
        },
        "id": "euMdleg2irxV",
        "outputId": "cd0e847f-ba1c-4e66-f615-fab6ec030f7f"
      },
      "execution_count": null,
      "outputs": [
        {
          "output_type": "stream",
          "name": "stdout",
          "text": [
            "Displaying 2 of 2 matches:\n",
            " the former , one was of a most monstrous size . ... This came towards us , op\n",
            "Whale - Bones ; for Whales of a monstrous size are oftentimes cast up dead upo\n"
          ]
        }
      ]
    },
    {
      "cell_type": "code",
      "source": [
        "from nltk.corpus import gutenberg\n",
        "from nltk.text import Text\n",
        "corpus = gutenberg.words('melville-moby_dick.txt')\n",
        "text = Text(corpus)\n",
        "for i in range(len(text)):\n",
        "    print(str(text[i])+\"==\"+str(wordfreq[i]))\n",
        "    import matplotlib.pyplot as plt\n",
        "plt.bar(text[:10],wordfreq[:-1])\n",
        "plt.show()\n",
        "con_list = text.concordance_list(\"monstrous\")\n",
        "con_list[2].line\n",
        "len(con_list)"
      ],
      "metadata": {
        "colab": {
          "base_uri": "https://localhost:8080/",
          "height": 1000
        },
        "id": "C74pE1LcivCr",
        "outputId": "81301362-d9a8-453f-97f9-fc2c25a254f8"
      },
      "execution_count": null,
      "outputs": [
        {
          "output_type": "stream",
          "name": "stdout",
          "text": [
            "[==1\n",
            "Moby==1\n",
            "Dick==2\n",
            "by==3\n",
            "Herman==1\n",
            "Melville==1\n",
            "1851==1\n",
            "]==1\n",
            "ETYMOLOGY==2\n",
            ".==2\n",
            "(==1\n",
            "Supplied==1\n",
            "by==1\n",
            "a==1\n",
            "Late==1\n",
            "Consumptive==2\n",
            "Usher==1\n",
            "to==2\n",
            "a==1\n",
            "Grammar==1\n",
            "School==1\n",
            ")==1\n",
            "The==1\n",
            "pale==1\n",
            "Usher==3\n",
            "--==1\n",
            "threadbare==1\n",
            "in==1\n",
            "coat==1\n",
            ",==1\n",
            "heart==1\n",
            ",==1\n",
            "body==3\n",
            ",==1\n",
            "and==2\n",
            "brain==1\n",
            ";==1\n",
            "I==2\n",
            "see==2\n",
            "him==1\n",
            "now==1\n",
            ".==1\n"
          ]
        },
        {
          "output_type": "error",
          "ename": "IndexError",
          "evalue": "ignored",
          "traceback": [
            "\u001b[0;31m---------------------------------------------------------------------------\u001b[0m",
            "\u001b[0;31mIndexError\u001b[0m                                Traceback (most recent call last)",
            "\u001b[0;32m<ipython-input-147-81706b8b9731>\u001b[0m in \u001b[0;36m<module>\u001b[0;34m\u001b[0m\n\u001b[1;32m      4\u001b[0m \u001b[0mtext\u001b[0m \u001b[0;34m=\u001b[0m \u001b[0mText\u001b[0m\u001b[0;34m(\u001b[0m\u001b[0mcorpus\u001b[0m\u001b[0;34m)\u001b[0m\u001b[0;34m\u001b[0m\u001b[0;34m\u001b[0m\u001b[0m\n\u001b[1;32m      5\u001b[0m \u001b[0;32mfor\u001b[0m \u001b[0mi\u001b[0m \u001b[0;32min\u001b[0m \u001b[0mrange\u001b[0m\u001b[0;34m(\u001b[0m\u001b[0mlen\u001b[0m\u001b[0;34m(\u001b[0m\u001b[0mtext\u001b[0m\u001b[0;34m)\u001b[0m\u001b[0;34m)\u001b[0m\u001b[0;34m:\u001b[0m\u001b[0;34m\u001b[0m\u001b[0;34m\u001b[0m\u001b[0m\n\u001b[0;32m----> 6\u001b[0;31m     \u001b[0mprint\u001b[0m\u001b[0;34m(\u001b[0m\u001b[0mstr\u001b[0m\u001b[0;34m(\u001b[0m\u001b[0mtext\u001b[0m\u001b[0;34m[\u001b[0m\u001b[0mi\u001b[0m\u001b[0;34m]\u001b[0m\u001b[0;34m)\u001b[0m\u001b[0;34m+\u001b[0m\u001b[0;34m\"==\"\u001b[0m\u001b[0;34m+\u001b[0m\u001b[0mstr\u001b[0m\u001b[0;34m(\u001b[0m\u001b[0mwordfreq\u001b[0m\u001b[0;34m[\u001b[0m\u001b[0mi\u001b[0m\u001b[0;34m]\u001b[0m\u001b[0;34m)\u001b[0m\u001b[0;34m)\u001b[0m\u001b[0;34m\u001b[0m\u001b[0;34m\u001b[0m\u001b[0m\n\u001b[0m\u001b[1;32m      7\u001b[0m     \u001b[0;32mimport\u001b[0m \u001b[0mmatplotlib\u001b[0m\u001b[0;34m.\u001b[0m\u001b[0mpyplot\u001b[0m \u001b[0;32mas\u001b[0m \u001b[0mplt\u001b[0m\u001b[0;34m\u001b[0m\u001b[0;34m\u001b[0m\u001b[0m\n\u001b[1;32m      8\u001b[0m \u001b[0mplt\u001b[0m\u001b[0;34m.\u001b[0m\u001b[0mbar\u001b[0m\u001b[0;34m(\u001b[0m\u001b[0mtext\u001b[0m\u001b[0;34m[\u001b[0m\u001b[0;34m:\u001b[0m\u001b[0;36m10\u001b[0m\u001b[0;34m]\u001b[0m\u001b[0;34m,\u001b[0m\u001b[0mwordfreq\u001b[0m\u001b[0;34m[\u001b[0m\u001b[0;34m:\u001b[0m\u001b[0;34m-\u001b[0m\u001b[0;36m1\u001b[0m\u001b[0;34m]\u001b[0m\u001b[0;34m)\u001b[0m\u001b[0;34m\u001b[0m\u001b[0;34m\u001b[0m\u001b[0m\n",
            "\u001b[0;31mIndexError\u001b[0m: list index out of range"
          ]
        }
      ]
    },
    {
      "cell_type": "code",
      "source": [],
      "metadata": {
        "id": "_ueISPqPpmm1"
      },
      "execution_count": null,
      "outputs": []
    },
    {
      "cell_type": "code",
      "source": [
        "corpus_root = 'C:/Users/Aleena/Documents/Anything JM'\n",
        "#tiny_corp = PlaintextCorpusReader(corpus_root, '.*txt')   \n",
        "test = tiny_corp.sents()\n",
        "print(test)\n",
        "#converting the generator object result in to list\n",
        "doc1 = list(doc.sents)\n",
        "  \n",
        "#Now we can use it randomly as\n",
        "doc1[1]"
      ],
      "metadata": {
        "colab": {
          "base_uri": "https://localhost:8080/",
          "height": 246
        },
        "id": "Dh85mvrbj22j",
        "outputId": "4d1bb3e1-e458-490a-fe60-fffc37d00d0c"
      },
      "execution_count": null,
      "outputs": [
        {
          "output_type": "error",
          "ename": "NameError",
          "evalue": "ignored",
          "traceback": [
            "\u001b[0;31m---------------------------------------------------------------------------\u001b[0m",
            "\u001b[0;31mNameError\u001b[0m                                 Traceback (most recent call last)",
            "\u001b[0;32m<ipython-input-140-c1f8d4c566b9>\u001b[0m in \u001b[0;36m<module>\u001b[0;34m\u001b[0m\n\u001b[1;32m      1\u001b[0m \u001b[0mcorpus_root\u001b[0m \u001b[0;34m=\u001b[0m \u001b[0;34m'C:/Users/Aleena/Documents/Anything JM'\u001b[0m\u001b[0;34m\u001b[0m\u001b[0;34m\u001b[0m\u001b[0m\n\u001b[1;32m      2\u001b[0m \u001b[0;31m#tiny_corp = PlaintextCorpusReader(corpus_root, '.*txt')\u001b[0m\u001b[0;34m\u001b[0m\u001b[0;34m\u001b[0m\u001b[0;34m\u001b[0m\u001b[0m\n\u001b[0;32m----> 3\u001b[0;31m \u001b[0mtest\u001b[0m \u001b[0;34m=\u001b[0m \u001b[0mtiny_corp\u001b[0m\u001b[0;34m.\u001b[0m\u001b[0msents\u001b[0m\u001b[0;34m(\u001b[0m\u001b[0;34m)\u001b[0m\u001b[0;34m\u001b[0m\u001b[0;34m\u001b[0m\u001b[0m\n\u001b[0m\u001b[1;32m      4\u001b[0m \u001b[0mprint\u001b[0m\u001b[0;34m(\u001b[0m\u001b[0mtest\u001b[0m\u001b[0;34m)\u001b[0m\u001b[0;34m\u001b[0m\u001b[0;34m\u001b[0m\u001b[0m\n\u001b[1;32m      5\u001b[0m \u001b[0;31m#converting the generator object result in to list\u001b[0m\u001b[0;34m\u001b[0m\u001b[0;34m\u001b[0m\u001b[0;34m\u001b[0m\u001b[0m\n",
            "\u001b[0;31mNameError\u001b[0m: name 'tiny_corp' is not defined"
          ]
        }
      ]
    }
  ]
}