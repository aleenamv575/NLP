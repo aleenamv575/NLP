{
  "nbformat": 4,
  "nbformat_minor": 0,
  "metadata": {
    "colab": {
      "provenance": [],
      "collapsed_sections": []
    },
    "kernelspec": {
      "name": "python3",
      "display_name": "Python 3"
    },
    "language_info": {
      "name": "python"
    }
  },
  "cells": [
    {
      "cell_type": "code",
      "execution_count": 1,
      "metadata": {
        "id": "bPm5WeRt9_qq",
        "colab": {
          "base_uri": "https://localhost:8080/"
        },
        "outputId": "112b4e2e-fb8c-4e77-8191-83eaf0281d61"
      },
      "outputs": [
        {
          "output_type": "stream",
          "name": "stderr",
          "text": [
            "[nltk_data] Downloading package wordnet to /root/nltk_data...\n",
            "[nltk_data] Downloading package omw-1.4 to /root/nltk_data...\n"
          ]
        }
      ],
      "source": [
        "import nltk\n",
        "nltk.download('wordnet')\n",
        "nltk.download('omw-1.4')\n",
        "from nltk.corpus import wordnet\n",
        "from nltk.corpus import wordnet as wn"
      ]
    },
    {
      "cell_type": "code",
      "source": [
        "#Synset: It is also called as synonym set or collection of synonym words.\n",
        "syns = wordnet.synsets(\"products\")\n",
        "print(syns)\n"
      ],
      "metadata": {
        "colab": {
          "base_uri": "https://localhost:8080/"
        },
        "id": "0h0DJ-tr_V67",
        "outputId": "a295de24-1c4a-4084-e707-e06eedb0abff"
      },
      "execution_count": 2,
      "outputs": [
        {
          "output_type": "stream",
          "name": "stdout",
          "text": [
            "[Synset('merchandise.n.01'), Synset('product.n.02'), Synset('product.n.03'), Synset('product.n.04'), Synset('product.n.05'), Synset('intersection.n.04')]\n"
          ]
        }
      ]
    },
    {
      "cell_type": "code",
      "source": [
        "#to find antonyms and synonyms of the word \n",
        "synonyms = []\n",
        "antonyms = [] \n",
        "\n",
        "for syn in wordnet.synsets(\"deceptive\"):\n",
        " for l in syn.lemmas():\n",
        "\t\t\tsynonyms.append(l.name())\n",
        "\t\t\tif l.antonyms():\n",
        "\t\t\t\t antonyms.append(l.name())\n",
        "\n",
        "print(set(synonyms))\n",
        "print(set(antonyms))"
      ],
      "metadata": {
        "colab": {
          "base_uri": "https://localhost:8080/"
        },
        "id": "IjkpVJGZBCMF",
        "outputId": "fa943197-0dd8-472e-94c3-f78e2e57b533"
      },
      "execution_count": 3,
      "outputs": [
        {
          "output_type": "stream",
          "name": "stdout",
          "text": [
            "{'shoddy', 'misleading', 'deceptive', 'delusory'}\n",
            "set()\n"
          ]
        }
      ]
    },
    {
      "cell_type": "code",
      "source": [
        "syn = list()\n",
        "ant = list()\n",
        "word = input(\"Enter Word For Antonym and Synonym Search: \")\n",
        "x = wn.synsets(word) #printing synonymous word set from wordnet\n",
        "print(x)\n",
        "for synset in wordnet.synsets(word):\n",
        "   for lemma in synset.lemmas():\n",
        "      syn.append(lemma.name())    #adding the synonyms\n",
        "      if lemma.antonyms():    #When antonyms are available, adding them into the list\n",
        "          ant.append(lemma.antonyms()[0].name())\n",
        "print('Synonyms: ' + str(syn))\n",
        "print('Antonyms: ' + str(ant))\n",
        "\n",
        "word1 = input(\"Enter Word1 for comparison:\")\n",
        "word2 = input(\"Enter Word2 for comparison:\")\n",
        "first_word = wordnet.synset(word1)\n",
        "second_word = wordnet.synset(word2)\n",
        "print('Similarity: ' + str(first_word.wup_similarity(second_word)))"
      ],
      "metadata": {
        "id": "N5nbsXikWDZJ",
        "colab": {
          "base_uri": "https://localhost:8080/"
        },
        "outputId": "4c71c739-799e-471e-92fb-4bbf5c4995ba"
      },
      "execution_count": 6,
      "outputs": [
        {
          "output_type": "stream",
          "name": "stdout",
          "text": [
            "Enter Word For Antonym and Synonym Search: happy\n",
            "[Synset('happy.a.01'), Synset('felicitous.s.02'), Synset('glad.s.02'), Synset('happy.s.04')]\n",
            "Synonyms: ['happy', 'felicitous', 'happy', 'glad', 'happy', 'happy', 'well-chosen']\n",
            "Antonyms: ['unhappy']\n",
            "Enter Word1 for comparison:glad.s.02\n",
            "Enter Word2 for comparison:happy.a.01\n",
            "Similarity: 0.5\n"
          ]
        }
      ]
    },
    {
      "cell_type": "code",
      "source": [],
      "metadata": {
        "id": "JTJ35yrUPpIa"
      },
      "execution_count": null,
      "outputs": []
    },
    {
      "cell_type": "code",
      "source": [
        "\n",
        "first_word = wordnet.synset(\"merchandise.n.01\")\n",
        "second_word = wordnet.synset(\"product.n.02\")\n",
        "print('Similarity: ' + str(first_word.wup_similarity(second_word)))\n",
        "first_word = wordnet.synset(\"Good.n.01\")\n",
        "second_word = wordnet.synset(\"intersection.n.04\")\n",
        "print('Similarity: ' + str(first_word.wup_similarity(second_word)))"
      ],
      "metadata": {
        "id": "r1Y7YvQtCRhS",
        "colab": {
          "base_uri": "https://localhost:8080/"
        },
        "outputId": "891b2f25-14bd-4f9d-837d-f62da29eac4c"
      },
      "execution_count": 7,
      "outputs": [
        {
          "output_type": "stream",
          "name": "stdout",
          "text": [
            "Similarity: 0.7142857142857143\n",
            "Similarity: 0.3076923076923077\n"
          ]
        }
      ]
    },
    {
      "cell_type": "code",
      "source": [
        "wn.synset('product.n.01').hyponyms()"
      ],
      "metadata": {
        "id": "RIQynbgyDwBK",
        "colab": {
          "base_uri": "https://localhost:8080/"
        },
        "outputId": "13a51560-ba8e-477d-b43f-071469195605"
      },
      "execution_count": 8,
      "outputs": [
        {
          "output_type": "execute_result",
          "data": {
            "text/plain": [
              "[Synset('cargo.n.01'),\n",
              " Synset('contraband.n.01'),\n",
              " Synset('feature.n.06'),\n",
              " Synset('generic.n.02'),\n",
              " Synset('ironmongery.n.01'),\n",
              " Synset('irregular.n.02'),\n",
              " Synset('line.n.22'),\n",
              " Synset('number.n.11'),\n",
              " Synset('refill.n.02'),\n",
              " Synset('release.n.01'),\n",
              " Synset('schlock.n.01'),\n",
              " Synset('software_package.n.02'),\n",
              " Synset('stock.n.02'),\n",
              " Synset('top_of_the_line.n.01'),\n",
              " Synset('yard_goods.n.01')]"
            ]
          },
          "metadata": {},
          "execution_count": 8
        }
      ]
    },
    {
      "cell_type": "code",
      "source": [
        "wn.synset('merchandise.n.01').hypernyms()"
      ],
      "metadata": {
        "id": "JqtKo_paGEHV",
        "colab": {
          "base_uri": "https://localhost:8080/"
        },
        "outputId": "c27fa03d-6713-4bf1-c5b8-7f77af750498"
      },
      "execution_count": 9,
      "outputs": [
        {
          "output_type": "execute_result",
          "data": {
            "text/plain": [
              "[Synset('commodity.n.01')]"
            ]
          },
          "metadata": {},
          "execution_count": 9
        }
      ]
    },
    {
      "cell_type": "code",
      "source": [
        "wn.synset('product.n.01').hypernyms()"
      ],
      "metadata": {
        "id": "EOQBQ8u5GLzY",
        "colab": {
          "base_uri": "https://localhost:8080/"
        },
        "outputId": "c2cb88be-5640-4024-de05-c7b253ce6986"
      },
      "execution_count": 10,
      "outputs": [
        {
          "output_type": "execute_result",
          "data": {
            "text/plain": [
              "[Synset('commodity.n.01')]"
            ]
          },
          "metadata": {},
          "execution_count": 10
        }
      ]
    },
    {
      "cell_type": "code",
      "source": [
        "synset.hypernym_paths()"
      ],
      "metadata": {
        "id": "aNYEIsfcIijD",
        "colab": {
          "base_uri": "https://localhost:8080/"
        },
        "outputId": "2158aea9-50a2-48d8-89c7-bfac65ee124f"
      },
      "execution_count": 13,
      "outputs": [
        {
          "output_type": "execute_result",
          "data": {
            "text/plain": [
              "[[Synset('happy.s.04')]]"
            ]
          },
          "metadata": {},
          "execution_count": 13
        }
      ]
    },
    {
      "cell_type": "code",
      "source": [
        "synset.pos()\n"
      ],
      "metadata": {
        "id": "p2leVqUnIlSe",
        "colab": {
          "base_uri": "https://localhost:8080/",
          "height": 36
        },
        "outputId": "430ebd4e-8f57-4b29-be1f-423a75c26caf"
      },
      "execution_count": 15,
      "outputs": [
        {
          "output_type": "execute_result",
          "data": {
            "text/plain": [
              "'s'"
            ],
            "application/vnd.google.colaboratory.intrinsic+json": {
              "type": "string"
            }
          },
          "metadata": {},
          "execution_count": 15
        }
      ]
    },
    {
      "cell_type": "code",
      "source": [
        "wn.synsets('product.n.01').definition() //defining a word"
      ],
      "metadata": {
        "id": "atOFHsqGGSQW",
        "colab": {
          "base_uri": "https://localhost:8080/",
          "height": 131
        },
        "outputId": "5bb25100-2f27-4cbf-83d2-17320ed806da"
      },
      "execution_count": 19,
      "outputs": [
        {
          "output_type": "error",
          "ename": "SyntaxError",
          "evalue": "ignored",
          "traceback": [
            "\u001b[0;36m  File \u001b[0;32m\"<ipython-input-19-59bdec09c42b>\"\u001b[0;36m, line \u001b[0;32m1\u001b[0m\n\u001b[0;31m    wn.synsets('product.n.01').definition() //defining a word\u001b[0m\n\u001b[0m                                                       ^\u001b[0m\n\u001b[0;31mSyntaxError\u001b[0m\u001b[0;31m:\u001b[0m invalid syntax\n"
          ]
        }
      ]
    },
    {
      "cell_type": "code",
      "source": [
        "wn.synsets('kitchen') "
      ],
      "metadata": {
        "id": "0qBDqTzTGbc5",
        "colab": {
          "base_uri": "https://localhost:8080/"
        },
        "outputId": "2bffee1b-0cb9-40ea-e42e-06f951f1a056"
      },
      "execution_count": 20,
      "outputs": [
        {
          "output_type": "execute_result",
          "data": {
            "text/plain": [
              "[Synset('kitchen.n.01')]"
            ]
          },
          "metadata": {},
          "execution_count": 20
        }
      ]
    },
    {
      "cell_type": "code",
      "source": [
        "wn.synset('kitchen.n.01').part_holonyms() \n"
      ],
      "metadata": {
        "id": "vMWbzqO5Gm-x",
        "colab": {
          "base_uri": "https://localhost:8080/"
        },
        "outputId": "db171358-6b9e-4883-8578-23e8b242c2b7"
      },
      "execution_count": 21,
      "outputs": [
        {
          "output_type": "execute_result",
          "data": {
            "text/plain": [
              "[Synset('dwelling.n.01')]"
            ]
          },
          "metadata": {},
          "execution_count": 21
        }
      ]
    },
    {
      "cell_type": "code",
      "source": [
        "wn.synset('kitchen.n.01').part_meronyms() "
      ],
      "metadata": {
        "id": "kJoOhiujHAW1",
        "colab": {
          "base_uri": "https://localhost:8080/"
        },
        "outputId": "08741be8-f43e-4728-f905-9f6f2716c22a"
      },
      "execution_count": 22,
      "outputs": [
        {
          "output_type": "execute_result",
          "data": {
            "text/plain": [
              "[]"
            ]
          },
          "metadata": {},
          "execution_count": 22
        }
      ]
    },
    {
      "cell_type": "code",
      "source": [
        "wn.synset('shop.v.01').entailments()"
      ],
      "metadata": {
        "id": "RmQMuvPtHLRc",
        "colab": {
          "base_uri": "https://localhost:8080/"
        },
        "outputId": "9073b1c9-8482-47d1-e29d-2bc595d8bc99"
      },
      "execution_count": 24,
      "outputs": [
        {
          "output_type": "execute_result",
          "data": {
            "text/plain": [
              "[Synset('buy.v.01')]"
            ]
          },
          "metadata": {},
          "execution_count": 24
        }
      ]
    },
    {
      "cell_type": "code",
      "source": [
        "wn.synset('buy.v.01').entailments()"
      ],
      "metadata": {
        "id": "dre1HMyqHbnf",
        "colab": {
          "base_uri": "https://localhost:8080/"
        },
        "outputId": "a6760593-449f-4221-e1d6-5ce140b8dfbd"
      },
      "execution_count": 25,
      "outputs": [
        {
          "output_type": "execute_result",
          "data": {
            "text/plain": [
              "[Synset('choose.v.01'), Synset('pay.v.01')]"
            ]
          },
          "metadata": {},
          "execution_count": 25
        }
      ]
    },
    {
      "cell_type": "code",
      "source": [
        "wn.synset('look.v.01').entailments() "
      ],
      "metadata": {
        "id": "EYDvAtL3HpMi",
        "colab": {
          "base_uri": "https://localhost:8080/"
        },
        "outputId": "84f9a185-56b2-4e31-c384-deb6e9589a88"
      },
      "execution_count": 26,
      "outputs": [
        {
          "output_type": "execute_result",
          "data": {
            "text/plain": [
              "[Synset('see.v.01')]"
            ]
          },
          "metadata": {},
          "execution_count": 26
        }
      ]
    },
    {
      "cell_type": "code",
      "source": [
        "len(wordnet.synsets('product'))"
      ],
      "metadata": {
        "id": "fn_zbF-6I-hp",
        "colab": {
          "base_uri": "https://localhost:8080/"
        },
        "outputId": "6cbf4b89-819e-40ee-e53d-59f10e337db0"
      },
      "execution_count": 27,
      "outputs": [
        {
          "output_type": "execute_result",
          "data": {
            "text/plain": [
              "6"
            ]
          },
          "metadata": {},
          "execution_count": 27
        }
      ]
    },
    {
      "cell_type": "code",
      "source": [
        "len(wordnet.synsets('product', pos='n')) \n"
      ],
      "metadata": {
        "id": "oXreML3eJCk2",
        "colab": {
          "base_uri": "https://localhost:8080/"
        },
        "outputId": "d1301e6c-a104-447b-ace4-1a2a30432962"
      },
      "execution_count": 28,
      "outputs": [
        {
          "output_type": "execute_result",
          "data": {
            "text/plain": [
              "6"
            ]
          },
          "metadata": {},
          "execution_count": 28
        }
      ]
    },
    {
      "cell_type": "code",
      "source": [
        "len(wordnet.synsets('product', pos='a'))"
      ],
      "metadata": {
        "id": "x0KfbYw1JI5d",
        "colab": {
          "base_uri": "https://localhost:8080/"
        },
        "outputId": "82f5dfcb-3dff-47fb-ffed-0f07ac205505"
      },
      "execution_count": 29,
      "outputs": [
        {
          "output_type": "execute_result",
          "data": {
            "text/plain": [
              "0"
            ]
          },
          "metadata": {},
          "execution_count": 29
        }
      ]
    },
    {
      "cell_type": "code",
      "source": [],
      "metadata": {
        "id": "vz2UYkxxJWBA"
      },
      "execution_count": null,
      "outputs": []
    }
  ]
}