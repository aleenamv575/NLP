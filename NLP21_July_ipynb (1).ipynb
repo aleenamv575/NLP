{
  "nbformat": 4,
  "nbformat_minor": 0,
  "metadata": {
    "colab": {
      "provenance": [],
      "collapsed_sections": []
    },
    "kernelspec": {
      "name": "python3",
      "display_name": "Python 3"
    },
    "language_info": {
      "name": "python"
    }
  },
  "cells": [
    {
      "cell_type": "code",
      "execution_count": 18,
      "metadata": {
        "id": "TjgEfC_45B91",
        "colab": {
          "base_uri": "https://localhost:8080/"
        },
        "outputId": "1ae2611d-1a52-47f3-eb2d-5d814efb3281"
      },
      "outputs": [
        {
          "output_type": "stream",
          "name": "stdout",
          "text": [
            "['I', 'initially', 'had', 'trouble', 'deciding', 'between', 'the', 'paperwhite', 'and', 'the', 'voyage', 'because', 'reviews', 'more', 'or', 'less', 'said', 'the', 'same', 'thing', ':', 'the', 'paperwhite', 'is', 'great', ',', 'but', 'if', 'you', 'have', 'spending', 'money', ',', 'go', 'for', 'the', 'voyage.Fortunately', ',', 'I', 'had', 'friends', 'who', 'owned', 'each', ',', 'so', 'I', 'ended', 'up', 'buying', 'the', 'paperwhite', 'on', 'this', 'basis', ':', 'both', 'models', 'now', 'have', '300', 'ppi', ',', 'so', 'the', '80', 'dollar', 'jump', 'turns', 'out', 'pricey', 'the', 'voyage', \"'s\", 'page', 'press', 'is', \"n't\", 'always', 'sensitive', ',', 'and', 'if', 'you', 'are', 'fine', 'with', 'a', 'specific', 'setting', ',', 'you', 'do', \"n't\", 'need', 'auto', 'light', 'adjustment', ')', '.It', \"'s\", 'been', 'a', 'week', 'and', 'I', 'am', 'loving', 'my', 'paperwhite', ',', 'no', 'regrets', '!', 'The', 'touch', 'screen', 'is', 'receptive', 'and', 'easy', 'to', 'use', ',', 'and', 'I', 'keep', 'the', 'light', 'at', 'a', 'specific', 'setting', 'regardless', 'of', 'the', 'time', 'of', 'day', '.', '(', 'In', 'any', 'case', ',', 'it', \"'s\", 'not', 'hard', 'to', 'change', 'the', 'setting', 'either', ',', 'as', 'you', \"'ll\", 'only', 'be', 'changing', 'the', 'light', 'level', 'at', 'a', 'certain', 'time', 'of', 'day', ',', 'not', 'every', 'now', 'and', 'then', 'while', 'reading', ')', '.Also', 'glad', 'that', 'I', 'went', 'for', 'the', 'international', 'shipping', 'option', 'with', 'Amazon', '.', 'Extra', 'expense', ',', 'but', 'delivery', 'was', 'on', 'time', ',', 'with', 'tracking', ',', 'and', 'I', 'didnt', 'need', 'to', 'worry', 'about', 'customs', ',', 'which', 'I', 'may', 'have', 'if', 'I', 'used', 'a', 'third', 'party', 'shipping', 'service', '.']\n"
          ]
        }
      ],
      "source": [
        "import nltk\n",
        "\n",
        "import pandas as pd\n",
        "\n",
        "from nltk.tokenize import (sent_tokenize, WordPunctTokenizer, word_tokenize,regexp_tokenize,WhitespaceTokenizer,TreebankWordTokenizer,PunktSentenceTokenizer,WordPunctTokenizer, TweetTokenizer, MWETokenizer, RegexpTokenizer)\n",
        "\n",
        "\n",
        "\n",
        "text= \"I initially had trouble deciding between the paperwhite and the voyage because reviews more or less said the same thing: the paperwhite is great, but if you have spending money, go for the voyage.Fortunately, I had friends who owned each, so I ended up buying the paperwhite on this basis: both models now have 300 ppi, so the 80 dollar jump turns out pricey the voyage's page press isn't always sensitive, and if you are fine with a specific setting, you don't need auto light adjustment).It's been a week and I am loving my paperwhite, no regrets! The touch screen is receptive and easy to use, and I keep the light at a specific setting regardless of the time of day. (In any case, it's not hard to change the setting either, as you'll only be changing the light level at a certain time of day, not every now and then while reading).Also glad that I went for the international shipping option with Amazon. Extra expense, but delivery was on time, with tracking, and I didnt need to worry about customs, which I may have if I used a third party shipping service.\"\n",
        "\n",
        "\n",
        "print(word_tokenize(text))\n",
        "\n",
        "\n",
        "\n",
        "\n",
        "\n"
      ]
    },
    {
      "cell_type": "code",
      "source": [],
      "metadata": {
        "id": "24aKM3jxtsrZ"
      },
      "execution_count": 3,
      "outputs": []
    },
    {
      "cell_type": "code",
      "source": [
        "wt = WhitespaceTokenizer()\n",
        "     \n",
        "\n",
        "     \n",
        "\n",
        "wttk = wt.tokenize(text)\n",
        "     \n",
        "print(wttk)"
      ],
      "metadata": {
        "colab": {
          "base_uri": "https://localhost:8080/"
        },
        "id": "5cHNms7MBT-P",
        "outputId": "b98da2f6-8153-4b30-ff42-4c95e0e8923f"
      },
      "execution_count": 4,
      "outputs": [
        {
          "output_type": "stream",
          "name": "stdout",
          "text": [
            "['I', 'initially', 'had', 'trouble', 'deciding', 'between', 'the', 'paperwhite', 'and', 'the', 'voyage', 'because', 'reviews', 'more', 'or', 'less', 'said', 'the', 'same', 'thing:', 'the', 'paperwhite', 'is', 'great,', 'but', 'if', 'you', 'have', 'spending', 'money,', 'go', 'for', 'the', 'voyage.Fortunately,', 'I', 'had', 'friends', 'who', 'owned', 'each,', 'so', 'I', 'ended', 'up', 'buying', 'the', 'paperwhite', 'on', 'this', 'basis:', 'both', 'models', 'now', 'have', '300', 'ppi,', 'so', 'the', '80', 'dollar', 'jump', 'turns', 'out', 'pricey', 'the', \"voyage's\", 'page', 'press', \"isn't\", 'always', 'sensitive,', 'and', 'if', 'you', 'are', 'fine', 'with', 'a', 'specific', 'setting,', 'you', \"don't\", 'need', 'auto', 'light', \"adjustment).It's\", 'been', 'a', 'week', 'and', 'I', 'am', 'loving', 'my', 'paperwhite,', 'no', 'regrets!', 'The', 'touch', 'screen', 'is', 'receptive', 'and', 'easy', 'to', 'use,', 'and', 'I', 'keep', 'the', 'light', 'at', 'a', 'specific', 'setting', 'regardless', 'of', 'the', 'time', 'of', 'day.', '(In', 'any', 'case,', \"it's\", 'not', 'hard', 'to', 'change', 'the', 'setting', 'either,', 'as', \"you'll\", 'only', 'be', 'changing', 'the', 'light', 'level', 'at', 'a', 'certain', 'time', 'of', 'day,', 'not', 'every', 'now', 'and', 'then', 'while', 'reading).Also', 'glad', 'that', 'I', 'went', 'for', 'the', 'international', 'shipping', 'option', 'with', 'Amazon.', 'Extra', 'expense,', 'but', 'delivery', 'was', 'on', 'time,', 'with', 'tracking,', 'and', 'I', 'didnt', 'need', 'to', 'worry', 'about', 'customs,', 'which', 'I', 'may', 'have', 'if', 'I', 'used', 'a', 'third', 'party', 'shipping', 'service.']\n"
          ]
        }
      ]
    },
    {
      "cell_type": "code",
      "source": [
        "pt = PunktSentenceTokenizer()\n",
        "pttk = pt.tokenize(text)\n",
        "print(pttk)"
      ],
      "metadata": {
        "colab": {
          "base_uri": "https://localhost:8080/"
        },
        "id": "EUsBwSsXCdFV",
        "outputId": "bf6ef0c4-6d42-43da-dc3f-3026199ae854"
      },
      "execution_count": 5,
      "outputs": [
        {
          "output_type": "stream",
          "name": "stdout",
          "text": [
            "[\"I initially had trouble deciding between the paperwhite and the voyage because reviews more or less said the same thing: the paperwhite is great, but if you have spending money, go for the voyage.Fortunately, I had friends who owned each, so I ended up buying the paperwhite on this basis: both models now have 300 ppi, so the 80 dollar jump turns out pricey the voyage's page press isn't always sensitive, and if you are fine with a specific setting, you don't need auto light adjustment).It's been a week and I am loving my paperwhite, no regrets!\", 'The touch screen is receptive and easy to use, and I keep the light at a specific setting regardless of the time of day.', \"(In any case, it's not hard to change the setting either, as you'll only be changing the light level at a certain time of day, not every now and then while reading).Also glad that I went for the international shipping option with Amazon.\", 'Extra expense, but delivery was on time, with tracking, and I didnt need to worry about customs, which I may have if I used a third party shipping service.']\n"
          ]
        }
      ]
    },
    {
      "cell_type": "code",
      "source": [
        "wp = WordPunctTokenizer()\n",
        "wptk = wp.tokenize(text)\n",
        "print(wptk)"
      ],
      "metadata": {
        "colab": {
          "base_uri": "https://localhost:8080/"
        },
        "id": "BeylhvrcED13",
        "outputId": "4ea29a25-defe-43c0-b276-41e53acf4da0"
      },
      "execution_count": 6,
      "outputs": [
        {
          "output_type": "stream",
          "name": "stdout",
          "text": [
            "['I', 'initially', 'had', 'trouble', 'deciding', 'between', 'the', 'paperwhite', 'and', 'the', 'voyage', 'because', 'reviews', 'more', 'or', 'less', 'said', 'the', 'same', 'thing', ':', 'the', 'paperwhite', 'is', 'great', ',', 'but', 'if', 'you', 'have', 'spending', 'money', ',', 'go', 'for', 'the', 'voyage', '.', 'Fortunately', ',', 'I', 'had', 'friends', 'who', 'owned', 'each', ',', 'so', 'I', 'ended', 'up', 'buying', 'the', 'paperwhite', 'on', 'this', 'basis', ':', 'both', 'models', 'now', 'have', '300', 'ppi', ',', 'so', 'the', '80', 'dollar', 'jump', 'turns', 'out', 'pricey', 'the', 'voyage', \"'\", 's', 'page', 'press', 'isn', \"'\", 't', 'always', 'sensitive', ',', 'and', 'if', 'you', 'are', 'fine', 'with', 'a', 'specific', 'setting', ',', 'you', 'don', \"'\", 't', 'need', 'auto', 'light', 'adjustment', ').', 'It', \"'\", 's', 'been', 'a', 'week', 'and', 'I', 'am', 'loving', 'my', 'paperwhite', ',', 'no', 'regrets', '!', 'The', 'touch', 'screen', 'is', 'receptive', 'and', 'easy', 'to', 'use', ',', 'and', 'I', 'keep', 'the', 'light', 'at', 'a', 'specific', 'setting', 'regardless', 'of', 'the', 'time', 'of', 'day', '.', '(', 'In', 'any', 'case', ',', 'it', \"'\", 's', 'not', 'hard', 'to', 'change', 'the', 'setting', 'either', ',', 'as', 'you', \"'\", 'll', 'only', 'be', 'changing', 'the', 'light', 'level', 'at', 'a', 'certain', 'time', 'of', 'day', ',', 'not', 'every', 'now', 'and', 'then', 'while', 'reading', ').', 'Also', 'glad', 'that', 'I', 'went', 'for', 'the', 'international', 'shipping', 'option', 'with', 'Amazon', '.', 'Extra', 'expense', ',', 'but', 'delivery', 'was', 'on', 'time', ',', 'with', 'tracking', ',', 'and', 'I', 'didnt', 'need', 'to', 'worry', 'about', 'customs', ',', 'which', 'I', 'may', 'have', 'if', 'I', 'used', 'a', 'third', 'party', 'shipping', 'service', '.']\n"
          ]
        }
      ]
    },
    {
      "cell_type": "code",
      "source": [
        "tb = TreebankWordTokenizer()\n",
        "tbtk = tb.tokenize(text)\n",
        "print(tbtk)"
      ],
      "metadata": {
        "colab": {
          "base_uri": "https://localhost:8080/"
        },
        "id": "BxNBSNU4EuAd",
        "outputId": "4811225b-6a49-42d2-e242-d572eb41fab2"
      },
      "execution_count": 7,
      "outputs": [
        {
          "output_type": "stream",
          "name": "stdout",
          "text": [
            "['I', 'initially', 'had', 'trouble', 'deciding', 'between', 'the', 'paperwhite', 'and', 'the', 'voyage', 'because', 'reviews', 'more', 'or', 'less', 'said', 'the', 'same', 'thing', ':', 'the', 'paperwhite', 'is', 'great', ',', 'but', 'if', 'you', 'have', 'spending', 'money', ',', 'go', 'for', 'the', 'voyage.Fortunately', ',', 'I', 'had', 'friends', 'who', 'owned', 'each', ',', 'so', 'I', 'ended', 'up', 'buying', 'the', 'paperwhite', 'on', 'this', 'basis', ':', 'both', 'models', 'now', 'have', '300', 'ppi', ',', 'so', 'the', '80', 'dollar', 'jump', 'turns', 'out', 'pricey', 'the', 'voyage', \"'s\", 'page', 'press', 'is', \"n't\", 'always', 'sensitive', ',', 'and', 'if', 'you', 'are', 'fine', 'with', 'a', 'specific', 'setting', ',', 'you', 'do', \"n't\", 'need', 'auto', 'light', 'adjustment', ')', '.It', \"'s\", 'been', 'a', 'week', 'and', 'I', 'am', 'loving', 'my', 'paperwhite', ',', 'no', 'regrets', '!', 'The', 'touch', 'screen', 'is', 'receptive', 'and', 'easy', 'to', 'use', ',', 'and', 'I', 'keep', 'the', 'light', 'at', 'a', 'specific', 'setting', 'regardless', 'of', 'the', 'time', 'of', 'day.', '(', 'In', 'any', 'case', ',', 'it', \"'s\", 'not', 'hard', 'to', 'change', 'the', 'setting', 'either', ',', 'as', 'you', \"'ll\", 'only', 'be', 'changing', 'the', 'light', 'level', 'at', 'a', 'certain', 'time', 'of', 'day', ',', 'not', 'every', 'now', 'and', 'then', 'while', 'reading', ')', '.Also', 'glad', 'that', 'I', 'went', 'for', 'the', 'international', 'shipping', 'option', 'with', 'Amazon.', 'Extra', 'expense', ',', 'but', 'delivery', 'was', 'on', 'time', ',', 'with', 'tracking', ',', 'and', 'I', 'didnt', 'need', 'to', 'worry', 'about', 'customs', ',', 'which', 'I', 'may', 'have', 'if', 'I', 'used', 'a', 'third', 'party', 'shipping', 'service', '.']\n"
          ]
        }
      ]
    },
    {
      "cell_type": "code",
      "source": [
        "tt = TweetTokenizer()\n",
        "tttk = tb.tokenize(text)\n",
        "print(tttk)"
      ],
      "metadata": {
        "colab": {
          "base_uri": "https://localhost:8080/"
        },
        "id": "j2NM3awOFmHX",
        "outputId": "5670ee60-f137-49e3-fea7-36e77cc7b62e"
      },
      "execution_count": 8,
      "outputs": [
        {
          "output_type": "stream",
          "name": "stdout",
          "text": [
            "['I', 'initially', 'had', 'trouble', 'deciding', 'between', 'the', 'paperwhite', 'and', 'the', 'voyage', 'because', 'reviews', 'more', 'or', 'less', 'said', 'the', 'same', 'thing', ':', 'the', 'paperwhite', 'is', 'great', ',', 'but', 'if', 'you', 'have', 'spending', 'money', ',', 'go', 'for', 'the', 'voyage.Fortunately', ',', 'I', 'had', 'friends', 'who', 'owned', 'each', ',', 'so', 'I', 'ended', 'up', 'buying', 'the', 'paperwhite', 'on', 'this', 'basis', ':', 'both', 'models', 'now', 'have', '300', 'ppi', ',', 'so', 'the', '80', 'dollar', 'jump', 'turns', 'out', 'pricey', 'the', 'voyage', \"'s\", 'page', 'press', 'is', \"n't\", 'always', 'sensitive', ',', 'and', 'if', 'you', 'are', 'fine', 'with', 'a', 'specific', 'setting', ',', 'you', 'do', \"n't\", 'need', 'auto', 'light', 'adjustment', ')', '.It', \"'s\", 'been', 'a', 'week', 'and', 'I', 'am', 'loving', 'my', 'paperwhite', ',', 'no', 'regrets', '!', 'The', 'touch', 'screen', 'is', 'receptive', 'and', 'easy', 'to', 'use', ',', 'and', 'I', 'keep', 'the', 'light', 'at', 'a', 'specific', 'setting', 'regardless', 'of', 'the', 'time', 'of', 'day.', '(', 'In', 'any', 'case', ',', 'it', \"'s\", 'not', 'hard', 'to', 'change', 'the', 'setting', 'either', ',', 'as', 'you', \"'ll\", 'only', 'be', 'changing', 'the', 'light', 'level', 'at', 'a', 'certain', 'time', 'of', 'day', ',', 'not', 'every', 'now', 'and', 'then', 'while', 'reading', ')', '.Also', 'glad', 'that', 'I', 'went', 'for', 'the', 'international', 'shipping', 'option', 'with', 'Amazon.', 'Extra', 'expense', ',', 'but', 'delivery', 'was', 'on', 'time', ',', 'with', 'tracking', ',', 'and', 'I', 'didnt', 'need', 'to', 'worry', 'about', 'customs', ',', 'which', 'I', 'may', 'have', 'if', 'I', 'used', 'a', 'third', 'party', 'shipping', 'service', '.']\n"
          ]
        }
      ]
    },
    {
      "cell_type": "code",
      "source": [
        "mw = MWETokenizer()\n",
        "mwtk = mw.tokenize(text)\n",
        "print(mwtk)"
      ],
      "metadata": {
        "colab": {
          "base_uri": "https://localhost:8080/"
        },
        "id": "-YIFNZurF3mn",
        "outputId": "167be5b9-c00e-44f3-daeb-bfc4d356e3b9"
      },
      "execution_count": 9,
      "outputs": [
        {
          "output_type": "stream",
          "name": "stdout",
          "text": [
            "['I', ' ', 'i', 'n', 'i', 't', 'i', 'a', 'l', 'l', 'y', ' ', 'h', 'a', 'd', ' ', 't', 'r', 'o', 'u', 'b', 'l', 'e', ' ', 'd', 'e', 'c', 'i', 'd', 'i', 'n', 'g', ' ', 'b', 'e', 't', 'w', 'e', 'e', 'n', ' ', 't', 'h', 'e', ' ', 'p', 'a', 'p', 'e', 'r', 'w', 'h', 'i', 't', 'e', ' ', 'a', 'n', 'd', ' ', 't', 'h', 'e', ' ', 'v', 'o', 'y', 'a', 'g', 'e', ' ', 'b', 'e', 'c', 'a', 'u', 's', 'e', ' ', 'r', 'e', 'v', 'i', 'e', 'w', 's', ' ', 'm', 'o', 'r', 'e', ' ', 'o', 'r', ' ', 'l', 'e', 's', 's', ' ', 's', 'a', 'i', 'd', ' ', 't', 'h', 'e', ' ', 's', 'a', 'm', 'e', ' ', 't', 'h', 'i', 'n', 'g', ':', ' ', 't', 'h', 'e', ' ', 'p', 'a', 'p', 'e', 'r', 'w', 'h', 'i', 't', 'e', ' ', 'i', 's', ' ', 'g', 'r', 'e', 'a', 't', ',', ' ', 'b', 'u', 't', ' ', 'i', 'f', ' ', 'y', 'o', 'u', ' ', 'h', 'a', 'v', 'e', ' ', 's', 'p', 'e', 'n', 'd', 'i', 'n', 'g', ' ', 'm', 'o', 'n', 'e', 'y', ',', ' ', 'g', 'o', ' ', 'f', 'o', 'r', ' ', 't', 'h', 'e', ' ', 'v', 'o', 'y', 'a', 'g', 'e', '.', 'F', 'o', 'r', 't', 'u', 'n', 'a', 't', 'e', 'l', 'y', ',', ' ', 'I', ' ', 'h', 'a', 'd', ' ', 'f', 'r', 'i', 'e', 'n', 'd', 's', ' ', 'w', 'h', 'o', ' ', 'o', 'w', 'n', 'e', 'd', ' ', 'e', 'a', 'c', 'h', ',', ' ', 's', 'o', ' ', 'I', ' ', 'e', 'n', 'd', 'e', 'd', ' ', 'u', 'p', ' ', 'b', 'u', 'y', 'i', 'n', 'g', ' ', 't', 'h', 'e', ' ', 'p', 'a', 'p', 'e', 'r', 'w', 'h', 'i', 't', 'e', ' ', 'o', 'n', ' ', 't', 'h', 'i', 's', ' ', 'b', 'a', 's', 'i', 's', ':', ' ', 'b', 'o', 't', 'h', ' ', 'm', 'o', 'd', 'e', 'l', 's', ' ', 'n', 'o', 'w', ' ', 'h', 'a', 'v', 'e', ' ', '3', '0', '0', ' ', 'p', 'p', 'i', ',', ' ', 's', 'o', ' ', 't', 'h', 'e', ' ', '8', '0', ' ', 'd', 'o', 'l', 'l', 'a', 'r', ' ', 'j', 'u', 'm', 'p', ' ', 't', 'u', 'r', 'n', 's', ' ', 'o', 'u', 't', ' ', 'p', 'r', 'i', 'c', 'e', 'y', ' ', 't', 'h', 'e', ' ', 'v', 'o', 'y', 'a', 'g', 'e', \"'\", 's', ' ', 'p', 'a', 'g', 'e', ' ', 'p', 'r', 'e', 's', 's', ' ', 'i', 's', 'n', \"'\", 't', ' ', 'a', 'l', 'w', 'a', 'y', 's', ' ', 's', 'e', 'n', 's', 'i', 't', 'i', 'v', 'e', ',', ' ', 'a', 'n', 'd', ' ', 'i', 'f', ' ', 'y', 'o', 'u', ' ', 'a', 'r', 'e', ' ', 'f', 'i', 'n', 'e', ' ', 'w', 'i', 't', 'h', ' ', 'a', ' ', 's', 'p', 'e', 'c', 'i', 'f', 'i', 'c', ' ', 's', 'e', 't', 't', 'i', 'n', 'g', ',', ' ', 'y', 'o', 'u', ' ', 'd', 'o', 'n', \"'\", 't', ' ', 'n', 'e', 'e', 'd', ' ', 'a', 'u', 't', 'o', ' ', 'l', 'i', 'g', 'h', 't', ' ', 'a', 'd', 'j', 'u', 's', 't', 'm', 'e', 'n', 't', ')', '.', 'I', 't', \"'\", 's', ' ', 'b', 'e', 'e', 'n', ' ', 'a', ' ', 'w', 'e', 'e', 'k', ' ', 'a', 'n', 'd', ' ', 'I', ' ', 'a', 'm', ' ', 'l', 'o', 'v', 'i', 'n', 'g', ' ', 'm', 'y', ' ', 'p', 'a', 'p', 'e', 'r', 'w', 'h', 'i', 't', 'e', ',', ' ', 'n', 'o', ' ', 'r', 'e', 'g', 'r', 'e', 't', 's', '!', ' ', 'T', 'h', 'e', ' ', 't', 'o', 'u', 'c', 'h', ' ', 's', 'c', 'r', 'e', 'e', 'n', ' ', 'i', 's', ' ', 'r', 'e', 'c', 'e', 'p', 't', 'i', 'v', 'e', ' ', 'a', 'n', 'd', ' ', 'e', 'a', 's', 'y', ' ', 't', 'o', ' ', 'u', 's', 'e', ',', ' ', 'a', 'n', 'd', ' ', 'I', ' ', 'k', 'e', 'e', 'p', ' ', 't', 'h', 'e', ' ', 'l', 'i', 'g', 'h', 't', ' ', 'a', 't', ' ', 'a', ' ', 's', 'p', 'e', 'c', 'i', 'f', 'i', 'c', ' ', 's', 'e', 't', 't', 'i', 'n', 'g', ' ', 'r', 'e', 'g', 'a', 'r', 'd', 'l', 'e', 's', 's', ' ', 'o', 'f', ' ', 't', 'h', 'e', ' ', 't', 'i', 'm', 'e', ' ', 'o', 'f', ' ', 'd', 'a', 'y', '.', ' ', '(', 'I', 'n', ' ', 'a', 'n', 'y', ' ', 'c', 'a', 's', 'e', ',', ' ', 'i', 't', \"'\", 's', ' ', 'n', 'o', 't', ' ', 'h', 'a', 'r', 'd', ' ', 't', 'o', ' ', 'c', 'h', 'a', 'n', 'g', 'e', ' ', 't', 'h', 'e', ' ', 's', 'e', 't', 't', 'i', 'n', 'g', ' ', 'e', 'i', 't', 'h', 'e', 'r', ',', ' ', 'a', 's', ' ', 'y', 'o', 'u', \"'\", 'l', 'l', ' ', 'o', 'n', 'l', 'y', ' ', 'b', 'e', ' ', 'c', 'h', 'a', 'n', 'g', 'i', 'n', 'g', ' ', 't', 'h', 'e', ' ', 'l', 'i', 'g', 'h', 't', ' ', 'l', 'e', 'v', 'e', 'l', ' ', 'a', 't', ' ', 'a', ' ', 'c', 'e', 'r', 't', 'a', 'i', 'n', ' ', 't', 'i', 'm', 'e', ' ', 'o', 'f', ' ', 'd', 'a', 'y', ',', ' ', 'n', 'o', 't', ' ', 'e', 'v', 'e', 'r', 'y', ' ', 'n', 'o', 'w', ' ', 'a', 'n', 'd', ' ', 't', 'h', 'e', 'n', ' ', 'w', 'h', 'i', 'l', 'e', ' ', 'r', 'e', 'a', 'd', 'i', 'n', 'g', ')', '.', 'A', 'l', 's', 'o', ' ', 'g', 'l', 'a', 'd', ' ', 't', 'h', 'a', 't', ' ', 'I', ' ', 'w', 'e', 'n', 't', ' ', 'f', 'o', 'r', ' ', 't', 'h', 'e', ' ', 'i', 'n', 't', 'e', 'r', 'n', 'a', 't', 'i', 'o', 'n', 'a', 'l', ' ', 's', 'h', 'i', 'p', 'p', 'i', 'n', 'g', ' ', 'o', 'p', 't', 'i', 'o', 'n', ' ', 'w', 'i', 't', 'h', ' ', 'A', 'm', 'a', 'z', 'o', 'n', '.', ' ', 'E', 'x', 't', 'r', 'a', ' ', 'e', 'x', 'p', 'e', 'n', 's', 'e', ',', ' ', 'b', 'u', 't', ' ', 'd', 'e', 'l', 'i', 'v', 'e', 'r', 'y', ' ', 'w', 'a', 's', ' ', 'o', 'n', ' ', 't', 'i', 'm', 'e', ',', ' ', 'w', 'i', 't', 'h', ' ', 't', 'r', 'a', 'c', 'k', 'i', 'n', 'g', ',', ' ', 'a', 'n', 'd', ' ', 'I', ' ', 'd', 'i', 'd', 'n', 't', ' ', 'n', 'e', 'e', 'd', ' ', 't', 'o', ' ', 'w', 'o', 'r', 'r', 'y', ' ', 'a', 'b', 'o', 'u', 't', ' ', 'c', 'u', 's', 't', 'o', 'm', 's', ',', ' ', 'w', 'h', 'i', 'c', 'h', ' ', 'I', ' ', 'm', 'a', 'y', ' ', 'h', 'a', 'v', 'e', ' ', 'i', 'f', ' ', 'I', ' ', 'u', 's', 'e', 'd', ' ', 'a', ' ', 't', 'h', 'i', 'r', 'd', ' ', 'p', 'a', 'r', 't', 'y', ' ', 's', 'h', 'i', 'p', 'p', 'i', 'n', 'g', ' ', 's', 'e', 'r', 'v', 'i', 'c', 'e', '.']\n"
          ]
        }
      ]
    },
    {
      "cell_type": "code",
      "source": [
        "import spacy\n",
        "from spacy.tokens import Doc\n",
        "from spacy.lang.en import English\n",
        "nlp = English()\n",
        "doc = Doc(nlp.vocab, words = [\"paperwhite\", \" , \", \"I\", \" ! \"], spaces = [False, True, False, False])\n",
        "print([(t.text, t.text_with_ws, t.whitespace_) for t in doc])"
      ],
      "metadata": {
        "colab": {
          "base_uri": "https://localhost:8080/"
        },
        "id": "SYxtDj_CJJYS",
        "outputId": "80dc1201-e5db-4ac1-bd31-fea10e6d06f5"
      },
      "execution_count": 12,
      "outputs": [
        {
          "output_type": "stream",
          "name": "stdout",
          "text": [
            "[('paperwhite', 'paperwhite', ''), (' , ', ' ,  ', ' '), ('I', 'I', ''), (' ! ', ' ! ', '')]\n"
          ]
        }
      ]
    },
    {
      "cell_type": "code",
      "source": [
        "nltk.download('punkt')\n",
        "sentences = sent_tokenize(text)\n",
        "print(text, sentences)\n"
      ],
      "metadata": {
        "colab": {
          "base_uri": "https://localhost:8080/"
        },
        "id": "PFcbhF-OJmFr",
        "outputId": "8233ce14-10ed-4cb1-f850-f35a491194ec"
      },
      "execution_count": 14,
      "outputs": [
        {
          "output_type": "stream",
          "name": "stderr",
          "text": [
            "[nltk_data] Downloading package punkt to /root/nltk_data...\n",
            "[nltk_data]   Unzipping tokenizers/punkt.zip.\n"
          ]
        },
        {
          "output_type": "stream",
          "name": "stdout",
          "text": [
            "I initially had trouble deciding between the paperwhite and the voyage because reviews more or less said the same thing: the paperwhite is great, but if you have spending money, go for the voyage.Fortunately, I had friends who owned each, so I ended up buying the paperwhite on this basis: both models now have 300 ppi, so the 80 dollar jump turns out pricey the voyage's page press isn't always sensitive, and if you are fine with a specific setting, you don't need auto light adjustment).It's been a week and I am loving my paperwhite, no regrets! The touch screen is receptive and easy to use, and I keep the light at a specific setting regardless of the time of day. (In any case, it's not hard to change the setting either, as you'll only be changing the light level at a certain time of day, not every now and then while reading).Also glad that I went for the international shipping option with Amazon. Extra expense, but delivery was on time, with tracking, and I didnt need to worry about customs, which I may have if I used a third party shipping service. [\"I initially had trouble deciding between the paperwhite and the voyage because reviews more or less said the same thing: the paperwhite is great, but if you have spending money, go for the voyage.Fortunately, I had friends who owned each, so I ended up buying the paperwhite on this basis: both models now have 300 ppi, so the 80 dollar jump turns out pricey the voyage's page press isn't always sensitive, and if you are fine with a specific setting, you don't need auto light adjustment).It's been a week and I am loving my paperwhite, no regrets!\", 'The touch screen is receptive and easy to use, and I keep the light at a specific setting regardless of the time of day.', \"(In any case, it's not hard to change the setting either, as you'll only be changing the light level at a certain time of day, not every now and then while reading).Also glad that I went for the international shipping option with Amazon.\", 'Extra expense, but delivery was on time, with tracking, and I didnt need to worry about customs, which I may have if I used a third party shipping service.']\n"
          ]
        }
      ]
    },
    {
      "cell_type": "code",
      "source": [
        "tok = RegexpTokenizer(\"[\\w']+\") \n",
        "\n",
        "tok.tokenize(text)\n"
      ],
      "metadata": {
        "colab": {
          "base_uri": "https://localhost:8080/"
        },
        "id": "T9UINZgrKSEy",
        "outputId": "49f7550c-15e8-4407-9683-310d6ec0f067"
      },
      "execution_count": 15,
      "outputs": [
        {
          "output_type": "execute_result",
          "data": {
            "text/plain": [
              "['I',\n",
              " 'initially',\n",
              " 'had',\n",
              " 'trouble',\n",
              " 'deciding',\n",
              " 'between',\n",
              " 'the',\n",
              " 'paperwhite',\n",
              " 'and',\n",
              " 'the',\n",
              " 'voyage',\n",
              " 'because',\n",
              " 'reviews',\n",
              " 'more',\n",
              " 'or',\n",
              " 'less',\n",
              " 'said',\n",
              " 'the',\n",
              " 'same',\n",
              " 'thing',\n",
              " 'the',\n",
              " 'paperwhite',\n",
              " 'is',\n",
              " 'great',\n",
              " 'but',\n",
              " 'if',\n",
              " 'you',\n",
              " 'have',\n",
              " 'spending',\n",
              " 'money',\n",
              " 'go',\n",
              " 'for',\n",
              " 'the',\n",
              " 'voyage',\n",
              " 'Fortunately',\n",
              " 'I',\n",
              " 'had',\n",
              " 'friends',\n",
              " 'who',\n",
              " 'owned',\n",
              " 'each',\n",
              " 'so',\n",
              " 'I',\n",
              " 'ended',\n",
              " 'up',\n",
              " 'buying',\n",
              " 'the',\n",
              " 'paperwhite',\n",
              " 'on',\n",
              " 'this',\n",
              " 'basis',\n",
              " 'both',\n",
              " 'models',\n",
              " 'now',\n",
              " 'have',\n",
              " '300',\n",
              " 'ppi',\n",
              " 'so',\n",
              " 'the',\n",
              " '80',\n",
              " 'dollar',\n",
              " 'jump',\n",
              " 'turns',\n",
              " 'out',\n",
              " 'pricey',\n",
              " 'the',\n",
              " \"voyage's\",\n",
              " 'page',\n",
              " 'press',\n",
              " \"isn't\",\n",
              " 'always',\n",
              " 'sensitive',\n",
              " 'and',\n",
              " 'if',\n",
              " 'you',\n",
              " 'are',\n",
              " 'fine',\n",
              " 'with',\n",
              " 'a',\n",
              " 'specific',\n",
              " 'setting',\n",
              " 'you',\n",
              " \"don't\",\n",
              " 'need',\n",
              " 'auto',\n",
              " 'light',\n",
              " 'adjustment',\n",
              " \"It's\",\n",
              " 'been',\n",
              " 'a',\n",
              " 'week',\n",
              " 'and',\n",
              " 'I',\n",
              " 'am',\n",
              " 'loving',\n",
              " 'my',\n",
              " 'paperwhite',\n",
              " 'no',\n",
              " 'regrets',\n",
              " 'The',\n",
              " 'touch',\n",
              " 'screen',\n",
              " 'is',\n",
              " 'receptive',\n",
              " 'and',\n",
              " 'easy',\n",
              " 'to',\n",
              " 'use',\n",
              " 'and',\n",
              " 'I',\n",
              " 'keep',\n",
              " 'the',\n",
              " 'light',\n",
              " 'at',\n",
              " 'a',\n",
              " 'specific',\n",
              " 'setting',\n",
              " 'regardless',\n",
              " 'of',\n",
              " 'the',\n",
              " 'time',\n",
              " 'of',\n",
              " 'day',\n",
              " 'In',\n",
              " 'any',\n",
              " 'case',\n",
              " \"it's\",\n",
              " 'not',\n",
              " 'hard',\n",
              " 'to',\n",
              " 'change',\n",
              " 'the',\n",
              " 'setting',\n",
              " 'either',\n",
              " 'as',\n",
              " \"you'll\",\n",
              " 'only',\n",
              " 'be',\n",
              " 'changing',\n",
              " 'the',\n",
              " 'light',\n",
              " 'level',\n",
              " 'at',\n",
              " 'a',\n",
              " 'certain',\n",
              " 'time',\n",
              " 'of',\n",
              " 'day',\n",
              " 'not',\n",
              " 'every',\n",
              " 'now',\n",
              " 'and',\n",
              " 'then',\n",
              " 'while',\n",
              " 'reading',\n",
              " 'Also',\n",
              " 'glad',\n",
              " 'that',\n",
              " 'I',\n",
              " 'went',\n",
              " 'for',\n",
              " 'the',\n",
              " 'international',\n",
              " 'shipping',\n",
              " 'option',\n",
              " 'with',\n",
              " 'Amazon',\n",
              " 'Extra',\n",
              " 'expense',\n",
              " 'but',\n",
              " 'delivery',\n",
              " 'was',\n",
              " 'on',\n",
              " 'time',\n",
              " 'with',\n",
              " 'tracking',\n",
              " 'and',\n",
              " 'I',\n",
              " 'didnt',\n",
              " 'need',\n",
              " 'to',\n",
              " 'worry',\n",
              " 'about',\n",
              " 'customs',\n",
              " 'which',\n",
              " 'I',\n",
              " 'may',\n",
              " 'have',\n",
              " 'if',\n",
              " 'I',\n",
              " 'used',\n",
              " 'a',\n",
              " 'third',\n",
              " 'party',\n",
              " 'shipping',\n",
              " 'service']"
            ]
          },
          "metadata": {},
          "execution_count": 15
        }
      ]
    },
    {
      "cell_type": "code",
      "source": [
        "\n",
        "words = nltk.word_tokenize(text)\n",
        "print (\"Total words are \", len(words))\n",
        "print (words)"
      ],
      "metadata": {
        "colab": {
          "base_uri": "https://localhost:8080/"
        },
        "id": "kUE269U9MkSP",
        "outputId": "64ad62d5-eace-4b62-a796-084f2861f1ac"
      },
      "execution_count": 16,
      "outputs": [
        {
          "output_type": "stream",
          "name": "stdout",
          "text": [
            "Total words are  226\n",
            "['I', 'initially', 'had', 'trouble', 'deciding', 'between', 'the', 'paperwhite', 'and', 'the', 'voyage', 'because', 'reviews', 'more', 'or', 'less', 'said', 'the', 'same', 'thing', ':', 'the', 'paperwhite', 'is', 'great', ',', 'but', 'if', 'you', 'have', 'spending', 'money', ',', 'go', 'for', 'the', 'voyage.Fortunately', ',', 'I', 'had', 'friends', 'who', 'owned', 'each', ',', 'so', 'I', 'ended', 'up', 'buying', 'the', 'paperwhite', 'on', 'this', 'basis', ':', 'both', 'models', 'now', 'have', '300', 'ppi', ',', 'so', 'the', '80', 'dollar', 'jump', 'turns', 'out', 'pricey', 'the', 'voyage', \"'s\", 'page', 'press', 'is', \"n't\", 'always', 'sensitive', ',', 'and', 'if', 'you', 'are', 'fine', 'with', 'a', 'specific', 'setting', ',', 'you', 'do', \"n't\", 'need', 'auto', 'light', 'adjustment', ')', '.It', \"'s\", 'been', 'a', 'week', 'and', 'I', 'am', 'loving', 'my', 'paperwhite', ',', 'no', 'regrets', '!', 'The', 'touch', 'screen', 'is', 'receptive', 'and', 'easy', 'to', 'use', ',', 'and', 'I', 'keep', 'the', 'light', 'at', 'a', 'specific', 'setting', 'regardless', 'of', 'the', 'time', 'of', 'day', '.', '(', 'In', 'any', 'case', ',', 'it', \"'s\", 'not', 'hard', 'to', 'change', 'the', 'setting', 'either', ',', 'as', 'you', \"'ll\", 'only', 'be', 'changing', 'the', 'light', 'level', 'at', 'a', 'certain', 'time', 'of', 'day', ',', 'not', 'every', 'now', 'and', 'then', 'while', 'reading', ')', '.Also', 'glad', 'that', 'I', 'went', 'for', 'the', 'international', 'shipping', 'option', 'with', 'Amazon', '.', 'Extra', 'expense', ',', 'but', 'delivery', 'was', 'on', 'time', ',', 'with', 'tracking', ',', 'and', 'I', 'didnt', 'need', 'to', 'worry', 'about', 'customs', ',', 'which', 'I', 'may', 'have', 'if', 'I', 'used', 'a', 'third', 'party', 'shipping', 'service', '.']\n"
          ]
        }
      ]
    },
    {
      "cell_type": "code",
      "source": [
        "text.split()"
      ],
      "metadata": {
        "colab": {
          "base_uri": "https://localhost:8080/"
        },
        "id": "wunXRwWGNB-q",
        "outputId": "34525201-4dc3-44c3-9765-1306794a5a42"
      },
      "execution_count": 17,
      "outputs": [
        {
          "output_type": "execute_result",
          "data": {
            "text/plain": [
              "['I',\n",
              " 'initially',\n",
              " 'had',\n",
              " 'trouble',\n",
              " 'deciding',\n",
              " 'between',\n",
              " 'the',\n",
              " 'paperwhite',\n",
              " 'and',\n",
              " 'the',\n",
              " 'voyage',\n",
              " 'because',\n",
              " 'reviews',\n",
              " 'more',\n",
              " 'or',\n",
              " 'less',\n",
              " 'said',\n",
              " 'the',\n",
              " 'same',\n",
              " 'thing:',\n",
              " 'the',\n",
              " 'paperwhite',\n",
              " 'is',\n",
              " 'great,',\n",
              " 'but',\n",
              " 'if',\n",
              " 'you',\n",
              " 'have',\n",
              " 'spending',\n",
              " 'money,',\n",
              " 'go',\n",
              " 'for',\n",
              " 'the',\n",
              " 'voyage.Fortunately,',\n",
              " 'I',\n",
              " 'had',\n",
              " 'friends',\n",
              " 'who',\n",
              " 'owned',\n",
              " 'each,',\n",
              " 'so',\n",
              " 'I',\n",
              " 'ended',\n",
              " 'up',\n",
              " 'buying',\n",
              " 'the',\n",
              " 'paperwhite',\n",
              " 'on',\n",
              " 'this',\n",
              " 'basis:',\n",
              " 'both',\n",
              " 'models',\n",
              " 'now',\n",
              " 'have',\n",
              " '300',\n",
              " 'ppi,',\n",
              " 'so',\n",
              " 'the',\n",
              " '80',\n",
              " 'dollar',\n",
              " 'jump',\n",
              " 'turns',\n",
              " 'out',\n",
              " 'pricey',\n",
              " 'the',\n",
              " \"voyage's\",\n",
              " 'page',\n",
              " 'press',\n",
              " \"isn't\",\n",
              " 'always',\n",
              " 'sensitive,',\n",
              " 'and',\n",
              " 'if',\n",
              " 'you',\n",
              " 'are',\n",
              " 'fine',\n",
              " 'with',\n",
              " 'a',\n",
              " 'specific',\n",
              " 'setting,',\n",
              " 'you',\n",
              " \"don't\",\n",
              " 'need',\n",
              " 'auto',\n",
              " 'light',\n",
              " \"adjustment).It's\",\n",
              " 'been',\n",
              " 'a',\n",
              " 'week',\n",
              " 'and',\n",
              " 'I',\n",
              " 'am',\n",
              " 'loving',\n",
              " 'my',\n",
              " 'paperwhite,',\n",
              " 'no',\n",
              " 'regrets!',\n",
              " 'The',\n",
              " 'touch',\n",
              " 'screen',\n",
              " 'is',\n",
              " 'receptive',\n",
              " 'and',\n",
              " 'easy',\n",
              " 'to',\n",
              " 'use,',\n",
              " 'and',\n",
              " 'I',\n",
              " 'keep',\n",
              " 'the',\n",
              " 'light',\n",
              " 'at',\n",
              " 'a',\n",
              " 'specific',\n",
              " 'setting',\n",
              " 'regardless',\n",
              " 'of',\n",
              " 'the',\n",
              " 'time',\n",
              " 'of',\n",
              " 'day.',\n",
              " '(In',\n",
              " 'any',\n",
              " 'case,',\n",
              " \"it's\",\n",
              " 'not',\n",
              " 'hard',\n",
              " 'to',\n",
              " 'change',\n",
              " 'the',\n",
              " 'setting',\n",
              " 'either,',\n",
              " 'as',\n",
              " \"you'll\",\n",
              " 'only',\n",
              " 'be',\n",
              " 'changing',\n",
              " 'the',\n",
              " 'light',\n",
              " 'level',\n",
              " 'at',\n",
              " 'a',\n",
              " 'certain',\n",
              " 'time',\n",
              " 'of',\n",
              " 'day,',\n",
              " 'not',\n",
              " 'every',\n",
              " 'now',\n",
              " 'and',\n",
              " 'then',\n",
              " 'while',\n",
              " 'reading).Also',\n",
              " 'glad',\n",
              " 'that',\n",
              " 'I',\n",
              " 'went',\n",
              " 'for',\n",
              " 'the',\n",
              " 'international',\n",
              " 'shipping',\n",
              " 'option',\n",
              " 'with',\n",
              " 'Amazon.',\n",
              " 'Extra',\n",
              " 'expense,',\n",
              " 'but',\n",
              " 'delivery',\n",
              " 'was',\n",
              " 'on',\n",
              " 'time,',\n",
              " 'with',\n",
              " 'tracking,',\n",
              " 'and',\n",
              " 'I',\n",
              " 'didnt',\n",
              " 'need',\n",
              " 'to',\n",
              " 'worry',\n",
              " 'about',\n",
              " 'customs,',\n",
              " 'which',\n",
              " 'I',\n",
              " 'may',\n",
              " 'have',\n",
              " 'if',\n",
              " 'I',\n",
              " 'used',\n",
              " 'a',\n",
              " 'third',\n",
              " 'party',\n",
              " 'shipping',\n",
              " 'service.']"
            ]
          },
          "metadata": {},
          "execution_count": 17
        }
      ]
    }
  ]
}