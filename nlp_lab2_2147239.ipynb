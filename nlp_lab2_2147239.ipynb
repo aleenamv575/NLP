{
  "nbformat": 4,
  "nbformat_minor": 0,
  "metadata": {
    "colab": {
      "provenance": [],
      "collapsed_sections": []
    },
    "kernelspec": {
      "name": "python3",
      "display_name": "Python 3"
    },
    "language_info": {
      "name": "python"
    }
  },
  "cells": [
    {
      "cell_type": "code",
      "execution_count": null,
      "metadata": {
        "colab": {
          "base_uri": "https://localhost:8080/"
        },
        "id": "GQlOlDOq7rX-",
        "outputId": "612417b4-360a-43a8-b6ec-33b4fa947ab0"
      },
      "outputs": [
        {
          "output_type": "stream",
          "name": "stderr",
          "text": [
            "[nltk_data] Downloading package stopwords to /root/nltk_data...\n",
            "[nltk_data]   Unzipping corpora/stopwords.zip.\n"
          ]
        },
        {
          "output_type": "execute_result",
          "data": {
            "text/plain": [
              "True"
            ]
          },
          "metadata": {},
          "execution_count": 2
        }
      ],
      "source": [
        "import nltk.data\n",
        "#import library\n",
        "nltk.download('stopwords')"
      ]
    },
    {
      "cell_type": "code",
      "source": [
        "import nltk\n",
        "nltk.download('punkt')"
      ],
      "metadata": {
        "colab": {
          "base_uri": "https://localhost:8080/"
        },
        "id": "IbfRzrbGCubO",
        "outputId": "190082ff-33f3-43ea-b4c6-fed3cbec171f"
      },
      "execution_count": null,
      "outputs": [
        {
          "output_type": "stream",
          "name": "stderr",
          "text": [
            "[nltk_data] Downloading package punkt to /root/nltk_data...\n",
            "[nltk_data]   Unzipping tokenizers/punkt.zip.\n"
          ]
        },
        {
          "output_type": "execute_result",
          "data": {
            "text/plain": [
              "True"
            ]
          },
          "metadata": {},
          "execution_count": 3
        }
      ]
    },
    {
      "cell_type": "code",
      "source": [
        "from nltk.corpus import stopwords\n",
        "from nltk.tokenize import word_tokenize\n",
        "from nltk.probability import FreqDist"
      ],
      "metadata": {
        "id": "QB3tzR8lJgD4"
      },
      "execution_count": null,
      "outputs": []
    },
    {
      "cell_type": "code",
      "source": [
        "english_text= \" This product is good but They bring only guitar and bag in the box. There is on cable wire, guitar belt, strings set , pick , all of frees item . The box was already open before they deliver to me. Why is it? Please check . I want to all of frees item also\""
      ],
      "metadata": {
        "id": "Y60wjb0LLGuR"
      },
      "execution_count": null,
      "outputs": []
    },
    {
      "cell_type": "code",
      "source": [
        "stop_words = set(stopwords.words('english'))\n",
        "\n",
        "word_tokens = word_tokenize(english_text)"
      ],
      "metadata": {
        "id": "XVZ1IdsQLT1e"
      },
      "execution_count": null,
      "outputs": []
    },
    {
      "cell_type": "code",
      "source": [
        "stop_words"
      ],
      "metadata": {
        "colab": {
          "base_uri": "https://localhost:8080/"
        },
        "id": "KeoSqyt7LhSh",
        "outputId": "4c723dcb-c23f-4a0c-9788-12199ad9b2a3"
      },
      "execution_count": null,
      "outputs": [
        {
          "output_type": "execute_result",
          "data": {
            "text/plain": [
              "{'a',\n",
              " 'about',\n",
              " 'above',\n",
              " 'after',\n",
              " 'again',\n",
              " 'against',\n",
              " 'ain',\n",
              " 'all',\n",
              " 'am',\n",
              " 'an',\n",
              " 'and',\n",
              " 'any',\n",
              " 'are',\n",
              " 'aren',\n",
              " \"aren't\",\n",
              " 'as',\n",
              " 'at',\n",
              " 'be',\n",
              " 'because',\n",
              " 'been',\n",
              " 'before',\n",
              " 'being',\n",
              " 'below',\n",
              " 'between',\n",
              " 'both',\n",
              " 'but',\n",
              " 'by',\n",
              " 'can',\n",
              " 'couldn',\n",
              " \"couldn't\",\n",
              " 'd',\n",
              " 'did',\n",
              " 'didn',\n",
              " \"didn't\",\n",
              " 'do',\n",
              " 'does',\n",
              " 'doesn',\n",
              " \"doesn't\",\n",
              " 'doing',\n",
              " 'don',\n",
              " \"don't\",\n",
              " 'down',\n",
              " 'during',\n",
              " 'each',\n",
              " 'few',\n",
              " 'for',\n",
              " 'from',\n",
              " 'further',\n",
              " 'had',\n",
              " 'hadn',\n",
              " \"hadn't\",\n",
              " 'has',\n",
              " 'hasn',\n",
              " \"hasn't\",\n",
              " 'have',\n",
              " 'haven',\n",
              " \"haven't\",\n",
              " 'having',\n",
              " 'he',\n",
              " 'her',\n",
              " 'here',\n",
              " 'hers',\n",
              " 'herself',\n",
              " 'him',\n",
              " 'himself',\n",
              " 'his',\n",
              " 'how',\n",
              " 'i',\n",
              " 'if',\n",
              " 'in',\n",
              " 'into',\n",
              " 'is',\n",
              " 'isn',\n",
              " \"isn't\",\n",
              " 'it',\n",
              " \"it's\",\n",
              " 'its',\n",
              " 'itself',\n",
              " 'just',\n",
              " 'll',\n",
              " 'm',\n",
              " 'ma',\n",
              " 'me',\n",
              " 'mightn',\n",
              " \"mightn't\",\n",
              " 'more',\n",
              " 'most',\n",
              " 'mustn',\n",
              " \"mustn't\",\n",
              " 'my',\n",
              " 'myself',\n",
              " 'needn',\n",
              " \"needn't\",\n",
              " 'no',\n",
              " 'nor',\n",
              " 'not',\n",
              " 'now',\n",
              " 'o',\n",
              " 'of',\n",
              " 'off',\n",
              " 'on',\n",
              " 'once',\n",
              " 'only',\n",
              " 'or',\n",
              " 'other',\n",
              " 'our',\n",
              " 'ours',\n",
              " 'ourselves',\n",
              " 'out',\n",
              " 'over',\n",
              " 'own',\n",
              " 're',\n",
              " 's',\n",
              " 'same',\n",
              " 'shan',\n",
              " \"shan't\",\n",
              " 'she',\n",
              " \"she's\",\n",
              " 'should',\n",
              " \"should've\",\n",
              " 'shouldn',\n",
              " \"shouldn't\",\n",
              " 'so',\n",
              " 'some',\n",
              " 'such',\n",
              " 't',\n",
              " 'than',\n",
              " 'that',\n",
              " \"that'll\",\n",
              " 'the',\n",
              " 'their',\n",
              " 'theirs',\n",
              " 'them',\n",
              " 'themselves',\n",
              " 'then',\n",
              " 'there',\n",
              " 'these',\n",
              " 'they',\n",
              " 'this',\n",
              " 'those',\n",
              " 'through',\n",
              " 'to',\n",
              " 'too',\n",
              " 'under',\n",
              " 'until',\n",
              " 'up',\n",
              " 've',\n",
              " 'very',\n",
              " 'was',\n",
              " 'wasn',\n",
              " \"wasn't\",\n",
              " 'we',\n",
              " 'were',\n",
              " 'weren',\n",
              " \"weren't\",\n",
              " 'what',\n",
              " 'when',\n",
              " 'where',\n",
              " 'which',\n",
              " 'while',\n",
              " 'who',\n",
              " 'whom',\n",
              " 'why',\n",
              " 'will',\n",
              " 'with',\n",
              " 'won',\n",
              " \"won't\",\n",
              " 'wouldn',\n",
              " \"wouldn't\",\n",
              " 'y',\n",
              " 'you',\n",
              " \"you'd\",\n",
              " \"you'll\",\n",
              " \"you're\",\n",
              " \"you've\",\n",
              " 'your',\n",
              " 'yours',\n",
              " 'yourself',\n",
              " 'yourselves'}"
            ]
          },
          "metadata": {},
          "execution_count": 7
        }
      ]
    },
    {
      "cell_type": "code",
      "source": [
        "len(word_tokens)\n",
        "word_tokens"
      ],
      "metadata": {
        "colab": {
          "base_uri": "https://localhost:8080/"
        },
        "id": "QLhgbsg1L0cO",
        "outputId": "5bb339ea-c3a1-4256-ed92-e6cb30e8c578"
      },
      "execution_count": null,
      "outputs": [
        {
          "output_type": "execute_result",
          "data": {
            "text/plain": [
              "['This',\n",
              " 'product',\n",
              " 'is',\n",
              " 'good',\n",
              " 'but',\n",
              " 'They',\n",
              " 'bring',\n",
              " 'only',\n",
              " 'guitar',\n",
              " 'and',\n",
              " 'bag',\n",
              " 'in',\n",
              " 'the',\n",
              " 'box',\n",
              " '.',\n",
              " 'There',\n",
              " 'is',\n",
              " 'on',\n",
              " 'cable',\n",
              " 'wire',\n",
              " ',',\n",
              " 'guitar',\n",
              " 'belt',\n",
              " ',',\n",
              " 'strings',\n",
              " 'set',\n",
              " ',',\n",
              " 'pick',\n",
              " ',',\n",
              " 'all',\n",
              " 'of',\n",
              " 'frees',\n",
              " 'item',\n",
              " '.',\n",
              " 'The',\n",
              " 'box',\n",
              " 'was',\n",
              " 'already',\n",
              " 'open',\n",
              " 'before',\n",
              " 'they',\n",
              " 'deliver',\n",
              " 'to',\n",
              " 'me',\n",
              " '.',\n",
              " 'Why',\n",
              " 'is',\n",
              " 'it',\n",
              " '?',\n",
              " 'Please',\n",
              " 'check',\n",
              " '.',\n",
              " 'I',\n",
              " 'want',\n",
              " 'to',\n",
              " 'all',\n",
              " 'of',\n",
              " 'frees',\n",
              " 'item',\n",
              " 'also']"
            ]
          },
          "metadata": {},
          "execution_count": 8
        }
      ]
    },
    {
      "cell_type": "code",
      "source": [
        "filtered_sentence = [w for w in word_tokens if not w in stop_words]\n",
        "# filtered_sentence2=[w for w in word_tokens if w not in stop_words]"
      ],
      "metadata": {
        "id": "f2IN80oFL2uz"
      },
      "execution_count": null,
      "outputs": []
    },
    {
      "cell_type": "code",
      "source": [
        "print(filtered_sentence)"
      ],
      "metadata": {
        "colab": {
          "base_uri": "https://localhost:8080/"
        },
        "id": "fn4609BbL93Y",
        "outputId": "ada9206e-8559-4926-a566-53af83ab951c"
      },
      "execution_count": null,
      "outputs": [
        {
          "output_type": "stream",
          "name": "stdout",
          "text": [
            "['This', 'product', 'good', 'They', 'bring', 'guitar', 'bag', 'box', '.', 'There', 'cable', 'wire', ',', 'guitar', 'belt', ',', 'strings', 'set', ',', 'pick', ',', 'frees', 'item', '.', 'The', 'box', 'already', 'open', 'deliver', '.', 'Why', '?', 'Please', 'check', '.', 'I', 'want', 'frees', 'item', 'also']\n"
          ]
        }
      ]
    },
    {
      "cell_type": "code",
      "source": [
        "filtered_sentence = []\n",
        "\n",
        "for w in word_tokens:\n",
        "    if w not in stop_words:\n",
        "        filtered_sentence.append(w)\n",
        "\n",
        "print(filtered_sentence)\n",
        "\n",
        "wordfreq = []\n",
        "for w in filtered_sentence:\n",
        "    wordfreq.append(filtered_sentence.count(w))\n",
        "\n",
        "print(filtered_sentence,wordfreq)"
      ],
      "metadata": {
        "colab": {
          "base_uri": "https://localhost:8080/"
        },
        "id": "SIfE3-GoMCjp",
        "outputId": "f7ce34a3-cbe4-4ece-888f-f6df5567422e"
      },
      "execution_count": null,
      "outputs": [
        {
          "output_type": "stream",
          "name": "stdout",
          "text": [
            "['This', 'product', 'good', 'They', 'bring', 'guitar', 'bag', 'box', '.', 'There', 'cable', 'wire', ',', 'guitar', 'belt', ',', 'strings', 'set', ',', 'pick', ',', 'frees', 'item', '.', 'The', 'box', 'already', 'open', 'deliver', '.', 'Why', '?', 'Please', 'check', '.', 'I', 'want', 'frees', 'item', 'also']\n",
            "['This', 'product', 'good', 'They', 'bring', 'guitar', 'bag', 'box', '.', 'There', 'cable', 'wire', ',', 'guitar', 'belt', ',', 'strings', 'set', ',', 'pick', ',', 'frees', 'item', '.', 'The', 'box', 'already', 'open', 'deliver', '.', 'Why', '?', 'Please', 'check', '.', 'I', 'want', 'frees', 'item', 'also'] [1, 1, 1, 1, 1, 2, 1, 2, 4, 1, 1, 1, 4, 2, 1, 4, 1, 1, 4, 1, 4, 2, 2, 4, 1, 2, 1, 1, 1, 4, 1, 1, 1, 1, 4, 1, 1, 2, 2, 1]\n"
          ]
        }
      ]
    },
    {
      "cell_type": "code",
      "source": [
        "for i in range(len(filtered_sentence)):\n",
        "    print(str(filtered_sentence[i])+\"==\"+str(wordfreq[i]))"
      ],
      "metadata": {
        "colab": {
          "base_uri": "https://localhost:8080/"
        },
        "id": "w5Mriq7AMJXZ",
        "outputId": "f60fa074-d315-4762-8cc9-15fb7a0eaa54"
      },
      "execution_count": null,
      "outputs": [
        {
          "output_type": "stream",
          "name": "stdout",
          "text": [
            "This==1\n",
            "product==1\n",
            "good==1\n",
            "They==1\n",
            "bring==1\n",
            "guitar==2\n",
            "bag==1\n",
            "box==2\n",
            ".==4\n",
            "There==1\n",
            "cable==1\n",
            "wire==1\n",
            ",==4\n",
            "guitar==2\n",
            "belt==1\n",
            ",==4\n",
            "strings==1\n",
            "set==1\n",
            ",==4\n",
            "pick==1\n",
            ",==4\n",
            "frees==2\n",
            "item==2\n",
            ".==4\n",
            "The==1\n",
            "box==2\n",
            "already==1\n",
            "open==1\n",
            "deliver==1\n",
            ".==4\n",
            "Why==1\n",
            "?==1\n",
            "Please==1\n",
            "check==1\n",
            ".==4\n",
            "I==1\n",
            "want==1\n",
            "frees==2\n",
            "item==2\n",
            "also==1\n"
          ]
        }
      ]
    },
    {
      "cell_type": "code",
      "source": [
        "import matplotlib.pyplot as plt\n",
        "plt.bar(filtered_sentence[:10],wordfreq[:10])\n",
        "plt.show()"
      ],
      "metadata": {
        "colab": {
          "base_uri": "https://localhost:8080/",
          "height": 265
        },
        "id": "t_NbWeENMaBA",
        "outputId": "3b4ea464-b7d1-44a2-994b-44ed50c2bf17"
      },
      "execution_count": null,
      "outputs": [
        {
          "output_type": "display_data",
          "data": {
            "text/plain": [
              "<Figure size 432x288 with 1 Axes>"
            ],
            "image/png": "[encoded data removed]"
          },
          "metadata": {
            "needs_background": "light"
          }
        }
      ]
    },
    {
      "cell_type": "code",
      "source": [
        "plt.barh(filtered_sentence[:15], wordfreq[:15])\n",
        " \n",
        "# setting label of y-axis\n",
        "plt.ylabel(\"words\")\n",
        " \n",
        "# setting label of x-axis\n",
        "plt.xlabel(\"count\")\n",
        "plt.title(\"Horizontal bar graph\")\n",
        "plt.show()"
      ],
      "metadata": {
        "colab": {
          "base_uri": "https://localhost:8080/",
          "height": 295
        },
        "id": "pWpTPi1oMnyF",
        "outputId": "f877b18b-0714-4c18-8636-c9d1162cda37"
      },
      "execution_count": null,
      "outputs": [
        {
          "output_type": "display_data",
          "data": {
            "text/plain": [
              "<Figure size 432x288 with 1 Axes>"
            ],
            "image/png": "[encoded data removed]"
          },
          "metadata": {
            "needs_background": "light"
          }
        }
      ]
    },
    {
      "cell_type": "code",
      "source": [
        "tamil_text=\" இந்த தயாரிப்பு நன்றாக இருக்கிறது ஆனால் அவர்கள் பெட்டியில் கிட்டார் மற்றும் பையை மட்டுமே கொண்டு வருகிறார்கள். கேபிள் வயர், கிட்டார் பெல்ட், ஸ்டிரிங்ஸ் செட், பிக், ஃப்ரீஸ் உருப்படி அனைத்தும் உள்ளன. அவர்கள் என்னிடம் வழங்குவதற்கு முன்பே பெட்டி திறந்திருந்தது. அது ஏன்? தயவுசெய்து சாிபார்க்கவும் . நான் அனைத்து இலவச பொருட்களையும் விரும்புகிறேன்\""
      ],
      "metadata": {
        "id": "y21UrDQFMzFv"
      },
      "execution_count": null,
      "outputs": []
    },
    {
      "cell_type": "code",
      "source": [
        "\n",
        "\n",
        "word_tokens = word_tokenize(tamil_text)\n"
      ],
      "metadata": {
        "id": "ZpRYQriYO7HJ"
      },
      "execution_count": null,
      "outputs": []
    },
    {
      "cell_type": "code",
      "source": [
        "pip install advertools "
      ],
      "metadata": {
        "colab": {
          "base_uri": "https://localhost:8080/"
        },
        "id": "V-XXiGzEPEJH",
        "outputId": "507d48b9-227c-4fae-be02-a5c33577595b"
      },
      "execution_count": null,
      "outputs": [
        {
          "output_type": "stream",
          "name": "stdout",
          "text": [
            "Looking in indexes: https://pypi.org/simple, https://us-python.pkg.dev/colab-wheels/public/simple/\n",
            "Collecting advertools\n",
            "  Downloading advertools-0.13.1-py2.py3-none-any.whl (309 kB)\n",
            "\u001b[K     |████████████████████████████████| 309 kB 7.6 MB/s \n",
            "\u001b[?25hCollecting twython\n",
            "  Downloading twython-3.9.1-py3-none-any.whl (33 kB)\n",
            "Requirement already satisfied: pandas in /usr/local/lib/python3.7/dist-packages (from advertools) (1.3.5)\n",
            "Requirement already satisfied: pyarrow in /usr/local/lib/python3.7/dist-packages (from advertools) (6.0.1)\n",
            "Requirement already satisfied: pyasn1 in /usr/local/lib/python3.7/dist-packages (from advertools) (0.4.8)\n",
            "Collecting scrapy\n",
            "  Downloading Scrapy-2.6.2-py2.py3-none-any.whl (264 kB)\n",
            "\u001b[K     |████████████████████████████████| 264 kB 40.0 MB/s \n",
            "\u001b[?25hRequirement already satisfied: pytz>=2017.3 in /usr/local/lib/python3.7/dist-packages (from pandas->advertools) (2022.1)\n",
            "Requirement already satisfied: python-dateutil>=2.7.3 in /usr/local/lib/python3.7/dist-packages (from pandas->advertools) (2.8.2)\n",
            "Requirement already satisfied: numpy>=1.17.3 in /usr/local/lib/python3.7/dist-packages (from pandas->advertools) (1.21.6)\n",
            "Requirement already satisfied: six>=1.5 in /usr/local/lib/python3.7/dist-packages (from python-dateutil>=2.7.3->pandas->advertools) (1.15.0)\n",
            "Collecting Twisted>=17.9.0\n",
            "  Downloading Twisted-22.4.0-py3-none-any.whl (3.1 MB)\n",
            "\u001b[K     |████████████████████████████████| 3.1 MB 49.1 MB/s \n",
            "\u001b[?25hCollecting cssselect>=0.9.1\n",
            "  Downloading cssselect-1.1.0-py2.py3-none-any.whl (16 kB)\n",
            "Requirement already satisfied: setuptools in /usr/local/lib/python3.7/dist-packages (from scrapy->advertools) (57.4.0)\n",
            "Collecting itemloaders>=1.0.1\n",
            "  Downloading itemloaders-1.0.4-py3-none-any.whl (11 kB)\n",
            "Collecting PyDispatcher>=2.0.5\n",
            "  Downloading PyDispatcher-2.0.5.zip (47 kB)\n",
            "\u001b[K     |████████████████████████████████| 47 kB 2.1 MB/s \n",
            "\u001b[?25hCollecting w3lib>=1.17.0\n",
            "  Downloading w3lib-1.22.0-py2.py3-none-any.whl (20 kB)\n",
            "Collecting pyOpenSSL>=16.2.0\n",
            "  Downloading pyOpenSSL-22.0.0-py2.py3-none-any.whl (55 kB)\n",
            "\u001b[K     |████████████████████████████████| 55 kB 4.7 MB/s \n",
            "\u001b[?25hCollecting zope.interface>=4.1.3\n",
            "  Downloading zope.interface-5.4.0-cp37-cp37m-manylinux2010_x86_64.whl (251 kB)\n",
            "\u001b[K     |████████████████████████████████| 251 kB 54.9 MB/s \n",
            "\u001b[?25hCollecting queuelib>=1.4.2\n",
            "  Downloading queuelib-1.6.2-py2.py3-none-any.whl (13 kB)\n",
            "Collecting parsel>=1.5.0\n",
            "  Downloading parsel-1.6.0-py2.py3-none-any.whl (13 kB)\n",
            "Collecting itemadapter>=0.1.0\n",
            "  Downloading itemadapter-0.7.0-py3-none-any.whl (10 kB)\n",
            "Collecting cryptography>=2.0\n",
            "  Downloading cryptography-37.0.4-cp36-abi3-manylinux_2_24_x86_64.whl (4.1 MB)\n",
            "\u001b[K     |████████████████████████████████| 4.1 MB 47.2 MB/s \n",
            "\u001b[?25hCollecting service-identity>=16.0.0\n",
            "  Downloading service_identity-21.1.0-py2.py3-none-any.whl (12 kB)\n",
            "Collecting protego>=0.1.15\n",
            "  Downloading Protego-0.2.1-py2.py3-none-any.whl (8.2 kB)\n",
            "Collecting tldextract\n",
            "  Downloading tldextract-3.3.1-py3-none-any.whl (93 kB)\n",
            "\u001b[K     |████████████████████████████████| 93 kB 2.5 MB/s \n",
            "\u001b[?25hRequirement already satisfied: lxml>=3.5.0 in /usr/local/lib/python3.7/dist-packages (from scrapy->advertools) (4.9.1)\n",
            "Requirement already satisfied: cffi>=1.12 in /usr/local/lib/python3.7/dist-packages (from cryptography>=2.0->scrapy->advertools) (1.15.1)\n",
            "Requirement already satisfied: pycparser in /usr/local/lib/python3.7/dist-packages (from cffi>=1.12->cryptography>=2.0->scrapy->advertools) (2.21)\n",
            "Collecting jmespath>=0.9.5\n",
            "  Downloading jmespath-1.0.1-py3-none-any.whl (20 kB)\n",
            "Requirement already satisfied: attrs>=19.1.0 in /usr/local/lib/python3.7/dist-packages (from service-identity>=16.0.0->scrapy->advertools) (22.1.0)\n",
            "Requirement already satisfied: pyasn1-modules in /usr/local/lib/python3.7/dist-packages (from service-identity>=16.0.0->scrapy->advertools) (0.2.8)\n",
            "Collecting Automat>=0.8.0\n",
            "  Downloading Automat-20.2.0-py2.py3-none-any.whl (31 kB)\n",
            "Requirement already satisfied: typing-extensions>=3.6.5 in /usr/local/lib/python3.7/dist-packages (from Twisted>=17.9.0->scrapy->advertools) (4.1.1)\n",
            "Collecting hyperlink>=17.1.1\n",
            "  Downloading hyperlink-21.0.0-py2.py3-none-any.whl (74 kB)\n",
            "\u001b[K     |████████████████████████████████| 74 kB 3.9 MB/s \n",
            "\u001b[?25hCollecting incremental>=21.3.0\n",
            "  Downloading incremental-21.3.0-py2.py3-none-any.whl (15 kB)\n",
            "Collecting constantly>=15.1\n",
            "  Downloading constantly-15.1.0-py2.py3-none-any.whl (7.9 kB)\n",
            "Requirement already satisfied: idna>=2.5 in /usr/local/lib/python3.7/dist-packages (from hyperlink>=17.1.1->Twisted>=17.9.0->scrapy->advertools) (2.10)\n",
            "Collecting requests-file>=1.4\n",
            "  Downloading requests_file-1.5.1-py2.py3-none-any.whl (3.7 kB)\n",
            "Requirement already satisfied: requests>=2.1.0 in /usr/local/lib/python3.7/dist-packages (from tldextract->scrapy->advertools) (2.23.0)\n",
            "Requirement already satisfied: filelock>=3.0.8 in /usr/local/lib/python3.7/dist-packages (from tldextract->scrapy->advertools) (3.7.1)\n",
            "Requirement already satisfied: urllib3!=1.25.0,!=1.25.1,<1.26,>=1.21.1 in /usr/local/lib/python3.7/dist-packages (from requests>=2.1.0->tldextract->scrapy->advertools) (1.24.3)\n",
            "Requirement already satisfied: chardet<4,>=3.0.2 in /usr/local/lib/python3.7/dist-packages (from requests>=2.1.0->tldextract->scrapy->advertools) (3.0.4)\n",
            "Requirement already satisfied: certifi>=2017.4.17 in /usr/local/lib/python3.7/dist-packages (from requests>=2.1.0->tldextract->scrapy->advertools) (2022.6.15)\n",
            "Requirement already satisfied: requests-oauthlib>=0.4.0 in /usr/local/lib/python3.7/dist-packages (from twython->advertools) (1.3.1)\n",
            "Requirement already satisfied: oauthlib>=3.0.0 in /usr/local/lib/python3.7/dist-packages (from requests-oauthlib>=0.4.0->twython->advertools) (3.2.0)\n",
            "Building wheels for collected packages: PyDispatcher\n",
            "  Building wheel for PyDispatcher (setup.py) ... \u001b[?25l\u001b[?25hdone\n",
            "  Created wheel for PyDispatcher: filename=PyDispatcher-2.0.5-py3-none-any.whl size=11516 sha256=9b7b7b836eec07a10017a8edc00a3c6e69cfac7f1171515895bf9e20923be27e\n",
            "  Stored in directory: /root/.cache/pip/wheels/2d/18/21/3c6a732eaa69a339198e08bb63b7da2c45933a3428b29ec454\n",
            "Successfully built PyDispatcher\n",
            "Installing collected packages: w3lib, cssselect, zope.interface, requests-file, parsel, jmespath, itemadapter, incremental, hyperlink, cryptography, constantly, Automat, Twisted, tldextract, service-identity, queuelib, pyOpenSSL, PyDispatcher, protego, itemloaders, twython, scrapy, advertools\n",
            "Successfully installed Automat-20.2.0 PyDispatcher-2.0.5 Twisted-22.4.0 advertools-0.13.1 constantly-15.1.0 cryptography-37.0.4 cssselect-1.1.0 hyperlink-21.0.0 incremental-21.3.0 itemadapter-0.7.0 itemloaders-1.0.4 jmespath-1.0.1 parsel-1.6.0 protego-0.2.1 pyOpenSSL-22.0.0 queuelib-1.6.2 requests-file-1.5.1 scrapy-2.6.2 service-identity-21.1.0 tldextract-3.3.1 twython-3.9.1 w3lib-1.22.0 zope.interface-5.4.0\n"
          ]
        }
      ]
    },
    {
      "cell_type": "code",
      "source": [
        "import advertools as adv\n",
        "adv.stopwords.keys()"
      ],
      "metadata": {
        "colab": {
          "base_uri": "https://localhost:8080/"
        },
        "id": "nQaPeAKiPPUA",
        "outputId": "850cb411-5017-4a22-f800-4051bfbbd644"
      },
      "execution_count": null,
      "outputs": [
        {
          "output_type": "execute_result",
          "data": {
            "text/plain": [
              "dict_keys(['arabic', 'azerbaijani', 'bengali', 'catalan', 'chinese', 'croatian', 'danish', 'dutch', 'english', 'finnish', 'french', 'german', 'greek', 'hebrew', 'hindi', 'hungarian', 'indonesian', 'irish', 'italian', 'japanese', 'kazakh', 'nepali', 'norwegian', 'persian', 'polish', 'portuguese', 'romanian', 'russian', 'sinhala', 'spanish', 'swedish', 'tagalog', 'tamil', 'tatar', 'telugu', 'thai', 'turkish', 'ukrainian', 'urdu', 'vietnamese'])"
            ]
          },
          "metadata": {},
          "execution_count": 18
        }
      ]
    },
    {
      "cell_type": "code",
      "source": [
        "stop_words=sorted(adv.stopwords['tamil'])"
      ],
      "metadata": {
        "id": "OsGiCyx3PRyj"
      },
      "execution_count": null,
      "outputs": []
    },
    {
      "cell_type": "code",
      "source": [
        "word_tokens = word_tokenize(tamil_text)\n",
        "word_tokens"
      ],
      "metadata": {
        "colab": {
          "base_uri": "https://localhost:8080/"
        },
        "id": "3PESlwpZPZTw",
        "outputId": "e9476e0d-4a6b-47fc-c60d-29855b8b2b94"
      },
      "execution_count": null,
      "outputs": [
        {
          "output_type": "execute_result",
          "data": {
            "text/plain": [
              "['இந்த',\n",
              " 'தயாரிப்பு',\n",
              " 'நன்றாக',\n",
              " 'இருக்கிறது',\n",
              " 'ஆனால்',\n",
              " 'அவர்கள்',\n",
              " 'பெட்டியில்',\n",
              " 'கிட்டார்',\n",
              " 'மற்றும்',\n",
              " 'பையை',\n",
              " 'மட்டுமே',\n",
              " 'கொண்டு',\n",
              " 'வருகிறார்கள்',\n",
              " '.',\n",
              " 'கேபிள்',\n",
              " 'வயர்',\n",
              " ',',\n",
              " 'கிட்டார்',\n",
              " 'பெல்ட்',\n",
              " ',',\n",
              " 'ஸ்டிரிங்ஸ்',\n",
              " 'செட்',\n",
              " ',',\n",
              " 'பிக்',\n",
              " ',',\n",
              " 'ஃப்ரீஸ்',\n",
              " 'உருப்படி',\n",
              " 'அனைத்தும்',\n",
              " 'உள்ளன',\n",
              " '.',\n",
              " 'அவர்கள்',\n",
              " 'என்னிடம்',\n",
              " 'வழங்குவதற்கு',\n",
              " 'முன்பே',\n",
              " 'பெட்டி',\n",
              " 'திறந்திருந்தது',\n",
              " '.',\n",
              " 'அது',\n",
              " 'ஏன்',\n",
              " '?',\n",
              " 'தயவுசெய்து',\n",
              " 'சாிபார்க்கவும்',\n",
              " '.',\n",
              " 'நான்',\n",
              " 'அனைத்து',\n",
              " 'இலவச',\n",
              " 'பொருட்களையும்',\n",
              " 'விரும்புகிறேன்']"
            ]
          },
          "metadata": {},
          "execution_count": 20
        }
      ]
    },
    {
      "cell_type": "code",
      "source": [
        "filtered_sentence = [w for w in word_tokens if not w in stop_words]"
      ],
      "metadata": {
        "id": "H_gxopLHPiO3"
      },
      "execution_count": null,
      "outputs": []
    },
    {
      "cell_type": "code",
      "source": [
        "filtered_sentence = []\n",
        "\n",
        "for w in word_tokens:\n",
        "    if w not in stop_words:\n",
        "        filtered_sentence.append(w)\n",
        "\n",
        "print(filtered_sentence)\n",
        "\n",
        "wordfreq = []\n",
        "for w in filtered_sentence:\n",
        "    wordfreq.append(filtered_sentence.count(w))\n",
        "\n",
        "print(filtered_sentence,wordfreq)"
      ],
      "metadata": {
        "colab": {
          "base_uri": "https://localhost:8080/"
        },
        "id": "FH9MoczVPkCh",
        "outputId": "b0f76c92-7b7a-4605-f991-fb761823ad92"
      },
      "execution_count": null,
      "outputs": [
        {
          "output_type": "stream",
          "name": "stdout",
          "text": [
            "['தயாரிப்பு', 'நன்றாக', 'இருக்கிறது', 'ஆனால்', 'பெட்டியில்', 'கிட்டார்', 'பையை', 'வருகிறார்கள்', '.', 'கேபிள்', 'வயர்', ',', 'கிட்டார்', 'பெல்ட்', ',', 'ஸ்டிரிங்ஸ்', 'செட்', ',', 'பிக்', ',', 'ஃப்ரீஸ்', 'உருப்படி', 'அனைத்தும்', '.', 'என்னிடம்', 'வழங்குவதற்கு', 'முன்பே', 'பெட்டி', 'திறந்திருந்தது', '.', '?', 'தயவுசெய்து', 'சாிபார்க்கவும்', '.', 'அனைத்து', 'இலவச', 'பொருட்களையும்', 'விரும்புகிறேன்']\n",
            "['தயாரிப்பு', 'நன்றாக', 'இருக்கிறது', 'ஆனால்', 'பெட்டியில்', 'கிட்டார்', 'பையை', 'வருகிறார்கள்', '.', 'கேபிள்', 'வயர்', ',', 'கிட்டார்', 'பெல்ட்', ',', 'ஸ்டிரிங்ஸ்', 'செட்', ',', 'பிக்', ',', 'ஃப்ரீஸ்', 'உருப்படி', 'அனைத்தும்', '.', 'என்னிடம்', 'வழங்குவதற்கு', 'முன்பே', 'பெட்டி', 'திறந்திருந்தது', '.', '?', 'தயவுசெய்து', 'சாிபார்க்கவும்', '.', 'அனைத்து', 'இலவச', 'பொருட்களையும்', 'விரும்புகிறேன்'] [1, 1, 1, 1, 1, 2, 1, 1, 4, 1, 1, 4, 2, 1, 4, 1, 1, 4, 1, 4, 1, 1, 1, 4, 1, 1, 1, 1, 1, 4, 1, 1, 1, 4, 1, 1, 1, 1]\n"
          ]
        }
      ]
    },
    {
      "cell_type": "code",
      "source": [
        "import matplotlib.pyplot as plt\n",
        " \n",
        "# getting values against each value of y\n",
        "x=[5,24,35,67,12]\n",
        "plt.barh(filtered_sentence[:7], wordfreq[:7])\n",
        " \n",
        "# setting label of y-axis\n",
        "plt.ylabel(\"words\")\n",
        " \n",
        "# setting label of x-axis\n",
        "plt.xlabel(\"count\")\n",
        "plt.title(\"Horizontal bar graph\")\n",
        "plt.show()"
      ],
      "metadata": {
        "colab": {
          "base_uri": "https://localhost:8080/",
          "height": 1000
        },
        "id": "ze2-SdZyPpZm",
        "outputId": "2196ae3e-6335-4a80-8f80-c2a068892854"
      },
      "execution_count": null,
      "outputs": [
        {
          "output_type": "stream",
          "name": "stderr",
          "text": [
            "/usr/local/lib/python3.7/dist-packages/matplotlib/backends/backend_agg.py:214: RuntimeWarning: Glyph 2980 missing from current font.\n",
            "  font.set_text(s, 0.0, flags=flags)\n",
            "/usr/local/lib/python3.7/dist-packages/matplotlib/backends/backend_agg.py:214: RuntimeWarning: Glyph 2991 missing from current font.\n",
            "  font.set_text(s, 0.0, flags=flags)\n",
            "/usr/local/lib/python3.7/dist-packages/matplotlib/backends/backend_agg.py:214: RuntimeWarning: Glyph 3006 missing from current font.\n",
            "  font.set_text(s, 0.0, flags=flags)\n",
            "/usr/local/lib/python3.7/dist-packages/matplotlib/backends/backend_agg.py:214: RuntimeWarning: Glyph 2992 missing from current font.\n",
            "  font.set_text(s, 0.0, flags=flags)\n",
            "/usr/local/lib/python3.7/dist-packages/matplotlib/backends/backend_agg.py:214: RuntimeWarning: Glyph 3007 missing from current font.\n",
            "  font.set_text(s, 0.0, flags=flags)\n",
            "/usr/local/lib/python3.7/dist-packages/matplotlib/backends/backend_agg.py:214: RuntimeWarning: Glyph 2986 missing from current font.\n",
            "  font.set_text(s, 0.0, flags=flags)\n",
            "/usr/local/lib/python3.7/dist-packages/matplotlib/backends/backend_agg.py:214: RuntimeWarning: Glyph 3021 missing from current font.\n",
            "  font.set_text(s, 0.0, flags=flags)\n",
            "/usr/local/lib/python3.7/dist-packages/matplotlib/backends/backend_agg.py:214: RuntimeWarning: Glyph 3009 missing from current font.\n",
            "  font.set_text(s, 0.0, flags=flags)\n",
            "/usr/local/lib/python3.7/dist-packages/matplotlib/backends/backend_agg.py:214: RuntimeWarning: Glyph 2984 missing from current font.\n",
            "  font.set_text(s, 0.0, flags=flags)\n",
            "/usr/local/lib/python3.7/dist-packages/matplotlib/backends/backend_agg.py:214: RuntimeWarning: Glyph 2985 missing from current font.\n",
            "  font.set_text(s, 0.0, flags=flags)\n",
            "/usr/local/lib/python3.7/dist-packages/matplotlib/backends/backend_agg.py:214: RuntimeWarning: Glyph 2993 missing from current font.\n",
            "  font.set_text(s, 0.0, flags=flags)\n",
            "/usr/local/lib/python3.7/dist-packages/matplotlib/backends/backend_agg.py:214: RuntimeWarning: Glyph 2965 missing from current font.\n",
            "  font.set_text(s, 0.0, flags=flags)\n",
            "/usr/local/lib/python3.7/dist-packages/matplotlib/backends/backend_agg.py:214: RuntimeWarning: Glyph 2951 missing from current font.\n",
            "  font.set_text(s, 0.0, flags=flags)\n",
            "/usr/local/lib/python3.7/dist-packages/matplotlib/backends/backend_agg.py:214: RuntimeWarning: Glyph 2950 missing from current font.\n",
            "  font.set_text(s, 0.0, flags=flags)\n",
            "/usr/local/lib/python3.7/dist-packages/matplotlib/backends/backend_agg.py:214: RuntimeWarning: Glyph 2994 missing from current font.\n",
            "  font.set_text(s, 0.0, flags=flags)\n",
            "/usr/local/lib/python3.7/dist-packages/matplotlib/backends/backend_agg.py:214: RuntimeWarning: Glyph 3014 missing from current font.\n",
            "  font.set_text(s, 0.0, flags=flags)\n",
            "/usr/local/lib/python3.7/dist-packages/matplotlib/backends/backend_agg.py:214: RuntimeWarning: Glyph 2975 missing from current font.\n",
            "  font.set_text(s, 0.0, flags=flags)\n",
            "/usr/local/lib/python3.7/dist-packages/matplotlib/backends/backend_agg.py:214: RuntimeWarning: Glyph 3016 missing from current font.\n",
            "  font.set_text(s, 0.0, flags=flags)\n",
            "/usr/local/lib/python3.7/dist-packages/matplotlib/backends/backend_agg.py:183: RuntimeWarning: Glyph 2980 missing from current font.\n",
            "  font.set_text(s, 0, flags=flags)\n",
            "/usr/local/lib/python3.7/dist-packages/matplotlib/backends/backend_agg.py:183: RuntimeWarning: Glyph 2991 missing from current font.\n",
            "  font.set_text(s, 0, flags=flags)\n",
            "/usr/local/lib/python3.7/dist-packages/matplotlib/backends/backend_agg.py:183: RuntimeWarning: Glyph 3006 missing from current font.\n",
            "  font.set_text(s, 0, flags=flags)\n",
            "/usr/local/lib/python3.7/dist-packages/matplotlib/backends/backend_agg.py:183: RuntimeWarning: Glyph 2992 missing from current font.\n",
            "  font.set_text(s, 0, flags=flags)\n",
            "/usr/local/lib/python3.7/dist-packages/matplotlib/backends/backend_agg.py:183: RuntimeWarning: Glyph 3007 missing from current font.\n",
            "  font.set_text(s, 0, flags=flags)\n",
            "/usr/local/lib/python3.7/dist-packages/matplotlib/backends/backend_agg.py:183: RuntimeWarning: Glyph 2986 missing from current font.\n",
            "  font.set_text(s, 0, flags=flags)\n",
            "/usr/local/lib/python3.7/dist-packages/matplotlib/backends/backend_agg.py:183: RuntimeWarning: Glyph 3021 missing from current font.\n",
            "  font.set_text(s, 0, flags=flags)\n",
            "/usr/local/lib/python3.7/dist-packages/matplotlib/backends/backend_agg.py:183: RuntimeWarning: Glyph 3009 missing from current font.\n",
            "  font.set_text(s, 0, flags=flags)\n",
            "/usr/local/lib/python3.7/dist-packages/matplotlib/backends/backend_agg.py:183: RuntimeWarning: Glyph 2984 missing from current font.\n",
            "  font.set_text(s, 0, flags=flags)\n",
            "/usr/local/lib/python3.7/dist-packages/matplotlib/backends/backend_agg.py:183: RuntimeWarning: Glyph 2985 missing from current font.\n",
            "  font.set_text(s, 0, flags=flags)\n",
            "/usr/local/lib/python3.7/dist-packages/matplotlib/backends/backend_agg.py:183: RuntimeWarning: Glyph 2993 missing from current font.\n",
            "  font.set_text(s, 0, flags=flags)\n",
            "/usr/local/lib/python3.7/dist-packages/matplotlib/backends/backend_agg.py:183: RuntimeWarning: Glyph 2965 missing from current font.\n",
            "  font.set_text(s, 0, flags=flags)\n",
            "/usr/local/lib/python3.7/dist-packages/matplotlib/backends/backend_agg.py:183: RuntimeWarning: Glyph 2951 missing from current font.\n",
            "  font.set_text(s, 0, flags=flags)\n",
            "/usr/local/lib/python3.7/dist-packages/matplotlib/backends/backend_agg.py:183: RuntimeWarning: Glyph 2950 missing from current font.\n",
            "  font.set_text(s, 0, flags=flags)\n",
            "/usr/local/lib/python3.7/dist-packages/matplotlib/backends/backend_agg.py:183: RuntimeWarning: Glyph 2994 missing from current font.\n",
            "  font.set_text(s, 0, flags=flags)\n",
            "/usr/local/lib/python3.7/dist-packages/matplotlib/backends/backend_agg.py:183: RuntimeWarning: Glyph 3014 missing from current font.\n",
            "  font.set_text(s, 0, flags=flags)\n",
            "/usr/local/lib/python3.7/dist-packages/matplotlib/backends/backend_agg.py:183: RuntimeWarning: Glyph 2975 missing from current font.\n",
            "  font.set_text(s, 0, flags=flags)\n",
            "/usr/local/lib/python3.7/dist-packages/matplotlib/backends/backend_agg.py:183: RuntimeWarning: Glyph 3016 missing from current font.\n",
            "  font.set_text(s, 0, flags=flags)\n"
          ]
        },
        {
          "output_type": "display_data",
          "data": {
            "text/plain": [
              "<Figure size 432x288 with 1 Axes>"
            ],
            "image/png": "[encoded data removed]"
          },
          "metadata": {
            "needs_background": "light"
          }
        }
      ]
    },
    {
      "cell_type": "code",
      "source": [
        "stop_words=sorted(adv.stopwords['hindi'])"
      ],
      "metadata": {
        "id": "8oGztwRRPvjQ"
      },
      "execution_count": null,
      "outputs": []
    },
    {
      "cell_type": "code",
      "source": [
        "stop_words"
      ],
      "metadata": {
        "colab": {
          "base_uri": "https://localhost:8080/"
        },
        "id": "FGaoOc41P0P2",
        "outputId": "16df8b2a-bdd6-42f2-cf38-78016d07c005"
      },
      "execution_count": null,
      "outputs": [
        {
          "output_type": "execute_result",
          "data": {
            "text/plain": [
              "['अंदर',\n",
              " 'अत',\n",
              " 'अदि',\n",
              " 'अप',\n",
              " 'अपना',\n",
              " 'अपनि',\n",
              " 'अपनी',\n",
              " 'अपने',\n",
              " 'अभि',\n",
              " 'अभी',\n",
              " 'आदि',\n",
              " 'आप',\n",
              " 'इंहिं',\n",
              " 'इंहें',\n",
              " 'इंहों',\n",
              " 'इतयादि',\n",
              " 'इत्यादि',\n",
              " 'इन',\n",
              " 'इनका',\n",
              " 'इन्हीं',\n",
              " 'इन्हें',\n",
              " 'इन्हों',\n",
              " 'इस',\n",
              " 'इसका',\n",
              " 'इसकि',\n",
              " 'इसकी',\n",
              " 'इसके',\n",
              " 'इसमें',\n",
              " 'इसि',\n",
              " 'इसी',\n",
              " 'इसे',\n",
              " 'उंहिं',\n",
              " 'उंहें',\n",
              " 'उंहों',\n",
              " 'उन',\n",
              " 'उनका',\n",
              " 'उनकि',\n",
              " 'उनकी',\n",
              " 'उनके',\n",
              " 'उनको',\n",
              " 'उन्हीं',\n",
              " 'उन्हें',\n",
              " 'उन्हों',\n",
              " 'उस',\n",
              " 'उसके',\n",
              " 'उसि',\n",
              " 'उसी',\n",
              " 'उसे',\n",
              " 'एक',\n",
              " 'एवं',\n",
              " 'एस',\n",
              " 'एसे',\n",
              " 'ऐसे',\n",
              " 'ओर',\n",
              " 'और',\n",
              " 'कइ',\n",
              " 'कई',\n",
              " 'कर',\n",
              " 'करता',\n",
              " 'करते',\n",
              " 'करना',\n",
              " 'करने',\n",
              " 'करें',\n",
              " 'कहते',\n",
              " 'कहा',\n",
              " 'का',\n",
              " 'काफि',\n",
              " 'काफ़ी',\n",
              " 'कि',\n",
              " 'किंहें',\n",
              " 'किंहों',\n",
              " 'कितना',\n",
              " 'किन्हें',\n",
              " 'किन्हों',\n",
              " 'किया',\n",
              " 'किर',\n",
              " 'किस',\n",
              " 'किसि',\n",
              " 'किसी',\n",
              " 'किसे',\n",
              " 'की',\n",
              " 'कुछ',\n",
              " 'कुल',\n",
              " 'के',\n",
              " 'को',\n",
              " 'कोइ',\n",
              " 'कोई',\n",
              " 'कोन',\n",
              " 'कोनसा',\n",
              " 'कौन',\n",
              " 'कौनसा',\n",
              " 'गया',\n",
              " 'घर',\n",
              " 'जब',\n",
              " 'जहाँ',\n",
              " 'जहां',\n",
              " 'जा',\n",
              " 'जिंहें',\n",
              " 'जिंहों',\n",
              " 'जितना',\n",
              " 'जिधर',\n",
              " 'जिन',\n",
              " 'जिन्हें',\n",
              " 'जिन्हों',\n",
              " 'जिस',\n",
              " 'जिसे',\n",
              " 'जीधर',\n",
              " 'जेसा',\n",
              " 'जेसे',\n",
              " 'जैसा',\n",
              " 'जैसे',\n",
              " 'जो',\n",
              " 'तक',\n",
              " 'तब',\n",
              " 'तरह',\n",
              " 'तिंहें',\n",
              " 'तिंहों',\n",
              " 'तिन',\n",
              " 'तिन्हें',\n",
              " 'तिन्हों',\n",
              " 'तिस',\n",
              " 'तिसे',\n",
              " 'तो',\n",
              " 'था',\n",
              " 'थि',\n",
              " 'थी',\n",
              " 'थे',\n",
              " 'दबारा',\n",
              " 'दवारा',\n",
              " 'दिया',\n",
              " 'दुसरा',\n",
              " 'दुसरे',\n",
              " 'दूसरे',\n",
              " 'दो',\n",
              " 'द्वारा',\n",
              " 'न',\n",
              " 'नहिं',\n",
              " 'नहीं',\n",
              " 'ना',\n",
              " 'निचे',\n",
              " 'निहायत',\n",
              " 'नीचे',\n",
              " 'ने',\n",
              " 'पर',\n",
              " 'पहले',\n",
              " 'पुरा',\n",
              " 'पूरा',\n",
              " 'पे',\n",
              " 'फिर',\n",
              " 'बनि',\n",
              " 'बनी',\n",
              " 'बहि',\n",
              " 'बही',\n",
              " 'बहुत',\n",
              " 'बाद',\n",
              " 'बाला',\n",
              " 'बिलकुल',\n",
              " 'भि',\n",
              " 'भितर',\n",
              " 'भी',\n",
              " 'भीतर',\n",
              " 'मगर',\n",
              " 'मानो',\n",
              " 'मे',\n",
              " 'में',\n",
              " 'यदि',\n",
              " 'यह',\n",
              " 'यहाँ',\n",
              " 'यहां',\n",
              " 'यहि',\n",
              " 'यही',\n",
              " 'या',\n",
              " 'यिह',\n",
              " 'ये',\n",
              " 'रखें',\n",
              " 'रवासा',\n",
              " 'रहा',\n",
              " 'रहे',\n",
              " 'ऱ्वासा',\n",
              " 'लिए',\n",
              " 'लिये',\n",
              " 'लेकिन',\n",
              " 'व',\n",
              " 'वगेरह',\n",
              " 'वरग',\n",
              " 'वर्ग',\n",
              " 'वह',\n",
              " 'वहाँ',\n",
              " 'वहां',\n",
              " 'वहिं',\n",
              " 'वहीं',\n",
              " 'वाले',\n",
              " 'वुह',\n",
              " 'वे',\n",
              " 'वग़ैरह',\n",
              " 'संग',\n",
              " 'सकता',\n",
              " 'सकते',\n",
              " 'सबसे',\n",
              " 'सभि',\n",
              " 'सभी',\n",
              " 'साथ',\n",
              " 'साबुत',\n",
              " 'साभ',\n",
              " 'सारा',\n",
              " 'से',\n",
              " 'सो',\n",
              " 'हि',\n",
              " 'ही',\n",
              " 'हुअ',\n",
              " 'हुआ',\n",
              " 'हुइ',\n",
              " 'हुई',\n",
              " 'हुए',\n",
              " 'हे',\n",
              " 'हें',\n",
              " 'है',\n",
              " 'हैं',\n",
              " 'हो',\n",
              " 'होता',\n",
              " 'होति',\n",
              " 'होती',\n",
              " 'होते',\n",
              " 'होना',\n",
              " 'होने']"
            ]
          },
          "metadata": {},
          "execution_count": 25
        }
      ]
    },
    {
      "cell_type": "code",
      "source": [
        "hindi_text=\" यह उत्पाद अच्छा है लेकिन वे बॉक्स में केवल गिटार और बैग लाते हैं। केबल वायर, गिटार बेल्ट, स्ट्रिंग्स सेट, पिक, सभी फ़्री आइटम पर है। उनके मेरे पास पहुँचाने से पहले ही बक्सा खुला था। क्यों यह है? कृपया जांचें । मुझे सभी फ़्री आइटम भी चाहिए\""
      ],
      "metadata": {
        "id": "pytwL50VQPPU"
      },
      "execution_count": null,
      "outputs": []
    },
    {
      "cell_type": "code",
      "source": [
        "word_tokens = word_tokenize(hindi_text)"
      ],
      "metadata": {
        "id": "JGNBdmz7QjW5"
      },
      "execution_count": null,
      "outputs": []
    },
    {
      "cell_type": "code",
      "source": [
        "filtered_sentence = [w for w in word_tokens if not w in stop_words]"
      ],
      "metadata": {
        "id": "fnHCIc_VQqWO"
      },
      "execution_count": null,
      "outputs": []
    },
    {
      "cell_type": "code",
      "source": [
        "filtered_sentence = []\n",
        "\n",
        "for w in word_tokens:\n",
        "    if w not in stop_words:\n",
        "        filtered_sentence.append(w)\n",
        "\n",
        "print(filtered_sentence)\n",
        "\n",
        "wordfreq = []\n",
        "for w in filtered_sentence:\n",
        "    wordfreq.append(filtered_sentence.count(w))\n",
        "\n",
        "print(filtered_sentence,wordfreq)"
      ],
      "metadata": {
        "colab": {
          "base_uri": "https://localhost:8080/"
        },
        "id": "HrOFHcJ7Qt-m",
        "outputId": "9486994c-afd4-4005-fd63-b34e9861c121"
      },
      "execution_count": null,
      "outputs": [
        {
          "output_type": "stream",
          "name": "stdout",
          "text": [
            "['उत्पाद', 'अच्छा', 'बॉक्स', 'केवल', 'गिटार', 'बैग', 'लाते', 'हैं।', 'केबल', 'वायर', ',', 'गिटार', 'बेल्ट', ',', 'स्ट्रिंग्स', 'सेट', ',', 'पिक', ',', 'फ़्री', 'आइटम', 'है।', 'मेरे', 'पास', 'पहुँचाने', 'बक्सा', 'खुला', 'था।', 'क्यों', '?', 'कृपया', 'जांचें', '।', 'मुझे', 'फ़्री', 'आइटम', 'चाहिए']\n",
            "['उत्पाद', 'अच्छा', 'बॉक्स', 'केवल', 'गिटार', 'बैग', 'लाते', 'हैं।', 'केबल', 'वायर', ',', 'गिटार', 'बेल्ट', ',', 'स्ट्रिंग्स', 'सेट', ',', 'पिक', ',', 'फ़्री', 'आइटम', 'है।', 'मेरे', 'पास', 'पहुँचाने', 'बक्सा', 'खुला', 'था।', 'क्यों', '?', 'कृपया', 'जांचें', '।', 'मुझे', 'फ़्री', 'आइटम', 'चाहिए'] [1, 1, 1, 1, 2, 1, 1, 1, 1, 1, 4, 2, 1, 4, 1, 1, 4, 1, 4, 2, 2, 1, 1, 1, 1, 1, 1, 1, 1, 1, 1, 1, 1, 1, 2, 2, 1]\n"
          ]
        }
      ]
    },
    {
      "cell_type": "code",
      "source": [
        "import matplotlib.pyplot as plt\n",
        " \n",
        "# getting values against each value of y\n",
        "x=[5,24,35,67,12]\n",
        "plt.barh(filtered_sentence[:10], wordfreq[:10])\n",
        " \n",
        "# setting label of y-axis\n",
        "plt.ylabel(\"words\")\n",
        " \n",
        "# setting label of x-axis\n",
        "plt.xlabel(\"count\")\n",
        "plt.title(\"Horizontal bar graph\")\n",
        "plt.show()"
      ],
      "metadata": {
        "colab": {
          "base_uri": "https://localhost:8080/",
          "height": 1000
        },
        "id": "lS5CJrQYQycL",
        "outputId": "da36fc93-092c-427e-d726-7e729b58a850"
      },
      "execution_count": null,
      "outputs": [
        {
          "output_type": "stream",
          "name": "stderr",
          "text": [
            "/usr/local/lib/python3.7/dist-packages/matplotlib/backends/backend_agg.py:214: RuntimeWarning: Glyph 2313 missing from current font.\n",
            "  font.set_text(s, 0.0, flags=flags)\n",
            "/usr/local/lib/python3.7/dist-packages/matplotlib/backends/backend_agg.py:214: RuntimeWarning: Glyph 2340 missing from current font.\n",
            "  font.set_text(s, 0.0, flags=flags)\n",
            "/usr/local/lib/python3.7/dist-packages/matplotlib/backends/backend_agg.py:214: RuntimeWarning: Glyph 2381 missing from current font.\n",
            "  font.set_text(s, 0.0, flags=flags)\n",
            "/usr/local/lib/python3.7/dist-packages/matplotlib/backends/backend_agg.py:214: RuntimeWarning: Glyph 2346 missing from current font.\n",
            "  font.set_text(s, 0.0, flags=flags)\n",
            "/usr/local/lib/python3.7/dist-packages/matplotlib/backends/backend_agg.py:214: RuntimeWarning: Glyph 2366 missing from current font.\n",
            "  font.set_text(s, 0.0, flags=flags)\n",
            "/usr/local/lib/python3.7/dist-packages/matplotlib/backends/backend_agg.py:214: RuntimeWarning: Glyph 2342 missing from current font.\n",
            "  font.set_text(s, 0.0, flags=flags)\n",
            "/usr/local/lib/python3.7/dist-packages/matplotlib/backends/backend_agg.py:214: RuntimeWarning: Glyph 2309 missing from current font.\n",
            "  font.set_text(s, 0.0, flags=flags)\n",
            "/usr/local/lib/python3.7/dist-packages/matplotlib/backends/backend_agg.py:214: RuntimeWarning: Glyph 2330 missing from current font.\n",
            "  font.set_text(s, 0.0, flags=flags)\n",
            "/usr/local/lib/python3.7/dist-packages/matplotlib/backends/backend_agg.py:214: RuntimeWarning: Glyph 2331 missing from current font.\n",
            "  font.set_text(s, 0.0, flags=flags)\n",
            "/usr/local/lib/python3.7/dist-packages/matplotlib/backends/backend_agg.py:214: RuntimeWarning: Glyph 2348 missing from current font.\n",
            "  font.set_text(s, 0.0, flags=flags)\n",
            "/usr/local/lib/python3.7/dist-packages/matplotlib/backends/backend_agg.py:214: RuntimeWarning: Glyph 2377 missing from current font.\n",
            "  font.set_text(s, 0.0, flags=flags)\n",
            "/usr/local/lib/python3.7/dist-packages/matplotlib/backends/backend_agg.py:214: RuntimeWarning: Glyph 2325 missing from current font.\n",
            "  font.set_text(s, 0.0, flags=flags)\n",
            "/usr/local/lib/python3.7/dist-packages/matplotlib/backends/backend_agg.py:214: RuntimeWarning: Glyph 2360 missing from current font.\n",
            "  font.set_text(s, 0.0, flags=flags)\n",
            "/usr/local/lib/python3.7/dist-packages/matplotlib/backends/backend_agg.py:214: RuntimeWarning: Glyph 2375 missing from current font.\n",
            "  font.set_text(s, 0.0, flags=flags)\n",
            "/usr/local/lib/python3.7/dist-packages/matplotlib/backends/backend_agg.py:214: RuntimeWarning: Glyph 2357 missing from current font.\n",
            "  font.set_text(s, 0.0, flags=flags)\n",
            "/usr/local/lib/python3.7/dist-packages/matplotlib/backends/backend_agg.py:214: RuntimeWarning: Glyph 2354 missing from current font.\n",
            "  font.set_text(s, 0.0, flags=flags)\n",
            "/usr/local/lib/python3.7/dist-packages/matplotlib/backends/backend_agg.py:214: RuntimeWarning: Glyph 2327 missing from current font.\n",
            "  font.set_text(s, 0.0, flags=flags)\n",
            "/usr/local/lib/python3.7/dist-packages/matplotlib/backends/backend_agg.py:214: RuntimeWarning: Glyph 2367 missing from current font.\n",
            "  font.set_text(s, 0.0, flags=flags)\n",
            "/usr/local/lib/python3.7/dist-packages/matplotlib/backends/backend_agg.py:214: RuntimeWarning: Glyph 2335 missing from current font.\n",
            "  font.set_text(s, 0.0, flags=flags)\n",
            "/usr/local/lib/python3.7/dist-packages/matplotlib/backends/backend_agg.py:214: RuntimeWarning: Glyph 2352 missing from current font.\n",
            "  font.set_text(s, 0.0, flags=flags)\n",
            "/usr/local/lib/python3.7/dist-packages/matplotlib/backends/backend_agg.py:214: RuntimeWarning: Glyph 2376 missing from current font.\n",
            "  font.set_text(s, 0.0, flags=flags)\n",
            "/usr/local/lib/python3.7/dist-packages/matplotlib/backends/backend_agg.py:214: RuntimeWarning: Glyph 2361 missing from current font.\n",
            "  font.set_text(s, 0.0, flags=flags)\n",
            "/usr/local/lib/python3.7/dist-packages/matplotlib/backends/backend_agg.py:214: RuntimeWarning: Glyph 2306 missing from current font.\n",
            "  font.set_text(s, 0.0, flags=flags)\n",
            "/usr/local/lib/python3.7/dist-packages/matplotlib/backends/backend_agg.py:214: RuntimeWarning: Glyph 2404 missing from current font.\n",
            "  font.set_text(s, 0.0, flags=flags)\n",
            "/usr/local/lib/python3.7/dist-packages/matplotlib/backends/backend_agg.py:214: RuntimeWarning: Glyph 2351 missing from current font.\n",
            "  font.set_text(s, 0.0, flags=flags)\n",
            "/usr/local/lib/python3.7/dist-packages/matplotlib/backends/backend_agg.py:183: RuntimeWarning: Glyph 2313 missing from current font.\n",
            "  font.set_text(s, 0, flags=flags)\n",
            "/usr/local/lib/python3.7/dist-packages/matplotlib/backends/backend_agg.py:183: RuntimeWarning: Glyph 2340 missing from current font.\n",
            "  font.set_text(s, 0, flags=flags)\n",
            "/usr/local/lib/python3.7/dist-packages/matplotlib/backends/backend_agg.py:183: RuntimeWarning: Glyph 2381 missing from current font.\n",
            "  font.set_text(s, 0, flags=flags)\n",
            "/usr/local/lib/python3.7/dist-packages/matplotlib/backends/backend_agg.py:183: RuntimeWarning: Glyph 2346 missing from current font.\n",
            "  font.set_text(s, 0, flags=flags)\n",
            "/usr/local/lib/python3.7/dist-packages/matplotlib/backends/backend_agg.py:183: RuntimeWarning: Glyph 2366 missing from current font.\n",
            "  font.set_text(s, 0, flags=flags)\n",
            "/usr/local/lib/python3.7/dist-packages/matplotlib/backends/backend_agg.py:183: RuntimeWarning: Glyph 2342 missing from current font.\n",
            "  font.set_text(s, 0, flags=flags)\n",
            "/usr/local/lib/python3.7/dist-packages/matplotlib/backends/backend_agg.py:183: RuntimeWarning: Glyph 2309 missing from current font.\n",
            "  font.set_text(s, 0, flags=flags)\n",
            "/usr/local/lib/python3.7/dist-packages/matplotlib/backends/backend_agg.py:183: RuntimeWarning: Glyph 2330 missing from current font.\n",
            "  font.set_text(s, 0, flags=flags)\n",
            "/usr/local/lib/python3.7/dist-packages/matplotlib/backends/backend_agg.py:183: RuntimeWarning: Glyph 2331 missing from current font.\n",
            "  font.set_text(s, 0, flags=flags)\n",
            "/usr/local/lib/python3.7/dist-packages/matplotlib/backends/backend_agg.py:183: RuntimeWarning: Glyph 2348 missing from current font.\n",
            "  font.set_text(s, 0, flags=flags)\n",
            "/usr/local/lib/python3.7/dist-packages/matplotlib/backends/backend_agg.py:183: RuntimeWarning: Glyph 2377 missing from current font.\n",
            "  font.set_text(s, 0, flags=flags)\n",
            "/usr/local/lib/python3.7/dist-packages/matplotlib/backends/backend_agg.py:183: RuntimeWarning: Glyph 2325 missing from current font.\n",
            "  font.set_text(s, 0, flags=flags)\n",
            "/usr/local/lib/python3.7/dist-packages/matplotlib/backends/backend_agg.py:183: RuntimeWarning: Glyph 2360 missing from current font.\n",
            "  font.set_text(s, 0, flags=flags)\n",
            "/usr/local/lib/python3.7/dist-packages/matplotlib/backends/backend_agg.py:183: RuntimeWarning: Glyph 2375 missing from current font.\n",
            "  font.set_text(s, 0, flags=flags)\n",
            "/usr/local/lib/python3.7/dist-packages/matplotlib/backends/backend_agg.py:183: RuntimeWarning: Glyph 2357 missing from current font.\n",
            "  font.set_text(s, 0, flags=flags)\n",
            "/usr/local/lib/python3.7/dist-packages/matplotlib/backends/backend_agg.py:183: RuntimeWarning: Glyph 2354 missing from current font.\n",
            "  font.set_text(s, 0, flags=flags)\n",
            "/usr/local/lib/python3.7/dist-packages/matplotlib/backends/backend_agg.py:183: RuntimeWarning: Glyph 2327 missing from current font.\n",
            "  font.set_text(s, 0, flags=flags)\n",
            "/usr/local/lib/python3.7/dist-packages/matplotlib/backends/backend_agg.py:183: RuntimeWarning: Glyph 2367 missing from current font.\n",
            "  font.set_text(s, 0, flags=flags)\n",
            "/usr/local/lib/python3.7/dist-packages/matplotlib/backends/backend_agg.py:183: RuntimeWarning: Glyph 2335 missing from current font.\n",
            "  font.set_text(s, 0, flags=flags)\n",
            "/usr/local/lib/python3.7/dist-packages/matplotlib/backends/backend_agg.py:183: RuntimeWarning: Glyph 2352 missing from current font.\n",
            "  font.set_text(s, 0, flags=flags)\n",
            "/usr/local/lib/python3.7/dist-packages/matplotlib/backends/backend_agg.py:183: RuntimeWarning: Glyph 2376 missing from current font.\n",
            "  font.set_text(s, 0, flags=flags)\n",
            "/usr/local/lib/python3.7/dist-packages/matplotlib/backends/backend_agg.py:183: RuntimeWarning: Glyph 2361 missing from current font.\n",
            "  font.set_text(s, 0, flags=flags)\n",
            "/usr/local/lib/python3.7/dist-packages/matplotlib/backends/backend_agg.py:183: RuntimeWarning: Glyph 2306 missing from current font.\n",
            "  font.set_text(s, 0, flags=flags)\n",
            "/usr/local/lib/python3.7/dist-packages/matplotlib/backends/backend_agg.py:183: RuntimeWarning: Glyph 2404 missing from current font.\n",
            "  font.set_text(s, 0, flags=flags)\n",
            "/usr/local/lib/python3.7/dist-packages/matplotlib/backends/backend_agg.py:183: RuntimeWarning: Glyph 2351 missing from current font.\n",
            "  font.set_text(s, 0, flags=flags)\n"
          ]
        },
        {
          "output_type": "display_data",
          "data": {
            "text/plain": [
              "<Figure size 432x288 with 1 Axes>"
            ],
            "image/png": "[encoded data removed]"
          },
          "metadata": {
            "needs_background": "light"
          }
        }
      ]
    },
    {
      "cell_type": "code",
      "source": [
        "tokenize_spanish = nltk.data.load('tokenizers/punkt/PY3/spanish.pickle')"
      ],
      "metadata": {
        "id": "U_6ypF09AiSR"
      },
      "execution_count": null,
      "outputs": []
    },
    {
      "cell_type": "code",
      "source": [
        "spanish_text =\" Este producto es bueno pero solo traen guitarra y bolsa en la caja. Hay cable, cinturón de guitarra, juego de cuerdas, púas, todo el artículo libre. La caja ya estaba abierta antes de que me la entregaran. ¿Por qué es? Por favor, compruebe . Quiero todo el artículo gratis también\""
      ],
      "metadata": {
        "id": "kRPTmMZgCs1N"
      },
      "execution_count": null,
      "outputs": []
    },
    {
      "cell_type": "code",
      "source": [
        "tokenize_spanish.tokenize(spanish_text)"
      ],
      "metadata": {
        "colab": {
          "base_uri": "https://localhost:8080/"
        },
        "id": "cZR9vbmrCs4E",
        "outputId": "51b32cc4-db92-4473-d261-421bbe7075b3"
      },
      "execution_count": null,
      "outputs": [
        {
          "output_type": "execute_result",
          "data": {
            "text/plain": [
              "[' Este producto es bueno pero solo traen guitarra y bolsa en la caja.',\n",
              " 'Hay cable, cinturón de guitarra, juego de cuerdas, púas, todo el artículo libre.',\n",
              " 'La caja ya estaba abierta antes de que me la entregaran.',\n",
              " '¿Por qué es?',\n",
              " 'Por favor, compruebe .',\n",
              " 'Quiero todo el artículo gratis también']"
            ]
          },
          "metadata": {},
          "execution_count": 33
        }
      ]
    },
    {
      "cell_type": "code",
      "source": [
        "text = \" Dieses Produkt ist gut, aber sie bringen nur Gitarre und Tasche in der Box. Es gibt auf Kabeldraht, Gitarrengurt, Saitensatz, Plektrum, alle kostenlosen Artikel. Die Box war bereits geöffnet, bevor sie zu mir geliefert wurden. Warum ist es? Bitte prüfen . Ich möchte auch alle kostenlosen Artikel\""
      ],
      "metadata": {
        "id": "mxQRXMuGDalX"
      },
      "execution_count": null,
      "outputs": []
    },
    {
      "cell_type": "code",
      "source": [
        "from nltk.tokenize import sent_tokenize"
      ],
      "metadata": {
        "id": "TljfRwMlFyl4"
      },
      "execution_count": null,
      "outputs": []
    },
    {
      "cell_type": "code",
      "source": [
        "token_text = sent_tokenize(text, language='german')"
      ],
      "metadata": {
        "id": "b3k6CS8rF5bh"
      },
      "execution_count": null,
      "outputs": []
    },
    {
      "cell_type": "code",
      "source": [
        "print(\"\\nSentence-tokenized copy in a list:\")\n"
      ],
      "metadata": {
        "colab": {
          "base_uri": "https://localhost:8080/"
        },
        "id": "MGr4O_-vF_YP",
        "outputId": "3bfd9ce3-6ab4-480a-e542-88d58d042b6b"
      },
      "execution_count": null,
      "outputs": [
        {
          "output_type": "stream",
          "name": "stdout",
          "text": [
            "\n",
            "Sentence-tokenized copy in a list:\n"
          ]
        }
      ]
    },
    {
      "cell_type": "code",
      "source": [
        "\n",
        "print(token_text)\n",
        "print(\"\\nRead the list:\")\n"
      ],
      "metadata": {
        "colab": {
          "base_uri": "https://localhost:8080/"
        },
        "id": "vjFPT3-AGJkk",
        "outputId": "4ba9afaa-d482-47a9-c0c3-8d3ffd2064ba"
      },
      "execution_count": null,
      "outputs": [
        {
          "output_type": "stream",
          "name": "stdout",
          "text": [
            "[' Dieses Produkt ist gut, aber sie bringen nur Gitarre und Tasche in der Box.', 'Es gibt auf Kabeldraht, Gitarrengurt, Saitensatz, Plektrum, alle kostenlosen Artikel.', 'Die Box war bereits geöffnet, bevor sie zu mir geliefert wurden.', 'Warum ist es?', 'Bitte prüfen .', 'Ich möchte auch alle kostenlosen Artikel']\n",
            "\n",
            "Read the list:\n"
          ]
        }
      ]
    },
    {
      "cell_type": "code",
      "source": [
        "\n",
        "for s in token_text:\n",
        "  print(s)"
      ],
      "metadata": {
        "colab": {
          "base_uri": "https://localhost:8080/"
        },
        "id": "PHt4BDRgGPZj",
        "outputId": "3fbc567e-cb4f-4ab5-b442-8a4ce972ef5c"
      },
      "execution_count": null,
      "outputs": [
        {
          "output_type": "stream",
          "name": "stdout",
          "text": [
            " Dieses Produkt ist gut, aber sie bringen nur Gitarre und Tasche in der Box.\n",
            "Es gibt auf Kabeldraht, Gitarrengurt, Saitensatz, Plektrum, alle kostenlosen Artikel.\n",
            "Die Box war bereits geöffnet, bevor sie zu mir geliefert wurden.\n",
            "Warum ist es?\n",
            "Bitte prüfen .\n",
            "Ich möchte auch alle kostenlosen Artikel\n"
          ]
        }
      ]
    },
    {
      "cell_type": "code",
      "source": [
        "french_text = \" Ce produit est bon mais ils n'apportent que la guitare et le sac dans la boîte. Il y a sur le fil de câble, la ceinture de guitare, le jeu de cordes, le médiator, tous les articles gratuits. La boîte était déjà ouverte avant qu'ils ne me livrent. Pourquoi est-ce? Vérifiez s'il vous plaît . Je veux aussi tous les articles gratuits\"\n"
      ],
      "metadata": {
        "id": "2bOXhb6rGT_y"
      },
      "execution_count": null,
      "outputs": []
    },
    {
      "cell_type": "code",
      "source": [
        "from nltk.tokenize import (WhitespaceTokenizer)"
      ],
      "metadata": {
        "id": "Fnz1thIiHR7h"
      },
      "execution_count": null,
      "outputs": []
    },
    {
      "cell_type": "code",
      "source": [
        "from nltk.tokenize import sent_tokenize"
      ],
      "metadata": {
        "id": "BMfC-Ln_G-14"
      },
      "execution_count": null,
      "outputs": []
    },
    {
      "cell_type": "code",
      "source": [
        "tokenf_text = sent_tokenize(text, language='french')"
      ],
      "metadata": {
        "id": "jfsx1lX9H0f0"
      },
      "execution_count": null,
      "outputs": []
    },
    {
      "cell_type": "code",
      "source": [
        "print (tokenf_text)"
      ],
      "metadata": {
        "colab": {
          "base_uri": "https://localhost:8080/"
        },
        "id": "C8VvzpMQH-A4",
        "outputId": "f2a0bd4f-f00c-4dca-9fad-e0551073f0d4"
      },
      "execution_count": null,
      "outputs": [
        {
          "output_type": "stream",
          "name": "stdout",
          "text": [
            "[' Dieses Produkt ist gut, aber sie bringen nur Gitarre und Tasche in der Box.', 'Es gibt auf Kabeldraht, Gitarrengurt, Saitensatz, Plektrum, alle kostenlosen Artikel.', 'Die Box war bereits geöffnet, bevor sie zu mir geliefert wurden.', 'Warum ist es?', 'Bitte prüfen .', 'Ich möchte auch alle kostenlosen Artikel']\n"
          ]
        }
      ]
    },
    {
      "cell_type": "code",
      "source": [
        "for a in tokenf_text:\n",
        "  print(a)"
      ],
      "metadata": {
        "colab": {
          "base_uri": "https://localhost:8080/"
        },
        "id": "k_a70gUWIFZP",
        "outputId": "13092f40-97e3-4779-d2a8-7166d4bddfc5"
      },
      "execution_count": null,
      "outputs": [
        {
          "output_type": "stream",
          "name": "stdout",
          "text": [
            " Dieses Produkt ist gut, aber sie bringen nur Gitarre und Tasche in der Box.\n",
            "Es gibt auf Kabeldraht, Gitarrengurt, Saitensatz, Plektrum, alle kostenlosen Artikel.\n",
            "Die Box war bereits geöffnet, bevor sie zu mir geliefert wurden.\n",
            "Warum ist es?\n",
            "Bitte prüfen .\n",
            "Ich möchte auch alle kostenlosen Artikel\n"
          ]
        }
      ]
    },
    {
      "cell_type": "code",
      "source": [
        "mal_text= \" ഹാർഡ് കെയ്‌സ്, എർണി ബോൾ സ്‌ട്രാപ്പ്, ഇലക്ട്രിക് ട്യൂണർ, ട്രെമാഫോൺ എന്നിവയുമായാണ് ഗിറ്റാർ വന്നതെന്ന് അദ്ദേഹം പരസ്യത്തിൽ പറഞ്ഞു. ഒരു സോഫ്റ്റ് കെയ്‌സ് ഉപയോഗിച്ച് മാത്രമാണ് ഗിറ്റാർ വിതരണം ചെയ്തത്. മറ്റെല്ലാ സാധനങ്ങളും നഷ്ടപ്പെട്ടു\""
      ],
      "metadata": {
        "id": "kIYH5Gxz-lyn"
      },
      "execution_count": null,
      "outputs": []
    },
    {
      "cell_type": "code",
      "source": [
        "tokenize_malayalam.tokenize(mal_text)\n"
      ],
      "metadata": {
        "id": "-GxY7s60ADyN",
        "colab": {
          "base_uri": "https://localhost:8080/",
          "height": 165
        },
        "outputId": "dce3c71d-2c4d-4dd8-abdf-7458d66ae9fb"
      },
      "execution_count": null,
      "outputs": [
        {
          "output_type": "error",
          "ename": "NameError",
          "evalue": "ignored",
          "traceback": [
            "\u001b[0;31m---------------------------------------------------------------------------\u001b[0m",
            "\u001b[0;31mNameError\u001b[0m                                 Traceback (most recent call last)",
            "\u001b[0;32m<ipython-input-47-93cf934b733d>\u001b[0m in \u001b[0;36m<module>\u001b[0;34m()\u001b[0m\n\u001b[0;32m----> 1\u001b[0;31m \u001b[0mtokenize_malayalam\u001b[0m\u001b[0;34m.\u001b[0m\u001b[0mtokenize\u001b[0m\u001b[0;34m(\u001b[0m\u001b[0mmal_text\u001b[0m\u001b[0;34m)\u001b[0m\u001b[0;34m\u001b[0m\u001b[0;34m\u001b[0m\u001b[0m\n\u001b[0m",
            "\u001b[0;31mNameError\u001b[0m: name 'tokenize_malayalam' is not defined"
          ]
        }
      ]
    }
  ]
}