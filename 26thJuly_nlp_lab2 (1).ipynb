{
  "nbformat": 4,
  "nbformat_minor": 0,
  "metadata": {
    "colab": {
      "provenance": [],
      "collapsed_sections": []
    },
    "kernelspec": {
      "name": "python3",
      "display_name": "Python 3"
    },
    "language_info": {
      "name": "python"
    }
  },
  "cells": [
    {
      "cell_type": "code",
      "execution_count": null,
      "metadata": {
        "colab": {
          "base_uri": "https://localhost:8080/"
        },
        "id": "hkcl4MWfuGGR",
        "outputId": "60c5ecd6-4508-465b-c53d-29bc85aec451"
      },
      "outputs": [
        {
          "output_type": "stream",
          "name": "stderr",
          "text": [
            "[nltk_data] Downloading package stopwords to /root/nltk_data...\n",
            "[nltk_data]   Unzipping corpora/stopwords.zip.\n"
          ]
        },
        {
          "output_type": "execute_result",
          "data": {
            "text/plain": [
              "True"
            ]
          },
          "metadata": {},
          "execution_count": 6
        }
      ],
      "source": [
        "import nltk\n",
        "nltk.download('stopwords')"
      ]
    },
    {
      "cell_type": "code",
      "source": [
        "nltk.download('punkt')\n"
      ],
      "metadata": {
        "colab": {
          "base_uri": "https://localhost:8080/"
        },
        "id": "C1LrITGs9ud5",
        "outputId": "bef11710-04da-4aab-a6e2-02273e12ad33"
      },
      "execution_count": null,
      "outputs": [
        {
          "output_type": "stream",
          "name": "stderr",
          "text": [
            "[nltk_data] Downloading package punkt to /root/nltk_data...\n",
            "[nltk_data]   Unzipping tokenizers/punkt.zip.\n"
          ]
        },
        {
          "output_type": "execute_result",
          "data": {
            "text/plain": [
              "True"
            ]
          },
          "metadata": {},
          "execution_count": 7
        }
      ]
    },
    {
      "cell_type": "code",
      "source": [
        "from nltk.corpus import stopwords\n",
        "from nltk.tokenize import word_tokenize\n",
        "from nltk.probability import FreqDist"
      ],
      "metadata": {
        "id": "UJpVst7z91yM"
      },
      "execution_count": null,
      "outputs": []
    },
    {
      "cell_type": "code",
      "source": [
        "example_sent = \"I worked for amazon for a contract period of 6 months literally i have been to hell,Amazon is a good place to work if you are looking for higher pay scale, and you don't care about the pressure they put you through. For amazon you will only be a NUMBER not a human being. The good thing is the salary and benefits are good compared to other companies as you will get goodies, gifts, meal coupons, night shift allowance. Also amazon gift cards during peak season. There is no Job security because you have to constantly maintain your numbers. Work life balance is terrible. Think a lot before you join.\"\n",
        "\n",
        "stop_words = set(stopwords.words('english'))\n",
        "\n",
        "word_tokens = word_tokenize(example_sent)\n",
        "\n",
        "filtered_sentence = [w for w in word_tokens if not w in stop_words]\n",
        "\n",
        "filtered_sentence = []\n",
        "\n",
        "for w in word_tokens:\n",
        "    if w not in stop_words:\n",
        "        filtered_sentence.append(w)\n",
        "\n",
        "print(filtered_sentence)n\n",
        "\n",
        "\n",
        "wordfreq = []\n",
        "for w in filtered_sentence:\n",
        "    wordfreq.append(filtered_sentence.count(w))\n",
        "\n",
        "print(filtered_sentence,wordfreq)"
      ],
      "metadata": {
        "colab": {
          "base_uri": "https://localhost:8080/"
        },
        "id": "XVdUzjvs96bX",
        "outputId": "58ee2173-70b2-4ef6-c48e-792783f7d49d"
      },
      "execution_count": null,
      "outputs": [
        {
          "output_type": "stream",
          "name": "stdout",
          "text": [
            "['I', 'worked', 'amazon', 'contract', 'period', '6', 'months', 'literally', 'hell', ',', 'Amazon', 'good', 'place', 'work', 'looking', 'higher', 'pay', 'scale', ',', \"n't\", 'care', 'pressure', 'put', '.', 'For', 'amazon', 'NUMBER', 'human', '.', 'The', 'good', 'thing', 'salary', 'benefits', 'good', 'compared', 'companies', 'get', 'goodies', ',', 'gifts', ',', 'meal', 'coupons', ',', 'night', 'shift', 'allowance', '.', 'Also', 'amazon', 'gift', 'cards', 'peak', 'season', '.', 'There', 'Job', 'security', 'constantly', 'maintain', 'numbers', '.', 'Work', 'life', 'balance', 'terrible', '.', 'Think', 'lot', 'join', '.']\n",
            "['I', 'worked', 'amazon', 'contract', 'period', '6', 'months', 'literally', 'hell', ',', 'Amazon', 'good', 'place', 'work', 'looking', 'higher', 'pay', 'scale', ',', \"n't\", 'care', 'pressure', 'put', '.', 'For', 'amazon', 'NUMBER', 'human', '.', 'The', 'good', 'thing', 'salary', 'benefits', 'good', 'compared', 'companies', 'get', 'goodies', ',', 'gifts', ',', 'meal', 'coupons', ',', 'night', 'shift', 'allowance', '.', 'Also', 'amazon', 'gift', 'cards', 'peak', 'season', '.', 'There', 'Job', 'security', 'constantly', 'maintain', 'numbers', '.', 'Work', 'life', 'balance', 'terrible', '.', 'Think', 'lot', 'join', '.'] [1, 1, 3, 1, 1, 1, 1, 1, 1, 5, 1, 3, 1, 1, 1, 1, 1, 1, 5, 1, 1, 1, 1, 7, 1, 3, 1, 1, 7, 1, 3, 1, 1, 1, 3, 1, 1, 1, 1, 5, 1, 5, 1, 1, 5, 1, 1, 1, 7, 1, 3, 1, 1, 1, 1, 7, 1, 1, 1, 1, 1, 1, 7, 1, 1, 1, 1, 7, 1, 1, 1, 7]\n"
          ]
        }
      ]
    }
  ]
}